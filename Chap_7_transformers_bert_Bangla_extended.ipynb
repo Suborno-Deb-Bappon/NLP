{
 "cells": [
  {
   "cell_type": "markdown",
   "metadata": {
    "colab_type": "text",
    "id": "view-in-github"
   },
   "source": [
    "<a href=\"https://colab.research.google.com/github/raqueeb/nlp_bangla/blob/master/Chap_7_transformers_bert_Bangla_extended.ipynb\" target=\"_parent\"><img src=\"https://colab.research.google.com/assets/colab-badge.svg\" alt=\"Open In Colab\"/></a>"
   ]
  },
  {
   "cell_type": "markdown",
   "metadata": {
    "id": "qhKkypOWCqUf"
   },
   "source": [
    "## হাতেকলমে ন্যাচারাল ল্যাঙ্গুয়েজ প্রসেসিং: শুরুর ধারণা\r\n",
    "\r\n",
    "[৭ম অধ্যায়](https://aiwithr.github.io/nlpbook/)"
   ]
  },
  {
   "cell_type": "code",
   "execution_count": 1,
   "metadata": {
    "id": "fwzkt5-V3jdE"
   },
   "outputs": [],
   "source": [
    "import os\r\n",
    "os.environ['KAGGLE_USERNAME'] = \"raqueeb\" # username from the json file\r\n",
    "os.environ['KAGGLE_KEY'] = \"7d6bb294264708d37ce5520a6fca7252\""
   ]
  },
  {
   "cell_type": "code",
   "execution_count": 2,
   "metadata": {
    "colab": {
     "base_uri": "https://localhost:8080/"
    },
    "id": "XrFM-OrO7W0-",
    "outputId": "285a9c50-c567-43f3-9591-0af363924a0d"
   },
   "outputs": [
    {
     "name": "stdout",
     "output_type": "stream",
     "text": [
      "Warning: Looks like you're using an outdated API Version, please consider updating (server 1.5.10 / client 1.5.4)\n",
      "name                  size  creationDate         \n",
      "--------------------  ----  -------------------  \n",
      "data_v2/data_v2.json   2GB  2020-10-21 06:09:48  \n",
      "data/data.json         4GB  2020-10-21 06:09:48  \n"
     ]
    }
   ],
   "source": [
    "!kaggle datasets files furcifer/bangla-newspaper-dataset"
   ]
  },
  {
   "cell_type": "code",
   "execution_count": 3,
   "metadata": {
    "colab": {
     "base_uri": "https://localhost:8080/"
    },
    "id": "jIyp50fp74xW",
    "outputId": "367b2230-4434-4174-bbce-dd61357b6f55"
   },
   "outputs": [
    {
     "name": "stdout",
     "output_type": "stream",
     "text": [
      "Downloading data_v2.json.zip to /content\n",
      " 95% 422M/444M [00:01<00:00, 269MB/s]\n",
      "100% 444M/444M [00:01<00:00, 255MB/s]\n"
     ]
    }
   ],
   "source": [
    "!kaggle datasets download furcifer/bangla-newspaper-dataset -f data_v2/data_v2.json"
   ]
  },
  {
   "cell_type": "code",
   "execution_count": 4,
   "metadata": {
    "colab": {
     "base_uri": "https://localhost:8080/"
    },
    "id": "4AvTTLQC8rcH",
    "outputId": "f92580df-2134-42e4-9e39-20bb0c528b37"
   },
   "outputs": [
    {
     "name": "stdout",
     "output_type": "stream",
     "text": [
      "Archive:  data_v2.json.zip\n",
      "  inflating: data_v2.json            \n"
     ]
    }
   ],
   "source": [
    "!unzip data_v2.json.zip"
   ]
  },
  {
   "cell_type": "code",
   "execution_count": 5,
   "metadata": {
    "id": "80fNufRp9DO1"
   },
   "outputs": [],
   "source": [
    "import json\r\n",
    "with open('data_v2.json', encoding='utf-8') as f:\r\n",
    "    datastore = json.load(f)\r\n",
    "\r\n",
    "sentences = []\r\n",
    "labels = []\r\n",
    "\r\n",
    "for item in datastore:\r\n",
    "    sentences.append(item['content'])\r\n",
    "    labels.append(item['category'])"
   ]
  },
  {
   "cell_type": "code",
   "execution_count": null,
   "metadata": {
    "colab": {
     "base_uri": "https://localhost:8080/"
    },
    "id": "UPYu-ud19uPy",
    "outputId": "12673ce5-d1d9-4753-a700-23471db0b4a2"
   },
   "outputs": [
    {
     "data": {
      "text/plain": [
       "{'bangladesh',\n",
       " 'economy',\n",
       " 'education',\n",
       " 'entertainment',\n",
       " 'international',\n",
       " 'life-style',\n",
       " 'opinion',\n",
       " 'sports',\n",
       " 'technology'}"
      ]
     },
     "execution_count": 6,
     "metadata": {
      "tags": []
     },
     "output_type": "execute_result"
    }
   ],
   "source": [
    "set(labels)"
   ]
  },
  {
   "cell_type": "code",
   "execution_count": null,
   "metadata": {
    "id": "Jxk2yPWt-S24"
   },
   "outputs": [],
   "source": [
    "categories = list(set(labels))"
   ]
  },
  {
   "cell_type": "code",
   "execution_count": null,
   "metadata": {
    "colab": {
     "base_uri": "https://localhost:8080/"
    },
    "id": "M1O70Pv5-jCZ",
    "outputId": "88f1b263-20a4-410d-a3d8-0fb95ff5c4ca"
   },
   "outputs": [
    {
     "data": {
      "text/plain": [
       "['life-style',\n",
       " 'economy',\n",
       " 'sports',\n",
       " 'entertainment',\n",
       " 'bangladesh',\n",
       " 'education',\n",
       " 'international',\n",
       " 'technology',\n",
       " 'opinion']"
      ]
     },
     "execution_count": 8,
     "metadata": {
      "tags": []
     },
     "output_type": "execute_result"
    }
   ],
   "source": [
    "categories"
   ]
  },
  {
   "cell_type": "code",
   "execution_count": 6,
   "metadata": {
    "id": "_yVE53yk_Kxi"
   },
   "outputs": [],
   "source": [
    "from sklearn.model_selection import train_test_split\r\n",
    "\r\n",
    "X_train, X_test, y_train, y_test = train_test_split(\r\n",
    "  sentences, labels, test_size=0.2, random_state=42)"
   ]
  },
  {
   "cell_type": "code",
   "execution_count": 7,
   "metadata": {
    "colab": {
     "base_uri": "https://localhost:8080/"
    },
    "id": "nb0TMk-YDiOt",
    "outputId": "15a76b2d-fcde-45a4-a52c-6853986dedd3"
   },
   "outputs": [
    {
     "name": "stdout",
     "output_type": "stream",
     "text": [
      "Collecting ktrain\n",
      "\u001b[?25l  Downloading https://files.pythonhosted.org/packages/41/23/6f5addc2ade7c6240e2c9169bd7a9506cea17b35c9f322104a60dd4ba7fd/ktrain-0.25.2.tar.gz (25.3MB)\n",
      "\u001b[K     |████████████████████████████████| 25.3MB 138kB/s \n",
      "\u001b[?25hRequirement already satisfied: scikit-learn>=0.21.3 in /usr/local/lib/python3.6/dist-packages (from ktrain) (0.22.2.post1)\n",
      "Requirement already satisfied: matplotlib>=3.0.0 in /usr/local/lib/python3.6/dist-packages (from ktrain) (3.2.2)\n",
      "Requirement already satisfied: pandas>=1.0.1 in /usr/local/lib/python3.6/dist-packages (from ktrain) (1.1.5)\n",
      "Requirement already satisfied: fastprogress>=0.1.21 in /usr/local/lib/python3.6/dist-packages (from ktrain) (1.0.0)\n",
      "Requirement already satisfied: requests in /usr/local/lib/python3.6/dist-packages (from ktrain) (2.23.0)\n",
      "Requirement already satisfied: joblib in /usr/local/lib/python3.6/dist-packages (from ktrain) (0.17.0)\n",
      "Requirement already satisfied: packaging in /usr/local/lib/python3.6/dist-packages (from ktrain) (20.7)\n",
      "Requirement already satisfied: ipython in /usr/local/lib/python3.6/dist-packages (from ktrain) (5.5.0)\n",
      "Collecting langdetect\n",
      "\u001b[?25l  Downloading https://files.pythonhosted.org/packages/56/a3/8407c1e62d5980188b4acc45ef3d94b933d14a2ebc9ef3505f22cf772570/langdetect-1.0.8.tar.gz (981kB)\n",
      "\u001b[K     |████████████████████████████████| 983kB 51.1MB/s \n",
      "\u001b[?25hRequirement already satisfied: jieba in /usr/local/lib/python3.6/dist-packages (from ktrain) (0.42.1)\n",
      "Collecting cchardet\n",
      "\u001b[?25l  Downloading https://files.pythonhosted.org/packages/a0/e5/a0b9edd8664ea3b0d3270c451ebbf86655ed9fc4c3e4c45b9afae9c2e382/cchardet-2.1.7-cp36-cp36m-manylinux2010_x86_64.whl (263kB)\n",
      "\u001b[K     |████████████████████████████████| 266kB 52.0MB/s \n",
      "\u001b[?25hCollecting syntok\n",
      "  Downloading https://files.pythonhosted.org/packages/8c/76/a49e73a04b3e3a14ce232e8e28a1587f8108baa665644fe8c40e307e792e/syntok-1.3.1.tar.gz\n",
      "Collecting seqeval==0.0.19\n",
      "  Downloading https://files.pythonhosted.org/packages/93/e5/b7705156a77f742cfe4fc6f22d0c71591edb2d243328dff2f8fc0f933ab6/seqeval-0.0.19.tar.gz\n",
      "Collecting transformers<4.0,>=3.1.0\n",
      "\u001b[?25l  Downloading https://files.pythonhosted.org/packages/3a/83/e74092e7f24a08d751aa59b37a9fc572b2e4af3918cb66f7766c3affb1b4/transformers-3.5.1-py3-none-any.whl (1.3MB)\n",
      "\u001b[K     |████████████████████████████████| 1.3MB 49.3MB/s \n",
      "\u001b[?25hCollecting sentencepiece\n",
      "\u001b[?25l  Downloading https://files.pythonhosted.org/packages/e5/2d/6d4ca4bef9a67070fa1cac508606328329152b1df10bdf31fb6e4e727894/sentencepiece-0.1.94-cp36-cp36m-manylinux2014_x86_64.whl (1.1MB)\n",
      "\u001b[K     |████████████████████████████████| 1.1MB 36.7MB/s \n",
      "\u001b[?25hCollecting keras_bert>=0.86.0\n",
      "  Downloading https://files.pythonhosted.org/packages/e2/7f/95fabd29f4502924fa3f09ff6538c5a7d290dfef2c2fe076d3d1a16e08f0/keras-bert-0.86.0.tar.gz\n",
      "Requirement already satisfied: networkx>=2.3 in /usr/local/lib/python3.6/dist-packages (from ktrain) (2.5)\n",
      "Collecting whoosh\n",
      "\u001b[?25l  Downloading https://files.pythonhosted.org/packages/ba/19/24d0f1f454a2c1eb689ca28d2f178db81e5024f42d82729a4ff6771155cf/Whoosh-2.7.4-py2.py3-none-any.whl (468kB)\n",
      "\u001b[K     |████████████████████████████████| 471kB 53.3MB/s \n",
      "\u001b[?25hRequirement already satisfied: numpy>=1.11.0 in /usr/local/lib/python3.6/dist-packages (from scikit-learn>=0.21.3->ktrain) (1.18.5)\n",
      "Requirement already satisfied: scipy>=0.17.0 in /usr/local/lib/python3.6/dist-packages (from scikit-learn>=0.21.3->ktrain) (1.4.1)\n",
      "Requirement already satisfied: kiwisolver>=1.0.1 in /usr/local/lib/python3.6/dist-packages (from matplotlib>=3.0.0->ktrain) (1.3.1)\n",
      "Requirement already satisfied: pyparsing!=2.0.4,!=2.1.2,!=2.1.6,>=2.0.1 in /usr/local/lib/python3.6/dist-packages (from matplotlib>=3.0.0->ktrain) (2.4.7)\n",
      "Requirement already satisfied: cycler>=0.10 in /usr/local/lib/python3.6/dist-packages (from matplotlib>=3.0.0->ktrain) (0.10.0)\n",
      "Requirement already satisfied: python-dateutil>=2.1 in /usr/local/lib/python3.6/dist-packages (from matplotlib>=3.0.0->ktrain) (2.8.1)\n",
      "Requirement already satisfied: pytz>=2017.2 in /usr/local/lib/python3.6/dist-packages (from pandas>=1.0.1->ktrain) (2018.9)\n",
      "Requirement already satisfied: urllib3!=1.25.0,!=1.25.1,<1.26,>=1.21.1 in /usr/local/lib/python3.6/dist-packages (from requests->ktrain) (1.24.3)\n",
      "Requirement already satisfied: idna<3,>=2.5 in /usr/local/lib/python3.6/dist-packages (from requests->ktrain) (2.10)\n",
      "Requirement already satisfied: chardet<4,>=3.0.2 in /usr/local/lib/python3.6/dist-packages (from requests->ktrain) (3.0.4)\n",
      "Requirement already satisfied: certifi>=2017.4.17 in /usr/local/lib/python3.6/dist-packages (from requests->ktrain) (2020.12.5)\n",
      "Requirement already satisfied: traitlets>=4.2 in /usr/local/lib/python3.6/dist-packages (from ipython->ktrain) (4.3.3)\n",
      "Requirement already satisfied: setuptools>=18.5 in /usr/local/lib/python3.6/dist-packages (from ipython->ktrain) (50.3.2)\n",
      "Requirement already satisfied: simplegeneric>0.8 in /usr/local/lib/python3.6/dist-packages (from ipython->ktrain) (0.8.1)\n",
      "Requirement already satisfied: decorator in /usr/local/lib/python3.6/dist-packages (from ipython->ktrain) (4.4.2)\n",
      "Requirement already satisfied: pygments in /usr/local/lib/python3.6/dist-packages (from ipython->ktrain) (2.6.1)\n",
      "Requirement already satisfied: pexpect; sys_platform != \"win32\" in /usr/local/lib/python3.6/dist-packages (from ipython->ktrain) (4.8.0)\n",
      "Requirement already satisfied: pickleshare in /usr/local/lib/python3.6/dist-packages (from ipython->ktrain) (0.7.5)\n",
      "Requirement already satisfied: prompt-toolkit<2.0.0,>=1.0.4 in /usr/local/lib/python3.6/dist-packages (from ipython->ktrain) (1.0.18)\n",
      "Requirement already satisfied: six in /usr/local/lib/python3.6/dist-packages (from langdetect->ktrain) (1.15.0)\n",
      "Requirement already satisfied: regex in /usr/local/lib/python3.6/dist-packages (from syntok->ktrain) (2019.12.20)\n",
      "Requirement already satisfied: Keras>=2.2.4 in /usr/local/lib/python3.6/dist-packages (from seqeval==0.0.19->ktrain) (2.4.3)\n",
      "Collecting sacremoses\n",
      "\u001b[?25l  Downloading https://files.pythonhosted.org/packages/7d/34/09d19aff26edcc8eb2a01bed8e98f13a1537005d31e95233fd48216eed10/sacremoses-0.0.43.tar.gz (883kB)\n",
      "\u001b[K     |████████████████████████████████| 890kB 45.7MB/s \n",
      "\u001b[?25hCollecting tokenizers==0.9.3\n",
      "\u001b[?25l  Downloading https://files.pythonhosted.org/packages/4c/34/b39eb9994bc3c999270b69c9eea40ecc6f0e97991dba28282b9fd32d44ee/tokenizers-0.9.3-cp36-cp36m-manylinux1_x86_64.whl (2.9MB)\n",
      "\u001b[K     |████████████████████████████████| 2.9MB 47.5MB/s \n",
      "\u001b[?25hRequirement already satisfied: tqdm>=4.27 in /usr/local/lib/python3.6/dist-packages (from transformers<4.0,>=3.1.0->ktrain) (4.41.1)\n",
      "Requirement already satisfied: dataclasses; python_version < \"3.7\" in /usr/local/lib/python3.6/dist-packages (from transformers<4.0,>=3.1.0->ktrain) (0.8)\n",
      "Requirement already satisfied: filelock in /usr/local/lib/python3.6/dist-packages (from transformers<4.0,>=3.1.0->ktrain) (3.0.12)\n",
      "Requirement already satisfied: protobuf in /usr/local/lib/python3.6/dist-packages (from transformers<4.0,>=3.1.0->ktrain) (3.12.4)\n",
      "Collecting keras-transformer>=0.38.0\n",
      "  Downloading https://files.pythonhosted.org/packages/89/6c/d6f0c164f4cc16fbc0d0fea85f5526e87a7d2df7b077809e422a7e626150/keras-transformer-0.38.0.tar.gz\n",
      "Requirement already satisfied: ipython-genutils in /usr/local/lib/python3.6/dist-packages (from traitlets>=4.2->ipython->ktrain) (0.2.0)\n",
      "Requirement already satisfied: ptyprocess>=0.5 in /usr/local/lib/python3.6/dist-packages (from pexpect; sys_platform != \"win32\"->ipython->ktrain) (0.6.0)\n",
      "Requirement already satisfied: wcwidth in /usr/local/lib/python3.6/dist-packages (from prompt-toolkit<2.0.0,>=1.0.4->ipython->ktrain) (0.2.5)\n",
      "Requirement already satisfied: h5py in /usr/local/lib/python3.6/dist-packages (from Keras>=2.2.4->seqeval==0.0.19->ktrain) (2.10.0)\n",
      "Requirement already satisfied: pyyaml in /usr/local/lib/python3.6/dist-packages (from Keras>=2.2.4->seqeval==0.0.19->ktrain) (3.13)\n",
      "Requirement already satisfied: click in /usr/local/lib/python3.6/dist-packages (from sacremoses->transformers<4.0,>=3.1.0->ktrain) (7.1.2)\n",
      "Collecting keras-pos-embd>=0.11.0\n",
      "  Downloading https://files.pythonhosted.org/packages/09/70/b63ed8fc660da2bb6ae29b9895401c628da5740c048c190b5d7107cadd02/keras-pos-embd-0.11.0.tar.gz\n",
      "Collecting keras-multi-head>=0.27.0\n",
      "  Downloading https://files.pythonhosted.org/packages/e6/32/45adf2549450aca7867deccfa04af80a0ab1ca139af44b16bc669e0e09cd/keras-multi-head-0.27.0.tar.gz\n",
      "Collecting keras-layer-normalization>=0.14.0\n",
      "  Downloading https://files.pythonhosted.org/packages/a4/0e/d1078df0494bac9ce1a67954e5380b6e7569668f0f3b50a9531c62c1fc4a/keras-layer-normalization-0.14.0.tar.gz\n",
      "Collecting keras-position-wise-feed-forward>=0.6.0\n",
      "  Downloading https://files.pythonhosted.org/packages/e3/59/f0faa1037c033059e7e9e7758e6c23b4d1c0772cd48de14c4b6fd4033ad5/keras-position-wise-feed-forward-0.6.0.tar.gz\n",
      "Collecting keras-embed-sim>=0.8.0\n",
      "  Downloading https://files.pythonhosted.org/packages/57/ef/61a1e39082c9e1834a2d09261d4a0b69f7c818b359216d4e1912b20b1c86/keras-embed-sim-0.8.0.tar.gz\n",
      "Collecting keras-self-attention==0.46.0\n",
      "  Downloading https://files.pythonhosted.org/packages/15/6b/c804924a056955fa1f3ff767945187103cfc851ba9bd0fc5a6c6bc18e2eb/keras-self-attention-0.46.0.tar.gz\n",
      "Building wheels for collected packages: ktrain, langdetect, syntok, seqeval, keras-bert, sacremoses, keras-transformer, keras-pos-embd, keras-multi-head, keras-layer-normalization, keras-position-wise-feed-forward, keras-embed-sim, keras-self-attention\n",
      "  Building wheel for ktrain (setup.py) ... \u001b[?25l\u001b[?25hdone\n",
      "  Created wheel for ktrain: filename=ktrain-0.25.2-cp36-none-any.whl size=25276306 sha256=df93aa67add6abca7bbab22b622e7d43e22fbe8dea4f36301dc326fba7c90b64\n",
      "  Stored in directory: /root/.cache/pip/wheels/fe/56/00/25444c352cc843e5c5daea0e9517a192878ae22c2c6b5f4573\n",
      "  Building wheel for langdetect (setup.py) ... \u001b[?25l\u001b[?25hdone\n",
      "  Created wheel for langdetect: filename=langdetect-1.0.8-cp36-none-any.whl size=993193 sha256=cf892e95d12583d0fdf7e10063e19ba4195169626c6e58fc8c0bd8485b716a92\n",
      "  Stored in directory: /root/.cache/pip/wheels/8d/b3/aa/6d99de9f3841d7d3d40a60ea06e6d669e8e5012e6c8b947a57\n",
      "  Building wheel for syntok (setup.py) ... \u001b[?25l\u001b[?25hdone\n",
      "  Created wheel for syntok: filename=syntok-1.3.1-cp36-none-any.whl size=20919 sha256=e048b136490fb1d8e276de9f93373c99de515b121a1da22768f7ef0f5fda02c0\n",
      "  Stored in directory: /root/.cache/pip/wheels/51/c6/a4/be1920586c49469846bcd2888200bdecfe109ec421dab9be2d\n",
      "  Building wheel for seqeval (setup.py) ... \u001b[?25l\u001b[?25hdone\n",
      "  Created wheel for seqeval: filename=seqeval-0.0.19-cp36-none-any.whl size=9920 sha256=69393e15a0153819e40c379d35c196dc0e07a34616173983073516739c6d0189\n",
      "  Stored in directory: /root/.cache/pip/wheels/8d/1f/bf/1198beceed805a2099060975f6281d1b01046dd279e19c97be\n",
      "  Building wheel for keras-bert (setup.py) ... \u001b[?25l\u001b[?25hdone\n",
      "  Created wheel for keras-bert: filename=keras_bert-0.86.0-cp36-none-any.whl size=34146 sha256=9e49066ff42a273306a7774ee46aedd15657307632eed4594cb27607a5f474e2\n",
      "  Stored in directory: /root/.cache/pip/wheels/66/f0/b1/748128b58562fc9e31b907bb5e2ab6a35eb37695e83911236b\n",
      "  Building wheel for sacremoses (setup.py) ... \u001b[?25l\u001b[?25hdone\n",
      "  Created wheel for sacremoses: filename=sacremoses-0.0.43-cp36-none-any.whl size=893261 sha256=a71bb4eba08c54eb345b99e395c9e9ca40645bb4b027ffe016b20ae7e959f4a1\n",
      "  Stored in directory: /root/.cache/pip/wheels/29/3c/fd/7ce5c3f0666dab31a50123635e6fb5e19ceb42ce38d4e58f45\n",
      "  Building wheel for keras-transformer (setup.py) ... \u001b[?25l\u001b[?25hdone\n",
      "  Created wheel for keras-transformer: filename=keras_transformer-0.38.0-cp36-none-any.whl size=12942 sha256=cf3e3c5e93a720b0d92f11c58bc496fe8a25a1514e817b4fa4d7ac0885526518\n",
      "  Stored in directory: /root/.cache/pip/wheels/e5/fb/3a/37b2b9326c799aa010ae46a04ddb04f320d8c77c0b7e837f4e\n",
      "  Building wheel for keras-pos-embd (setup.py) ... \u001b[?25l\u001b[?25hdone\n",
      "  Created wheel for keras-pos-embd: filename=keras_pos_embd-0.11.0-cp36-none-any.whl size=7554 sha256=c7ecd1af39946c23d8ced8c8ef00bbc274b2c154bad965bd0a64ca6d7a01f696\n",
      "  Stored in directory: /root/.cache/pip/wheels/5b/a1/a0/ce6b1d49ba1a9a76f592e70cf297b05c96bc9f418146761032\n",
      "  Building wheel for keras-multi-head (setup.py) ... \u001b[?25l\u001b[?25hdone\n",
      "  Created wheel for keras-multi-head: filename=keras_multi_head-0.27.0-cp36-none-any.whl size=15610 sha256=cf40228919dff5ac604be8e4470f5a4a16be1ace45a95f312c4bd79b43030de9\n",
      "  Stored in directory: /root/.cache/pip/wheels/b5/b4/49/0a0c27dcb93c13af02fea254ff51d1a43a924dd4e5b7a7164d\n",
      "  Building wheel for keras-layer-normalization (setup.py) ... \u001b[?25l\u001b[?25hdone\n",
      "  Created wheel for keras-layer-normalization: filename=keras_layer_normalization-0.14.0-cp36-none-any.whl size=5267 sha256=84793f6a43bd5a9f7ba6d0dbd07fc950924ee01b69f1092b79f7c26648458162\n",
      "  Stored in directory: /root/.cache/pip/wheels/54/80/22/a638a7d406fd155e507aa33d703e3fa2612b9eb7bb4f4fe667\n",
      "  Building wheel for keras-position-wise-feed-forward (setup.py) ... \u001b[?25l\u001b[?25hdone\n",
      "  Created wheel for keras-position-wise-feed-forward: filename=keras_position_wise_feed_forward-0.6.0-cp36-none-any.whl size=5625 sha256=e7377ddd9527baa2945c2d414ef895daea7ce05c556a01063f1e10ad66bd9d9b\n",
      "  Stored in directory: /root/.cache/pip/wheels/39/e2/e2/3514fef126a00574b13bc0b9e23891800158df3a3c19c96e3b\n",
      "  Building wheel for keras-embed-sim (setup.py) ... \u001b[?25l\u001b[?25hdone\n",
      "  Created wheel for keras-embed-sim: filename=keras_embed_sim-0.8.0-cp36-none-any.whl size=4560 sha256=7054738484007fde92f17ca1ce1adc572284bab12efab63e200d045d0959869b\n",
      "  Stored in directory: /root/.cache/pip/wheels/49/45/8b/c111f6cc8bec253e984677de73a6f4f5d2f1649f42aac191c8\n",
      "  Building wheel for keras-self-attention (setup.py) ... \u001b[?25l\u001b[?25hdone\n",
      "  Created wheel for keras-self-attention: filename=keras_self_attention-0.46.0-cp36-none-any.whl size=17278 sha256=3c8ec8838caac72d0d0ab4c85c46d7a8c59d6fc06ed75fe74e7ba7f379b718b6\n",
      "  Stored in directory: /root/.cache/pip/wheels/d2/2e/80/fec4c05eb23c8e13b790e26d207d6e0ffe8013fad8c6bdd4d2\n",
      "Successfully built ktrain langdetect syntok seqeval keras-bert sacremoses keras-transformer keras-pos-embd keras-multi-head keras-layer-normalization keras-position-wise-feed-forward keras-embed-sim keras-self-attention\n",
      "\u001b[31mERROR: transformers 3.5.1 has requirement sentencepiece==0.1.91, but you'll have sentencepiece 0.1.94 which is incompatible.\u001b[0m\n",
      "Installing collected packages: langdetect, cchardet, syntok, seqeval, sacremoses, sentencepiece, tokenizers, transformers, keras-pos-embd, keras-self-attention, keras-multi-head, keras-layer-normalization, keras-position-wise-feed-forward, keras-embed-sim, keras-transformer, keras-bert, whoosh, ktrain\n",
      "Successfully installed cchardet-2.1.7 keras-bert-0.86.0 keras-embed-sim-0.8.0 keras-layer-normalization-0.14.0 keras-multi-head-0.27.0 keras-pos-embd-0.11.0 keras-position-wise-feed-forward-0.6.0 keras-self-attention-0.46.0 keras-transformer-0.38.0 ktrain-0.25.2 langdetect-1.0.8 sacremoses-0.0.43 sentencepiece-0.1.94 seqeval-0.0.19 syntok-1.3.1 tokenizers-0.9.3 transformers-3.5.1 whoosh-2.7.4\n"
     ]
    }
   ],
   "source": [
    "!pip install ktrain"
   ]
  },
  {
   "cell_type": "code",
   "execution_count": 8,
   "metadata": {
    "id": "Ejp2w-6r9l5y"
   },
   "outputs": [],
   "source": [
    "import ktrain\r\n",
    "from ktrain import text"
   ]
  },
  {
   "cell_type": "code",
   "execution_count": 9,
   "metadata": {
    "colab": {
     "base_uri": "https://localhost:8080/",
     "height": 66,
     "referenced_widgets": [
      "7a68c37cbb154c5cb1eab3994264f37f",
      "12cf4ca6fb5f4c57bce1bd6c4f7c1e7b",
      "331630c958ef45848ceadb9bcb0de559",
      "d5496ac14efc4beeaa4470bcfbca6929",
      "be1e457324cc4df2ae14934f32cbb5ed",
      "1ca10ee6ac32426d8a0e6c97ae71058b",
      "fff4e5081aaf40c39ed3007695d93de6",
      "89c19e429d16435a91e1cdbcc60648ff"
     ]
    },
    "id": "g36Oq_m3D3o6",
    "outputId": "f3d4a411-8a16-48f3-e04b-f3976d24a2e2"
   },
   "outputs": [
    {
     "data": {
      "application/vnd.jupyter.widget-view+json": {
       "model_id": "7a68c37cbb154c5cb1eab3994264f37f",
       "version_major": 2,
       "version_minor": 0
      },
      "text/plain": [
       "HBox(children=(FloatProgress(value=0.0, description='Downloading', max=491.0, style=ProgressStyle(description_…"
      ]
     },
     "metadata": {
      "tags": []
     },
     "output_type": "display_data"
    },
    {
     "name": "stdout",
     "output_type": "stream",
     "text": [
      "\n"
     ]
    }
   ],
   "source": [
    "MODEL_NAME = 'sagorsarker/bangla-bert-base'\r\n",
    "t = text.Transformer(MODEL_NAME, maxlen=500)"
   ]
  },
  {
   "cell_type": "code",
   "execution_count": 10,
   "metadata": {
    "colab": {
     "base_uri": "https://localhost:8080/",
     "height": 287,
     "referenced_widgets": [
      "e6f144bbbee9430a816322b57efcf33b",
      "c54f693c5d8d41938af331e7601604c1",
      "cba428b9ec044d94b89b28356a2309b9",
      "4b6b8f51038441fea1f1651f7458f08a",
      "f966c96ec6124fd6bbd992e719668bd7",
      "16ce5786f4b84de49ebaee9afb8b5a25",
      "30fb98240aeb43f6845e7e9bbccab84d",
      "658812e1a51144fb9a3651c80838f372"
     ]
    },
    "id": "8T0bk_lCiV6-",
    "outputId": "156964d4-6390-4121-ff5b-5daca0c23ca5"
   },
   "outputs": [
    {
     "name": "stdout",
     "output_type": "stream",
     "text": [
      "preprocessing train...\n",
      "language: bn\n",
      "train sequence lengths:\n",
      "\tmean : 268\n",
      "\t95percentile : 669\n",
      "\t99percentile : 1079\n"
     ]
    },
    {
     "data": {
      "application/vnd.jupyter.widget-view+json": {
       "model_id": "e6f144bbbee9430a816322b57efcf33b",
       "version_major": 2,
       "version_minor": 0
      },
      "text/plain": [
       "HBox(children=(FloatProgress(value=0.0, description='Downloading', max=2237676.0, style=ProgressStyle(descript…"
      ]
     },
     "metadata": {
      "tags": []
     },
     "output_type": "display_data"
    },
    {
     "name": "stdout",
     "output_type": "stream",
     "text": [
      "\n"
     ]
    },
    {
     "data": {
      "text/html": [
       ""
      ],
      "text/plain": [
       "<IPython.core.display.HTML object>"
      ]
     },
     "metadata": {
      "tags": []
     },
     "output_type": "display_data"
    },
    {
     "name": "stdout",
     "output_type": "stream",
     "text": [
      "Is Multi-Label? False\n",
      "preprocessing test...\n",
      "language: bn\n",
      "test sequence lengths:\n",
      "\tmean : 269\n",
      "\t95percentile : 669\n",
      "\t99percentile : 1075\n"
     ]
    },
    {
     "data": {
      "text/html": [
       ""
      ],
      "text/plain": [
       "<IPython.core.display.HTML object>"
      ]
     },
     "metadata": {
      "tags": []
     },
     "output_type": "display_data"
    }
   ],
   "source": [
    "trn = t.preprocess_train(X_train, y_train)\r\n",
    "val = t.preprocess_test(X_test, y_test)"
   ]
  },
  {
   "cell_type": "code",
   "execution_count": 11,
   "metadata": {
    "colab": {
     "base_uri": "https://localhost:8080/",
     "height": 66,
     "referenced_widgets": [
      "8c40b8abd0884b899be4fa1fe1c0290d",
      "a41faf94d90c4b4781d821df741cccb6",
      "be1f4a728fd4456190b615ca6fa767d2",
      "fc5b0b4462b2415c9bc165055e5355ab",
      "47310dbad9d5419fa8b644f52d8c329c",
      "f48537b0965b4c71ac5ee6537f0ac5cb",
      "ca04439df1d84be38b082f178d9949f1",
      "9521297e7eb342ce9caeb910ade799d7"
     ]
    },
    "id": "Lz2C3lo_iAPg",
    "outputId": "1e2a3432-9608-4160-970c-855f3a60282f"
   },
   "outputs": [
    {
     "data": {
      "application/vnd.jupyter.widget-view+json": {
       "model_id": "8c40b8abd0884b899be4fa1fe1c0290d",
       "version_major": 2,
       "version_minor": 0
      },
      "text/plain": [
       "HBox(children=(FloatProgress(value=0.0, description='Downloading', max=975649908.0, style=ProgressStyle(descri…"
      ]
     },
     "metadata": {
      "tags": []
     },
     "output_type": "display_data"
    },
    {
     "name": "stdout",
     "output_type": "stream",
     "text": [
      "\n"
     ]
    }
   ],
   "source": [
    "model = t.get_classifier()"
   ]
  },
  {
   "cell_type": "code",
   "execution_count": null,
   "metadata": {
    "id": "xPccVBCrsxuU"
   },
   "outputs": [],
   "source": [
    "# ট্রেনিং করে নিচ্ছি\r\n",
    "learner = ktrain.get_learner(model, train_data=trn, val_data=val, batch_size=2)"
   ]
  },
  {
   "cell_type": "code",
   "execution_count": null,
   "metadata": {
    "id": "AEcBOitPMXak"
   },
   "outputs": [],
   "source": [
    "%matplotlib inline\r\n",
    "learner.lr_find(show_plot=True, max_epochs=1)"
   ]
  },
  {
   "cell_type": "code",
   "execution_count": null,
   "metadata": {
    "id": "tLEIo-Zd-Fom"
   },
   "outputs": [],
   "source": [
    "# preproc = t\r\n",
    "# save model and Preprocessor instance after partially training\r\n",
    "# ktrain.get_predictor(model, preproc).save('/tmp/my_predictor')"
   ]
  },
  {
   "cell_type": "code",
   "execution_count": null,
   "metadata": {
    "id": "MYSS8UVvYri7"
   },
   "outputs": [],
   "source": [
    "# reload Predictor and extract model\r\n",
    "# model = ktrain.load_predictor('/tmp/my_predictor').model"
   ]
  },
  {
   "cell_type": "code",
   "execution_count": 13,
   "metadata": {
    "colab": {
     "base_uri": "https://localhost:8080/"
    },
    "id": "b-V4k2i9MZKG",
    "outputId": "258ae3f9-4603-4071-bf62-9403f93e975e"
   },
   "outputs": [
    {
     "name": "stdout",
     "output_type": "stream",
     "text": [
      "\n",
      "\n",
      "begin training using onecycle policy with max lr of 8e-05...\n",
      "  4280/163388 [..............................] - ETA: 14:04:04 - loss: 0.4303 - accuracy: 0.8720\n",
      "\n",
      "begin training using onecycle policy with max lr of 8e-05...\n",
      " 56388/163388 [=========>....................] - ETA: 9:27:39 - loss: 0.4966 - accuracy: 0.8542Buffered data was truncated after reaching the output size limit."
     ]
    }
   ],
   "source": [
    "learner.fit_onecycle(8e-5, 1)"
   ]
  },
  {
   "cell_type": "code",
   "execution_count": null,
   "metadata": {
    "id": "dd0FVrD6Mhl8"
   },
   "outputs": [],
   "source": [
    "learner.validate(class_names=t.get_classes())"
   ]
  },
  {
   "cell_type": "code",
   "execution_count": null,
   "metadata": {
    "id": "zkAawYikMnkU"
   },
   "outputs": [],
   "source": [
    "# the one we got most wrong\r\n",
    "learner.view_top_losses(n=1, preproc=t)"
   ]
  },
  {
   "cell_type": "code",
   "execution_count": 14,
   "metadata": {
    "id": "Q7VkhSyrMtYO"
   },
   "outputs": [],
   "source": [
    "predictor = ktrain.get_predictor(learner.model, preproc=t)"
   ]
  },
  {
   "cell_type": "code",
   "execution_count": 15,
   "metadata": {
    "colab": {
     "base_uri": "https://localhost:8080/"
    },
    "id": "GdPAtcjSgejj",
    "outputId": "9e87878a-5729-47e2-cf6d-0cd326b99a48"
   },
   "outputs": [
    {
     "name": "stdout",
     "output_type": "stream",
     "text": [
      "Mounted at /content/drive\n"
     ]
    }
   ],
   "source": [
    "# Mount your google drive in google colab\r\n",
    "from google.colab import drive\r\n",
    "drive.mount('/content/drive')"
   ]
  },
  {
   "cell_type": "code",
   "execution_count": 16,
   "metadata": {
    "id": "stXUyuZ_yctw"
   },
   "outputs": [],
   "source": [
    "predictor.save('/content/drive/MyDrive/Colab Notebooks/saved_model/bangla_news_predictor_kt')\r\n",
    "# save model using transformers API after partially training\r\n",
    "learner.model.save_pretrained('/content/drive/MyDrive/Colab Notebooks/saved_model/bangla_news_predictor')\r\n"
   ]
  },
  {
   "cell_type": "code",
   "execution_count": 17,
   "metadata": {
    "colab": {
     "base_uri": "https://localhost:8080/"
    },
    "id": "TTWSo8UQLH6P",
    "outputId": "73468b02-f47c-45a0-b77a-38d2ded69732"
   },
   "outputs": [
    {
     "name": "stdout",
     "output_type": "stream",
     "text": [
      "total 628M\n",
      "-rw------- 1 root root  902 Dec 14 11:10 config.json\n",
      "-rw------- 1 root root 628M Dec 14 11:10 tf_model.h5\n",
      "-rw------- 1 root root 3.0K Dec 14 11:10 tf_model.preproc\n"
     ]
    }
   ],
   "source": [
    "!ls -alh '/content/drive/MyDrive/Colab Notebooks/saved_model/bangla_news_predictor_kt'"
   ]
  },
  {
   "cell_type": "code",
   "execution_count": 18,
   "metadata": {
    "colab": {
     "base_uri": "https://localhost:8080/"
    },
    "id": "QUx2SPSGfSiE",
    "outputId": "6ca296cb-42d5-4c49-fc81-0facbe6625f9"
   },
   "outputs": [
    {
     "name": "stdout",
     "output_type": "stream",
     "text": [
      "Model: \"tf_bert_for_sequence_classification\"\n",
      "_________________________________________________________________\n",
      "Layer (type)                 Output Shape              Param #   \n",
      "=================================================================\n",
      "bert (TFBertMainLayer)       multiple                  164396544 \n",
      "_________________________________________________________________\n",
      "dropout_37 (Dropout)         multiple                  0         \n",
      "_________________________________________________________________\n",
      "classifier (Dense)           multiple                  6921      \n",
      "=================================================================\n",
      "Total params: 164,403,465\n",
      "Trainable params: 164,403,465\n",
      "Non-trainable params: 0\n",
      "_________________________________________________________________\n"
     ]
    }
   ],
   "source": [
    "learner.model.summary()"
   ]
  },
  {
   "cell_type": "code",
   "execution_count": 19,
   "metadata": {
    "colab": {
     "base_uri": "https://localhost:8080/",
     "height": 35
    },
    "id": "qZ4on23IMzYm",
    "outputId": "7ee74bce-d475-4069-dd4b-7304e24d95a0"
   },
   "outputs": [
    {
     "data": {
      "application/vnd.google.colaboratory.intrinsic+json": {
       "type": "string"
      },
      "text/plain": [
       "'bangladesh'"
      ]
     },
     "execution_count": 19,
     "metadata": {
      "tags": []
     },
     "output_type": "execute_result"
    }
   ],
   "source": [
    "predictor.predict('প্রথম আলো সম্পাদকের আইনজীবী মোস্তাফিজুর রহমান খান সাংবাদিকদের জানান, গেল ৬ ডিসেম্বর প্রথম আলো সম্পাদকের বিরুদ্ধে মামলাটি বাতিল চেয়ে আবেদন করা হয়েছিল। এতে যুক্তি দেখানো হয়, মামলার তদন্ত প্রতিবেদনে মতিউর রহমানের সম্পৃক্ততার অভিযোগ ছিল না।')"
   ]
  },
  {
   "cell_type": "code",
   "execution_count": 24,
   "metadata": {
    "colab": {
     "base_uri": "https://localhost:8080/",
     "height": 169
    },
    "id": "Jgda6h0DHydy",
    "outputId": "2ec451cf-259f-4af2-fc3d-c0e7ec9ad9d6"
   },
   "outputs": [
    {
     "data": {
      "text/html": [
       "\n",
       "    <style>\n",
       "    table.eli5-weights tr:hover {\n",
       "        filter: brightness(85%);\n",
       "    }\n",
       "</style>\n",
       "\n",
       "\n",
       "\n",
       "    \n",
       "\n",
       "    \n",
       "\n",
       "    \n",
       "\n",
       "    \n",
       "\n",
       "    \n",
       "\n",
       "    \n",
       "\n",
       "\n",
       "    \n",
       "\n",
       "    \n",
       "\n",
       "    \n",
       "\n",
       "    \n",
       "        \n",
       "\n",
       "    \n",
       "\n",
       "        \n",
       "\n",
       "        \n",
       "    \n",
       "        \n",
       "        \n",
       "    \n",
       "        <p style=\"margin-bottom: 0.5em; margin-top: 0em\">\n",
       "            <b>\n",
       "    \n",
       "        y=bangladesh\n",
       "    \n",
       "</b>\n",
       "\n",
       "    \n",
       "    (probability <b>0.663</b>, score <b>1.142</b>)\n",
       "\n",
       "top features\n",
       "        </p>\n",
       "    \n",
       "    <table class=\"eli5-weights\"\n",
       "           style=\"border-collapse: collapse; border: none; margin-top: 0em; table-layout: auto; margin-bottom: 2em;\">\n",
       "        <thead>\n",
       "        <tr style=\"border: none;\">\n",
       "            \n",
       "                <th style=\"padding: 0 1em 0 0.5em; text-align: right; border: none;\" title=\"Feature contribution already accounts for the feature value (for linear models, contribution = weight * feature value), and the sum of feature contributions is equal to the score or, for some classifiers, to the probability. Feature values are shown if &quot;show_feature_values&quot; is True.\">\n",
       "                    Contribution<sup>?</sup>\n",
       "                </th>\n",
       "            \n",
       "            <th style=\"padding: 0 0.5em 0 0.5em; text-align: left; border: none;\">Feature</th>\n",
       "            \n",
       "        </tr>\n",
       "        </thead>\n",
       "        <tbody>\n",
       "        \n",
       "            <tr style=\"background-color: hsl(120, 100.00%, 80.00%); border: none;\">\n",
       "    <td style=\"padding: 0 1em 0 0.5em; text-align: right; border: none;\">\n",
       "        +0.840\n",
       "    </td>\n",
       "    <td style=\"padding: 0 0.5em 0 0.5em; text-align: left; border: none;\">\n",
       "        Highlighted in text (sum)\n",
       "    </td>\n",
       "    \n",
       "</tr>\n",
       "        \n",
       "            <tr style=\"background-color: hsl(120, 100.00%, 90.22%); border: none;\">\n",
       "    <td style=\"padding: 0 1em 0 0.5em; text-align: right; border: none;\">\n",
       "        +0.302\n",
       "    </td>\n",
       "    <td style=\"padding: 0 0.5em 0 0.5em; text-align: left; border: none;\">\n",
       "        &lt;BIAS&gt;\n",
       "    </td>\n",
       "    \n",
       "</tr>\n",
       "        \n",
       "        \n",
       "\n",
       "        \n",
       "        \n",
       "\n",
       "        </tbody>\n",
       "    </table>\n",
       "\n",
       "    \n",
       "\n",
       "\n",
       "\n",
       "    <p style=\"margin-bottom: 2.5em; margin-top:-0.5em;\">\n",
       "        <span style=\"opacity: 0.80\">প্</span><span style=\"background-color: hsl(120, 100.00%, 94.99%); opacity: 0.81\" title=\"0.011\">রথম</span><span style=\"opacity: 0.80\"> </span><span style=\"background-color: hsl(120, 100.00%, 96.43%); opacity: 0.81\" title=\"0.007\">আল</span><span style=\"opacity: 0.80\">ো সম্পা</span><span style=\"background-color: hsl(0, 100.00%, 98.34%); opacity: 0.80\" title=\"-0.002\">দক</span><span style=\"opacity: 0.80\">ে</span><span style=\"background-color: hsl(0, 100.00%, 94.26%); opacity: 0.81\" title=\"-0.013\">র</span><span style=\"opacity: 0.80\"> </span><span style=\"background-color: hsl(120, 100.00%, 68.00%); opacity: 0.95\" title=\"0.151\">আইনজ</span><span style=\"opacity: 0.80\">ী</span><span style=\"background-color: hsl(120, 100.00%, 64.47%); opacity: 0.97\" title=\"0.175\">ব</span><span style=\"opacity: 0.80\">ী </span><span style=\"background-color: hsl(120, 100.00%, 80.83%); opacity: 0.87\" title=\"0.073\">ম</span><span style=\"opacity: 0.80\">ো</span><span style=\"background-color: hsl(0, 100.00%, 94.62%); opacity: 0.81\" title=\"-0.012\">স</span><span style=\"opacity: 0.80\">্</span><span style=\"background-color: hsl(0, 100.00%, 81.78%); opacity: 0.87\" title=\"-0.068\">ত</span><span style=\"opacity: 0.80\">া</span><span style=\"background-color: hsl(120, 100.00%, 89.19%); opacity: 0.83\" title=\"0.032\">ফ</span><span style=\"opacity: 0.80\">ি</span><span style=\"background-color: hsl(120, 100.00%, 75.29%); opacity: 0.90\" title=\"0.104\">জ</span><span style=\"opacity: 0.80\">ু</span><span style=\"background-color: hsl(120, 100.00%, 88.85%); opacity: 0.83\" title=\"0.033\">র</span><span style=\"opacity: 0.80\"> </span><span style=\"background-color: hsl(0, 100.00%, 84.12%); opacity: 0.85\" title=\"-0.055\">রহম</span><span style=\"opacity: 0.80\">া</span><span style=\"background-color: hsl(0, 100.00%, 90.22%); opacity: 0.83\" title=\"-0.028\">ন</span><span style=\"opacity: 0.80\"> </span><span style=\"background-color: hsl(120, 100.00%, 88.46%); opacity: 0.83\" title=\"0.035\">খ</span><span style=\"opacity: 0.80\">া</span><span style=\"background-color: hsl(120, 100.00%, 88.11%); opacity: 0.84\" title=\"0.037\">ন</span><span style=\"opacity: 0.80\"> </span><span style=\"background-color: hsl(120, 100.00%, 86.81%); opacity: 0.84\" title=\"0.043\">স</span><span style=\"opacity: 0.80\">াং</span><span style=\"background-color: hsl(120, 100.00%, 89.48%); opacity: 0.83\" title=\"0.031\">ব</span><span style=\"opacity: 0.80\">া</span><span style=\"background-color: hsl(120, 100.00%, 80.66%); opacity: 0.87\" title=\"0.074\">দ</span><span style=\"opacity: 0.80\">ি</span><span style=\"background-color: hsl(120, 100.00%, 98.47%); opacity: 0.80\" title=\"0.002\">কদ</span><span style=\"opacity: 0.80\">ে</span><span style=\"background-color: hsl(120, 100.00%, 85.80%); opacity: 0.85\" title=\"0.047\">র</span><span style=\"opacity: 0.80\"> </span><span style=\"background-color: hsl(120, 100.00%, 78.40%); opacity: 0.88\" title=\"0.086\">জ</span><span style=\"opacity: 0.80\">ানান, </span><span style=\"background-color: hsl(120, 100.00%, 94.55%); opacity: 0.81\" title=\"0.012\">গ</span><span style=\"opacity: 0.80\">ে</span><span style=\"background-color: hsl(120, 100.00%, 94.55%); opacity: 0.81\" title=\"0.012\">ল</span><span style=\"opacity: 0.80\"> ৬ </span><span style=\"background-color: hsl(120, 100.00%, 85.39%); opacity: 0.85\" title=\"0.049\">ড</span><span style=\"opacity: 0.80\">ি</span><span style=\"background-color: hsl(120, 100.00%, 74.56%); opacity: 0.90\" title=\"0.109\">স</span><span style=\"opacity: 0.80\">ে</span><span style=\"background-color: hsl(0, 100.00%, 91.28%); opacity: 0.82\" title=\"-0.024\">ম</span><span style=\"opacity: 0.80\">্</span><span style=\"background-color: hsl(120, 100.00%, 82.65%); opacity: 0.86\" title=\"0.063\">বর</span><span style=\"opacity: 0.80\"> </span><span style=\"background-color: hsl(120, 100.00%, 86.52%); opacity: 0.84\" title=\"0.044\">প</span><span style=\"opacity: 0.80\">্</span><span style=\"background-color: hsl(120, 100.00%, 94.99%); opacity: 0.81\" title=\"0.011\">রথম</span><span style=\"opacity: 0.80\"> </span><span style=\"background-color: hsl(120, 100.00%, 96.43%); opacity: 0.81\" title=\"0.007\">আল</span><span style=\"opacity: 0.80\">ো সম্পা</span><span style=\"background-color: hsl(0, 100.00%, 98.34%); opacity: 0.80\" title=\"-0.002\">দক</span><span style=\"opacity: 0.80\">ে</span><span style=\"background-color: hsl(120, 100.00%, 98.65%); opacity: 0.80\" title=\"0.002\">র</span><span style=\"opacity: 0.80\"> </span><span style=\"background-color: hsl(120, 100.00%, 97.08%); opacity: 0.80\" title=\"0.005\">ব</span><span style=\"opacity: 0.80\">ি</span><span style=\"background-color: hsl(120, 100.00%, 88.00%); opacity: 0.84\" title=\"0.037\">র</span><span style=\"opacity: 0.80\">ু</span><span style=\"background-color: hsl(120, 100.00%, 84.16%); opacity: 0.85\" title=\"0.055\">দ</span><span style=\"opacity: 0.80\">্</span><span style=\"background-color: hsl(120, 100.00%, 72.72%); opacity: 0.92\" title=\"0.120\">ধ</span><span style=\"opacity: 0.80\">ে </span><span style=\"background-color: hsl(120, 100.00%, 60.00%); opacity: 1.00\" title=\"0.208\">ম</span><span style=\"opacity: 0.80\">া</span><span style=\"background-color: hsl(120, 100.00%, 92.47%); opacity: 0.82\" title=\"0.019\">মল</span><span style=\"opacity: 0.80\">া</span><span style=\"background-color: hsl(120, 100.00%, 75.72%); opacity: 0.90\" title=\"0.102\">ট</span><span style=\"opacity: 0.80\">ি </span><span style=\"background-color: hsl(0, 100.00%, 93.15%); opacity: 0.82\" title=\"-0.017\">ব</span><span style=\"opacity: 0.80\">া</span><span style=\"background-color: hsl(0, 100.00%, 82.84%); opacity: 0.86\" title=\"-0.062\">ত</span><span style=\"opacity: 0.80\">ি</span><span style=\"background-color: hsl(0, 100.00%, 74.77%); opacity: 0.90\" title=\"-0.107\">ল</span><span style=\"opacity: 0.80\"> </span><span style=\"background-color: hsl(0, 100.00%, 93.97%); opacity: 0.81\" title=\"-0.014\">চ</span><span style=\"opacity: 0.80\">ে</span><span style=\"background-color: hsl(120, 100.00%, 80.53%); opacity: 0.87\" title=\"0.074\">য়</span><span style=\"opacity: 0.80\">ে </span><span style=\"background-color: hsl(0, 100.00%, 80.43%); opacity: 0.87\" title=\"-0.075\">আব</span><span style=\"opacity: 0.80\">ে</span><span style=\"background-color: hsl(0, 100.00%, 69.48%); opacity: 0.94\" title=\"-0.141\">দন</span><span style=\"opacity: 0.80\"> </span><span style=\"background-color: hsl(120, 100.00%, 87.45%); opacity: 0.84\" title=\"0.040\">কর</span><span style=\"opacity: 0.80\">া </span><span style=\"background-color: hsl(120, 100.00%, 92.55%); opacity: 0.82\" title=\"0.019\">হয়</span><span style=\"opacity: 0.80\">ে</span><span style=\"background-color: hsl(0, 100.00%, 88.74%); opacity: 0.83\" title=\"-0.034\">ছ</span><span style=\"opacity: 0.80\">ি</span><span style=\"background-color: hsl(120, 100.00%, 99.92%); opacity: 0.80\" title=\"0.000\">ল</span><span style=\"opacity: 0.80\">। </span><span style=\"background-color: hsl(120, 100.00%, 76.90%); opacity: 0.89\" title=\"0.095\">এত</span><span style=\"opacity: 0.80\">ে </span><span style=\"background-color: hsl(0, 100.00%, 85.94%); opacity: 0.84\" title=\"-0.047\">য</span><span style=\"opacity: 0.80\">ু</span><span style=\"background-color: hsl(120, 100.00%, 82.14%); opacity: 0.86\" title=\"0.066\">ক</span><span style=\"opacity: 0.80\">্</span><span style=\"background-color: hsl(120, 100.00%, 85.42%); opacity: 0.85\" title=\"0.049\">ত</span><span style=\"opacity: 0.80\">ি </span><span style=\"background-color: hsl(0, 100.00%, 93.98%); opacity: 0.81\" title=\"-0.014\">দ</span><span style=\"opacity: 0.80\">ে</span><span style=\"background-color: hsl(0, 100.00%, 83.88%); opacity: 0.85\" title=\"-0.057\">খ</span><span style=\"opacity: 0.80\">া</span><span style=\"background-color: hsl(0, 100.00%, 96.83%); opacity: 0.81\" title=\"-0.006\">ন</span><span style=\"opacity: 0.80\">ো </span><span style=\"background-color: hsl(120, 100.00%, 93.45%); opacity: 0.82\" title=\"0.016\">হয়</span><span style=\"opacity: 0.80\">, </span><span style=\"background-color: hsl(120, 100.00%, 88.81%); opacity: 0.83\" title=\"0.034\">ম</span><span style=\"opacity: 0.80\">া</span><span style=\"background-color: hsl(120, 100.00%, 87.24%); opacity: 0.84\" title=\"0.041\">মল</span><span style=\"opacity: 0.80\">া</span><span style=\"background-color: hsl(120, 100.00%, 91.82%); opacity: 0.82\" title=\"0.022\">র</span><span style=\"opacity: 0.80\"> </span><span style=\"background-color: hsl(120, 100.00%, 97.29%); opacity: 0.80\" title=\"0.004\">তদন</span><span style=\"opacity: 0.80\">্</span><span style=\"background-color: hsl(0, 100.00%, 99.10%); opacity: 0.80\" title=\"-0.001\">ত</span><span style=\"opacity: 0.80\"> </span><span style=\"background-color: hsl(120, 100.00%, 93.48%); opacity: 0.81\" title=\"0.016\">প</span><span style=\"opacity: 0.80\">্</span><span style=\"background-color: hsl(120, 100.00%, 76.31%); opacity: 0.89\" title=\"0.098\">রত</span><span style=\"opacity: 0.80\">ি</span><span style=\"background-color: hsl(120, 100.00%, 81.02%); opacity: 0.87\" title=\"0.072\">ব</span><span style=\"opacity: 0.80\">ে</span><span style=\"background-color: hsl(120, 100.00%, 76.46%); opacity: 0.89\" title=\"0.097\">দন</span><span style=\"opacity: 0.80\">ে </span><span style=\"background-color: hsl(120, 100.00%, 73.26%); opacity: 0.91\" title=\"0.117\">মত</span><span style=\"opacity: 0.80\">ি</span><span style=\"background-color: hsl(0, 100.00%, 86.57%); opacity: 0.84\" title=\"-0.044\">উর</span><span style=\"opacity: 0.80\"> </span><span style=\"background-color: hsl(0, 100.00%, 78.45%); opacity: 0.88\" title=\"-0.086\">রহম</span><span style=\"opacity: 0.80\">া</span><span style=\"background-color: hsl(0, 100.00%, 90.22%); opacity: 0.83\" title=\"-0.028\">ন</span><span style=\"opacity: 0.80\">ে</span><span style=\"background-color: hsl(0, 100.00%, 91.90%); opacity: 0.82\" title=\"-0.021\">র</span><span style=\"opacity: 0.80\"> </span><span style=\"background-color: hsl(0, 100.00%, 91.90%); opacity: 0.82\" title=\"-0.021\">সম</span><span style=\"opacity: 0.80\">্</span><span style=\"background-color: hsl(120, 100.00%, 82.03%); opacity: 0.86\" title=\"0.066\">প</span><span style=\"opacity: 0.80\">ৃ</span><span style=\"background-color: hsl(120, 100.00%, 95.21%); opacity: 0.81\" title=\"0.010\">ক</span><span style=\"opacity: 0.80\">্</span><span style=\"background-color: hsl(0, 100.00%, 86.51%); opacity: 0.84\" title=\"-0.044\">তত</span><span style=\"opacity: 0.80\">া</span><span style=\"background-color: hsl(0, 100.00%, 85.58%); opacity: 0.85\" title=\"-0.048\">র</span><span style=\"opacity: 0.80\"> </span><span style=\"background-color: hsl(120, 100.00%, 77.04%); opacity: 0.89\" title=\"0.094\">অভ</span><span style=\"opacity: 0.80\">ি</span><span style=\"background-color: hsl(120, 100.00%, 77.13%); opacity: 0.89\" title=\"0.093\">য</span><span style=\"opacity: 0.80\">ো</span><span style=\"background-color: hsl(0, 100.00%, 92.67%); opacity: 0.82\" title=\"-0.018\">গ</span><span style=\"opacity: 0.80\"> </span><span style=\"background-color: hsl(0, 100.00%, 91.22%); opacity: 0.82\" title=\"-0.024\">ছ</span><span style=\"opacity: 0.80\">ি</span><span style=\"background-color: hsl(0, 100.00%, 99.23%); opacity: 0.80\" title=\"-0.001\">ল</span><span style=\"opacity: 0.80\"> </span><span style=\"background-color: hsl(0, 100.00%, 99.21%); opacity: 0.80\" title=\"-0.001\">ন</span><span style=\"opacity: 0.80\">া।</span>\n",
       "    </p>\n",
       "\n",
       "\n",
       "    \n",
       "\n",
       "    \n",
       "\n",
       "    \n",
       "\n",
       "    \n",
       "\n",
       "\n",
       "    \n",
       "\n",
       "    \n",
       "\n",
       "    \n",
       "\n",
       "    \n",
       "\n",
       "    \n",
       "\n",
       "    \n",
       "\n",
       "\n",
       "    \n",
       "\n",
       "    \n",
       "\n",
       "    \n",
       "\n",
       "    \n",
       "\n",
       "    \n",
       "\n",
       "    \n",
       "\n",
       "\n",
       "\n"
      ],
      "text/plain": [
       "<IPython.core.display.HTML object>"
      ]
     },
     "execution_count": 24,
     "metadata": {
      "tags": []
     },
     "output_type": "execute_result"
    }
   ],
   "source": [
    "predictor.explain('প্রথম আলো সম্পাদকের আইনজীবী মোস্তাফিজুর রহমান খান সাংবাদিকদের জানান, গেল ৬ ডিসেম্বর প্রথম আলো সম্পাদকের বিরুদ্ধে মামলাটি বাতিল চেয়ে আবেদন করা হয়েছিল। এতে যুক্তি দেখানো হয়, মামলার তদন্ত প্রতিবেদনে মতিউর রহমানের সম্পৃক্ততার অভিযোগ ছিল না।')"
   ]
  },
  {
   "cell_type": "code",
   "execution_count": 25,
   "metadata": {
    "colab": {
     "base_uri": "https://localhost:8080/",
     "height": 35
    },
    "id": "QhNjKUO7q4PP",
    "outputId": "caae0d06-0801-4d2b-f6a3-75e75447da5d"
   },
   "outputs": [
    {
     "data": {
      "application/vnd.google.colaboratory.intrinsic+json": {
       "type": "string"
      },
      "text/plain": [
       "'bangladesh'"
      ]
     },
     "execution_count": 25,
     "metadata": {
      "tags": []
     },
     "output_type": "execute_result"
    }
   ],
   "source": [
    "predictor.predict('ই-কমার্স খাতে বিশেষ অবদান রাখায় এবছর ‘৭ম ডিজিটাল ওয়ার্ল্ড-২০২০’ এ সেরা পাবলিক প্রতিষ্ঠান হিসেবে বাণিজ্য মন্ত্রণালয়কে সম্মাননা ও পুরস্কার প্রদান করা হয়েছে।')"
   ]
  },
  {
   "cell_type": "code",
   "execution_count": 26,
   "metadata": {
    "colab": {
     "base_uri": "https://localhost:8080/",
     "height": 169
    },
    "id": "XA0PIIpLrKUT",
    "outputId": "13ad514f-ef01-4c62-8cce-419a00080b47"
   },
   "outputs": [
    {
     "data": {
      "text/html": [
       "\n",
       "    <style>\n",
       "    table.eli5-weights tr:hover {\n",
       "        filter: brightness(85%);\n",
       "    }\n",
       "</style>\n",
       "\n",
       "\n",
       "\n",
       "    \n",
       "\n",
       "    \n",
       "\n",
       "    \n",
       "\n",
       "    \n",
       "\n",
       "    \n",
       "\n",
       "    \n",
       "\n",
       "\n",
       "    \n",
       "\n",
       "    \n",
       "\n",
       "    \n",
       "\n",
       "    \n",
       "        \n",
       "\n",
       "    \n",
       "\n",
       "        \n",
       "\n",
       "        \n",
       "    \n",
       "        \n",
       "        \n",
       "    \n",
       "        <p style=\"margin-bottom: 0.5em; margin-top: 0em\">\n",
       "            <b>\n",
       "    \n",
       "        y=bangladesh\n",
       "    \n",
       "</b>\n",
       "\n",
       "    \n",
       "    (probability <b>0.502</b>, score <b>0.075</b>)\n",
       "\n",
       "top features\n",
       "        </p>\n",
       "    \n",
       "    <table class=\"eli5-weights\"\n",
       "           style=\"border-collapse: collapse; border: none; margin-top: 0em; table-layout: auto; margin-bottom: 2em;\">\n",
       "        <thead>\n",
       "        <tr style=\"border: none;\">\n",
       "            \n",
       "                <th style=\"padding: 0 1em 0 0.5em; text-align: right; border: none;\" title=\"Feature contribution already accounts for the feature value (for linear models, contribution = weight * feature value), and the sum of feature contributions is equal to the score or, for some classifiers, to the probability. Feature values are shown if &quot;show_feature_values&quot; is True.\">\n",
       "                    Contribution<sup>?</sup>\n",
       "                </th>\n",
       "            \n",
       "            <th style=\"padding: 0 0.5em 0 0.5em; text-align: left; border: none;\">Feature</th>\n",
       "            \n",
       "        </tr>\n",
       "        </thead>\n",
       "        <tbody>\n",
       "        \n",
       "            <tr style=\"background-color: hsl(120, 100.00%, 80.00%); border: none;\">\n",
       "    <td style=\"padding: 0 1em 0 0.5em; text-align: right; border: none;\">\n",
       "        +0.171\n",
       "    </td>\n",
       "    <td style=\"padding: 0 0.5em 0 0.5em; text-align: left; border: none;\">\n",
       "        &lt;BIAS&gt;\n",
       "    </td>\n",
       "    \n",
       "</tr>\n",
       "        \n",
       "        \n",
       "\n",
       "        \n",
       "        \n",
       "            <tr style=\"background-color: hsl(0, 100.00%, 86.71%); border: none;\">\n",
       "    <td style=\"padding: 0 1em 0 0.5em; text-align: right; border: none;\">\n",
       "        -0.095\n",
       "    </td>\n",
       "    <td style=\"padding: 0 0.5em 0 0.5em; text-align: left; border: none;\">\n",
       "        Highlighted in text (sum)\n",
       "    </td>\n",
       "    \n",
       "</tr>\n",
       "        \n",
       "\n",
       "        </tbody>\n",
       "    </table>\n",
       "\n",
       "    \n",
       "\n",
       "\n",
       "\n",
       "    <p style=\"margin-bottom: 2.5em; margin-top:-0.5em;\">\n",
       "        <span style=\"background-color: hsl(120, 100.00%, 84.53%); opacity: 0.85\" title=\"0.035\">ই</span><span style=\"opacity: 0.80\">-</span><span style=\"background-color: hsl(120, 100.00%, 72.31%); opacity: 0.92\" title=\"0.079\">কম</span><span style=\"opacity: 0.80\">া</span><span style=\"background-color: hsl(120, 100.00%, 82.78%); opacity: 0.86\" title=\"0.040\">র</span><span style=\"opacity: 0.80\">্</span><span style=\"background-color: hsl(0, 100.00%, 66.68%); opacity: 0.95\" title=\"-0.103\">স</span><span style=\"opacity: 0.80\"> </span><span style=\"background-color: hsl(0, 100.00%, 95.21%); opacity: 0.81\" title=\"-0.006\">খ</span><span style=\"opacity: 0.80\">া</span><span style=\"background-color: hsl(0, 100.00%, 90.28%); opacity: 0.83\" title=\"-0.018\">ত</span><span style=\"opacity: 0.80\">ে </span><span style=\"background-color: hsl(0, 100.00%, 90.28%); opacity: 0.83\" title=\"-0.018\">ব</span><span style=\"opacity: 0.80\">ি</span><span style=\"background-color: hsl(120, 100.00%, 67.67%); opacity: 0.95\" title=\"0.099\">শ</span><span style=\"opacity: 0.80\">ে</span><span style=\"background-color: hsl(120, 100.00%, 93.16%); opacity: 0.82\" title=\"0.011\">ষ</span><span style=\"opacity: 0.80\"> অবদান </span><span style=\"background-color: hsl(0, 100.00%, 71.55%); opacity: 0.92\" title=\"-0.083\">র</span><span style=\"opacity: 0.80\">া</span><span style=\"background-color: hsl(0, 100.00%, 73.13%); opacity: 0.91\" title=\"-0.076\">খ</span><span style=\"opacity: 0.80\">া</span><span style=\"background-color: hsl(0, 100.00%, 83.10%); opacity: 0.86\" title=\"-0.039\">য়</span><span style=\"opacity: 0.80\"> </span><span style=\"background-color: hsl(0, 100.00%, 79.41%); opacity: 0.88\" title=\"-0.052\">এবছর</span><span style=\"opacity: 0.80\"> ‘</span><span style=\"background-color: hsl(0, 100.00%, 87.65%); opacity: 0.84\" title=\"-0.025\">৭ম</span><span style=\"opacity: 0.80\"> </span><span style=\"background-color: hsl(0, 100.00%, 68.49%); opacity: 0.94\" title=\"-0.096\">ড</span><span style=\"opacity: 0.80\">ি</span><span style=\"background-color: hsl(0, 100.00%, 70.60%); opacity: 0.93\" title=\"-0.087\">জ</span><span style=\"opacity: 0.80\">ি</span><span style=\"background-color: hsl(120, 100.00%, 86.24%); opacity: 0.84\" title=\"0.029\">ট</span><span style=\"opacity: 0.80\">া</span><span style=\"background-color: hsl(0, 100.00%, 68.12%); opacity: 0.94\" title=\"-0.097\">ল</span><span style=\"opacity: 0.80\"> </span><span style=\"background-color: hsl(0, 100.00%, 81.10%); opacity: 0.87\" title=\"-0.046\">ওয়</span><span style=\"opacity: 0.80\">া</span><span style=\"background-color: hsl(120, 100.00%, 84.27%); opacity: 0.85\" title=\"0.035\">র</span><span style=\"opacity: 0.80\">্</span><span style=\"background-color: hsl(120, 100.00%, 72.66%); opacity: 0.92\" title=\"0.078\">ল</span><span style=\"opacity: 0.80\">্</span><span style=\"background-color: hsl(120, 100.00%, 87.39%); opacity: 0.84\" title=\"0.026\">ড</span><span style=\"opacity: 0.80\">-</span><span style=\"background-color: hsl(0, 100.00%, 90.68%); opacity: 0.82\" title=\"-0.017\">২০২০</span><span style=\"opacity: 0.80\">’ </span><span style=\"background-color: hsl(0, 100.00%, 66.88%); opacity: 0.95\" title=\"-0.103\">এ</span><span style=\"opacity: 0.80\"> </span><span style=\"background-color: hsl(0, 100.00%, 73.85%); opacity: 0.91\" title=\"-0.073\">স</span><span style=\"opacity: 0.80\">ে</span><span style=\"background-color: hsl(120, 100.00%, 86.20%); opacity: 0.84\" title=\"0.029\">র</span><span style=\"opacity: 0.80\">া পা</span><span style=\"background-color: hsl(120, 100.00%, 87.30%); opacity: 0.84\" title=\"0.026\">বল</span><span style=\"opacity: 0.80\">ি</span><span style=\"background-color: hsl(120, 100.00%, 83.44%); opacity: 0.86\" title=\"0.038\">ক</span><span style=\"opacity: 0.80\"> </span><span style=\"background-color: hsl(0, 100.00%, 74.29%); opacity: 0.91\" title=\"-0.071\">প</span><span style=\"opacity: 0.80\">্</span><span style=\"background-color: hsl(0, 100.00%, 83.94%); opacity: 0.85\" title=\"-0.036\">রত</span><span style=\"opacity: 0.80\">ি</span><span style=\"background-color: hsl(120, 100.00%, 81.18%); opacity: 0.87\" title=\"0.046\">ষ</span><span style=\"opacity: 0.80\">্</span><span style=\"background-color: hsl(0, 100.00%, 83.53%); opacity: 0.86\" title=\"-0.038\">ঠ</span><span style=\"opacity: 0.80\">ান </span><span style=\"background-color: hsl(0, 100.00%, 72.81%); opacity: 0.92\" title=\"-0.077\">হ</span><span style=\"opacity: 0.80\">ি</span><span style=\"background-color: hsl(0, 100.00%, 69.28%); opacity: 0.94\" title=\"-0.092\">স</span><span style=\"opacity: 0.80\">ে</span><span style=\"background-color: hsl(120, 100.00%, 82.19%); opacity: 0.86\" title=\"0.042\">ব</span><span style=\"opacity: 0.80\">ে </span><span style=\"background-color: hsl(120, 100.00%, 82.19%); opacity: 0.86\" title=\"0.042\">ব</span><span style=\"opacity: 0.80\">া</span><span style=\"background-color: hsl(0, 100.00%, 85.31%); opacity: 0.85\" title=\"-0.032\">ণ</span><span style=\"opacity: 0.80\">ি</span><span style=\"background-color: hsl(0, 100.00%, 88.33%); opacity: 0.83\" title=\"-0.023\">জ</span><span style=\"opacity: 0.80\">্</span><span style=\"background-color: hsl(0, 100.00%, 72.19%); opacity: 0.92\" title=\"-0.080\">য</span><span style=\"opacity: 0.80\"> </span><span style=\"background-color: hsl(0, 100.00%, 88.12%); opacity: 0.84\" title=\"-0.024\">মন</span><span style=\"opacity: 0.80\">্</span><span style=\"background-color: hsl(120, 100.00%, 85.07%); opacity: 0.85\" title=\"0.033\">ত</span><span style=\"opacity: 0.80\">্</span><span style=\"background-color: hsl(0, 100.00%, 66.28%); opacity: 0.96\" title=\"-0.105\">রণ</span><span style=\"opacity: 0.80\">া</span><span style=\"background-color: hsl(0, 100.00%, 61.85%); opacity: 0.99\" title=\"-0.126\">লয়ক</span><span style=\"opacity: 0.80\">ে </span><span style=\"background-color: hsl(120, 100.00%, 75.54%); opacity: 0.90\" title=\"0.067\">সম</span><span style=\"opacity: 0.80\">্</span><span style=\"background-color: hsl(0, 100.00%, 92.09%); opacity: 0.82\" title=\"-0.013\">ম</span><span style=\"opacity: 0.80\">া</span><span style=\"background-color: hsl(0, 100.00%, 86.33%); opacity: 0.84\" title=\"-0.029\">নন</span><span style=\"opacity: 0.80\">া ও </span><span style=\"background-color: hsl(0, 100.00%, 60.00%); opacity: 1.00\" title=\"-0.134\">প</span><span style=\"opacity: 0.80\">ু</span><span style=\"background-color: hsl(0, 100.00%, 65.24%); opacity: 0.96\" title=\"-0.110\">রস</span><span style=\"opacity: 0.80\">্</span><span style=\"background-color: hsl(120, 100.00%, 72.75%); opacity: 0.92\" title=\"0.078\">ক</span><span style=\"opacity: 0.80\">ার </span><span style=\"background-color: hsl(120, 100.00%, 88.92%); opacity: 0.83\" title=\"0.021\">প</span><span style=\"opacity: 0.80\">্</span><span style=\"background-color: hsl(120, 100.00%, 88.92%); opacity: 0.83\" title=\"0.021\">রদ</span><span style=\"opacity: 0.80\">া</span><span style=\"background-color: hsl(0, 100.00%, 81.01%); opacity: 0.87\" title=\"-0.046\">ন</span><span style=\"opacity: 0.80\"> </span><span style=\"background-color: hsl(0, 100.00%, 93.56%); opacity: 0.81\" title=\"-0.010\">কর</span><span style=\"opacity: 0.80\">া </span><span style=\"background-color: hsl(120, 100.00%, 74.46%); opacity: 0.91\" title=\"0.071\">হয়</span><span style=\"opacity: 0.80\">েছে।</span>\n",
       "    </p>\n",
       "\n",
       "\n",
       "    \n",
       "\n",
       "    \n",
       "\n",
       "    \n",
       "\n",
       "    \n",
       "\n",
       "\n",
       "    \n",
       "\n",
       "    \n",
       "\n",
       "    \n",
       "\n",
       "    \n",
       "\n",
       "    \n",
       "\n",
       "    \n",
       "\n",
       "\n",
       "    \n",
       "\n",
       "    \n",
       "\n",
       "    \n",
       "\n",
       "    \n",
       "\n",
       "    \n",
       "\n",
       "    \n",
       "\n",
       "\n",
       "\n"
      ],
      "text/plain": [
       "<IPython.core.display.HTML object>"
      ]
     },
     "execution_count": 26,
     "metadata": {
      "tags": []
     },
     "output_type": "execute_result"
    }
   ],
   "source": [
    "predictor.explain('ই-কমার্স খাতে বিশেষ অবদান রাখায় এবছর ‘৭ম ডিজিটাল ওয়ার্ল্ড-২০২০’ এ সেরা পাবলিক প্রতিষ্ঠান হিসেবে বাণিজ্য মন্ত্রণালয়কে সম্মাননা ও পুরস্কার প্রদান করা হয়েছে।')"
   ]
  },
  {
   "cell_type": "code",
   "execution_count": 27,
   "metadata": {
    "colab": {
     "base_uri": "https://localhost:8080/",
     "height": 35
    },
    "id": "Yn0HIU-FQZKr",
    "outputId": "8ab34415-4275-42c2-fadd-fb62a3a50443"
   },
   "outputs": [
    {
     "data": {
      "application/vnd.google.colaboratory.intrinsic+json": {
       "type": "string"
      },
      "text/plain": [
       "'bangladesh'"
      ]
     },
     "execution_count": 27,
     "metadata": {
      "tags": []
     },
     "output_type": "execute_result"
    }
   ],
   "source": [
    "predictor.predict('বাংলাদেশ টেলিভিশনে গান হয়, সংস্কৃতিকে তুলে ধরতে হবে আমাদের।')"
   ]
  },
  {
   "cell_type": "code",
   "execution_count": 28,
   "metadata": {
    "colab": {
     "base_uri": "https://localhost:8080/"
    },
    "id": "hjQQX5ByQ1Dm",
    "outputId": "a7a7021a-17ba-4e71-9f47-fbf6192c851e"
   },
   "outputs": [
    {
     "data": {
      "text/plain": [
       "array([0.61413276, 0.04161949, 0.0186341 , 0.06025607, 0.06673001,\n",
       "       0.02094929, 0.0295498 , 0.11082707, 0.03730145], dtype=float32)"
      ]
     },
     "execution_count": 28,
     "metadata": {
      "tags": []
     },
     "output_type": "execute_result"
    }
   ],
   "source": [
    "predictor.predict_proba('বাংলাদেশে টেলিভিশনে গান হয়, সংস্কৃতিকে তুলে ধরতে হবে আমাদের।')"
   ]
  },
  {
   "cell_type": "code",
   "execution_count": 29,
   "metadata": {
    "colab": {
     "base_uri": "https://localhost:8080/",
     "height": 35
    },
    "id": "3dcpvecRGikG",
    "outputId": "db34ad9f-1b0d-49ac-fbf1-140235b41cbb"
   },
   "outputs": [
    {
     "data": {
      "application/vnd.google.colaboratory.intrinsic+json": {
       "type": "string"
      },
      "text/plain": [
       "'bangladesh'"
      ]
     },
     "execution_count": 29,
     "metadata": {
      "tags": []
     },
     "output_type": "execute_result"
    }
   ],
   "source": [
    "predictor.predict('বাংলাদেশে ফুটবল খুব বেশি খেলা হয়, ক্রিকেট কম নয়।')"
   ]
  },
  {
   "cell_type": "code",
   "execution_count": 21,
   "metadata": {
    "colab": {
     "base_uri": "https://localhost:8080/"
    },
    "id": "2i_saCMjHFAf",
    "outputId": "66a66547-90a8-425e-9fda-74950053abe5"
   },
   "outputs": [
    {
     "name": "stdout",
     "output_type": "stream",
     "text": [
      "Collecting git+https://github.com/amaiya/eli5@tfkeras_0_10_1\n",
      "  Cloning https://github.com/amaiya/eli5 (to revision tfkeras_0_10_1) to /tmp/pip-req-build-olugz2re\n",
      "  Running command git clone -q https://github.com/amaiya/eli5 /tmp/pip-req-build-olugz2re\n",
      "  Running command git checkout -b tfkeras_0_10_1 --track origin/tfkeras_0_10_1\n",
      "  Switched to a new branch 'tfkeras_0_10_1'\n",
      "  Branch 'tfkeras_0_10_1' set up to track remote branch 'tfkeras_0_10_1' from 'origin'.\n",
      "Requirement already satisfied: attrs>16.0.0 in /usr/local/lib/python3.6/dist-packages (from eli5==0.10.1) (20.3.0)\n",
      "Requirement already satisfied: jinja2 in /usr/local/lib/python3.6/dist-packages (from eli5==0.10.1) (2.11.2)\n",
      "Requirement already satisfied: numpy>=1.9.0 in /usr/local/lib/python3.6/dist-packages (from eli5==0.10.1) (1.18.5)\n",
      "Requirement already satisfied: scipy in /usr/local/lib/python3.6/dist-packages (from eli5==0.10.1) (1.4.1)\n",
      "Requirement already satisfied: six in /usr/local/lib/python3.6/dist-packages (from eli5==0.10.1) (1.15.0)\n",
      "Requirement already satisfied: scikit-learn>=0.18 in /usr/local/lib/python3.6/dist-packages (from eli5==0.10.1) (0.22.2.post1)\n",
      "Requirement already satisfied: graphviz in /usr/local/lib/python3.6/dist-packages (from eli5==0.10.1) (0.10.1)\n",
      "Requirement already satisfied: tabulate>=0.7.7 in /usr/local/lib/python3.6/dist-packages (from eli5==0.10.1) (0.8.7)\n",
      "Requirement already satisfied: MarkupSafe>=0.23 in /usr/local/lib/python3.6/dist-packages (from jinja2->eli5==0.10.1) (1.1.1)\n",
      "Requirement already satisfied: joblib>=0.11 in /usr/local/lib/python3.6/dist-packages (from scikit-learn>=0.18->eli5==0.10.1) (0.17.0)\n",
      "Building wheels for collected packages: eli5\n",
      "  Building wheel for eli5 (setup.py) ... \u001b[?25l\u001b[?25hdone\n",
      "  Created wheel for eli5: filename=eli5-0.10.1-py2.py3-none-any.whl size=106831 sha256=6cb8a0cddb98797dc45c6166e9ec109ae953198d437616bae5564b38baf3dc75\n",
      "  Stored in directory: /tmp/pip-ephem-wheel-cache-bc4a84ng/wheels/51/59/0a/0f48442b8d209583a4453580938d7ba2270aca40edacee6d45\n",
      "Successfully built eli5\n",
      "Installing collected packages: eli5\n",
      "Successfully installed eli5-0.10.1\n"
     ]
    }
   ],
   "source": [
    "!pip install git+https://github.com/amaiya/eli5@tfkeras_0_10_1"
   ]
  },
  {
   "cell_type": "code",
   "execution_count": 30,
   "metadata": {
    "colab": {
     "base_uri": "https://localhost:8080/",
     "height": 169
    },
    "id": "iC2CtJlvNR4g",
    "outputId": "3ee792e0-24db-496d-b31b-d6fef53964a5"
   },
   "outputs": [
    {
     "data": {
      "text/html": [
       "\n",
       "    <style>\n",
       "    table.eli5-weights tr:hover {\n",
       "        filter: brightness(85%);\n",
       "    }\n",
       "</style>\n",
       "\n",
       "\n",
       "\n",
       "    \n",
       "\n",
       "    \n",
       "\n",
       "    \n",
       "\n",
       "    \n",
       "\n",
       "    \n",
       "\n",
       "    \n",
       "\n",
       "\n",
       "    \n",
       "\n",
       "    \n",
       "\n",
       "    \n",
       "\n",
       "    \n",
       "        \n",
       "\n",
       "    \n",
       "\n",
       "        \n",
       "\n",
       "        \n",
       "    \n",
       "        \n",
       "        \n",
       "    \n",
       "        <p style=\"margin-bottom: 0.5em; margin-top: 0em\">\n",
       "            <b>\n",
       "    \n",
       "        y=bangladesh\n",
       "    \n",
       "</b>\n",
       "\n",
       "    \n",
       "    (probability <b>0.504</b>, score <b>-0.041</b>)\n",
       "\n",
       "top features\n",
       "        </p>\n",
       "    \n",
       "    <table class=\"eli5-weights\"\n",
       "           style=\"border-collapse: collapse; border: none; margin-top: 0em; table-layout: auto; margin-bottom: 2em;\">\n",
       "        <thead>\n",
       "        <tr style=\"border: none;\">\n",
       "            \n",
       "                <th style=\"padding: 0 1em 0 0.5em; text-align: right; border: none;\" title=\"Feature contribution already accounts for the feature value (for linear models, contribution = weight * feature value), and the sum of feature contributions is equal to the score or, for some classifiers, to the probability. Feature values are shown if &quot;show_feature_values&quot; is True.\">\n",
       "                    Contribution<sup>?</sup>\n",
       "                </th>\n",
       "            \n",
       "            <th style=\"padding: 0 0.5em 0 0.5em; text-align: left; border: none;\">Feature</th>\n",
       "            \n",
       "        </tr>\n",
       "        </thead>\n",
       "        <tbody>\n",
       "        \n",
       "            <tr style=\"background-color: hsl(120, 100.00%, 82.41%); border: none;\">\n",
       "    <td style=\"padding: 0 1em 0 0.5em; text-align: right; border: none;\">\n",
       "        +0.201\n",
       "    </td>\n",
       "    <td style=\"padding: 0 0.5em 0 0.5em; text-align: left; border: none;\">\n",
       "        &lt;BIAS&gt;\n",
       "    </td>\n",
       "    \n",
       "</tr>\n",
       "        \n",
       "        \n",
       "\n",
       "        \n",
       "        \n",
       "            <tr style=\"background-color: hsl(0, 100.00%, 80.00%); border: none;\">\n",
       "    <td style=\"padding: 0 1em 0 0.5em; text-align: right; border: none;\">\n",
       "        -0.242\n",
       "    </td>\n",
       "    <td style=\"padding: 0 0.5em 0 0.5em; text-align: left; border: none;\">\n",
       "        Highlighted in text (sum)\n",
       "    </td>\n",
       "    \n",
       "</tr>\n",
       "        \n",
       "\n",
       "        </tbody>\n",
       "    </table>\n",
       "\n",
       "    \n",
       "\n",
       "\n",
       "\n",
       "    <p style=\"margin-bottom: 2.5em; margin-top:-0.5em;\">\n",
       "        <span style=\"opacity: 0.80\">শি</span><span style=\"background-color: hsl(120, 100.00%, 86.77%); opacity: 0.84\" title=\"0.049\">ক</span><span style=\"opacity: 0.80\">্</span><span style=\"background-color: hsl(120, 100.00%, 74.01%); opacity: 0.91\" title=\"0.130\">ষ</span><span style=\"opacity: 0.80\">া </span><span style=\"background-color: hsl(120, 100.00%, 94.22%); opacity: 0.81\" title=\"0.015\">মন</span><span style=\"opacity: 0.80\">্</span><span style=\"background-color: hsl(120, 100.00%, 94.22%); opacity: 0.81\" title=\"0.015\">ত</span><span style=\"opacity: 0.80\">্রণা</span><span style=\"background-color: hsl(0, 100.00%, 92.78%); opacity: 0.82\" title=\"-0.021\">লয়</span><span style=\"opacity: 0.80\">ে এমন </span><span style=\"background-color: hsl(0, 100.00%, 94.07%); opacity: 0.81\" title=\"-0.016\">প</span><span style=\"opacity: 0.80\">্</span><span style=\"background-color: hsl(120, 100.00%, 93.85%); opacity: 0.81\" title=\"0.017\">রস</span><span style=\"opacity: 0.80\">্</span><span style=\"background-color: hsl(0, 100.00%, 84.08%); opacity: 0.85\" title=\"-0.064\">ত</span><span style=\"opacity: 0.80\">া</span><span style=\"background-color: hsl(0, 100.00%, 86.02%); opacity: 0.84\" title=\"-0.053\">ব</span><span style=\"opacity: 0.80\"> </span><span style=\"background-color: hsl(0, 100.00%, 77.87%); opacity: 0.89\" title=\"-0.103\">দ</span><span style=\"opacity: 0.80\">ি</span><span style=\"background-color: hsl(0, 100.00%, 80.62%); opacity: 0.87\" title=\"-0.085\">য়</span><span style=\"opacity: 0.80\">ে</span><span style=\"background-color: hsl(120, 100.00%, 82.29%); opacity: 0.86\" title=\"0.075\">ছ</span><span style=\"opacity: 0.80\">ে </span><span style=\"background-color: hsl(120, 100.00%, 80.20%); opacity: 0.87\" title=\"0.088\">য</span><span style=\"opacity: 0.80\">ে</span><span style=\"background-color: hsl(120, 100.00%, 88.96%); opacity: 0.83\" title=\"0.038\">খ</span><span style=\"opacity: 0.80\">া</span><span style=\"background-color: hsl(0, 100.00%, 97.83%); opacity: 0.80\" title=\"-0.004\">ন</span><span style=\"opacity: 0.80\">ে </span><span style=\"background-color: hsl(0, 100.00%, 90.53%); opacity: 0.83\" title=\"-0.031\">ছ</span><span style=\"opacity: 0.80\">াত্</span><span style=\"background-color: hsl(120, 100.00%, 93.42%); opacity: 0.82\" title=\"0.018\">রছ</span><span style=\"opacity: 0.80\">া</span><span style=\"background-color: hsl(0, 100.00%, 89.76%); opacity: 0.83\" title=\"-0.034\">ত</span><span style=\"opacity: 0.80\">্রী</span><span style=\"background-color: hsl(0, 100.00%, 79.83%); opacity: 0.88\" title=\"-0.090\">দ</span><span style=\"opacity: 0.80\">ে</span><span style=\"background-color: hsl(0, 100.00%, 83.00%); opacity: 0.86\" title=\"-0.071\">রদ</span><span style=\"opacity: 0.80\">ে</span><span style=\"background-color: hsl(0, 100.00%, 60.00%); opacity: 1.00\" title=\"-0.240\">র</span><span style=\"opacity: 0.80\"> </span><span style=\"background-color: hsl(0, 100.00%, 70.76%); opacity: 0.93\" title=\"-0.153\">বই</span><span style=\"opacity: 0.80\"> </span><span style=\"background-color: hsl(120, 100.00%, 84.23%); opacity: 0.85\" title=\"0.063\">খ</span><span style=\"opacity: 0.80\">াতা কে</span><span style=\"background-color: hsl(0, 100.00%, 86.27%); opacity: 0.84\" title=\"-0.052\">ন</span><span style=\"opacity: 0.80\">া </span><span style=\"background-color: hsl(0, 100.00%, 65.04%); opacity: 0.97\" title=\"-0.198\">হব</span><span style=\"opacity: 0.80\">ে </span><span style=\"background-color: hsl(0, 100.00%, 74.74%); opacity: 0.90\" title=\"-0.124\">সব</span><span style=\"opacity: 0.80\">া</span><span style=\"background-color: hsl(0, 100.00%, 68.14%); opacity: 0.94\" title=\"-0.173\">র</span><span style=\"opacity: 0.80\"> </span><span style=\"background-color: hsl(0, 100.00%, 86.66%); opacity: 0.84\" title=\"-0.050\">জন</span><span style=\"opacity: 0.80\">্</span><span style=\"background-color: hsl(0, 100.00%, 83.60%); opacity: 0.86\" title=\"-0.067\">য</span><span style=\"opacity: 0.80\">।</span>\n",
       "    </p>\n",
       "\n",
       "\n",
       "    \n",
       "\n",
       "    \n",
       "\n",
       "    \n",
       "\n",
       "    \n",
       "\n",
       "\n",
       "    \n",
       "\n",
       "    \n",
       "\n",
       "    \n",
       "\n",
       "    \n",
       "\n",
       "    \n",
       "\n",
       "    \n",
       "\n",
       "\n",
       "    \n",
       "\n",
       "    \n",
       "\n",
       "    \n",
       "\n",
       "    \n",
       "\n",
       "    \n",
       "\n",
       "    \n",
       "\n",
       "\n",
       "\n"
      ],
      "text/plain": [
       "<IPython.core.display.HTML object>"
      ]
     },
     "execution_count": 30,
     "metadata": {
      "tags": []
     },
     "output_type": "execute_result"
    }
   ],
   "source": [
    "predictor.explain('শিক্ষা মন্ত্রণালয়ে এমন প্রস্তাব দিয়েছে যেখানে ছাত্রছাত্রীদেরদের বই খাতা কেনা হবে সবার জন্য।')"
   ]
  },
  {
   "cell_type": "code",
   "execution_count": null,
   "metadata": {
    "id": "gWmLODVIhHAI"
   },
   "outputs": [],
   "source": [
    "# টেন্সরফ্লোতে মডেল সেভ করা\r\n",
    "# model.save('/content/gdrive/My Drive/Colab Notebooks/saved_model/my_model')"
   ]
  },
  {
   "cell_type": "code",
   "execution_count": 39,
   "metadata": {
    "id": "L5ZmERqWoOtr"
   },
   "outputs": [],
   "source": [
    "# reload the model using transformers directly\r\n",
    "from transformers import *\r\n",
    "model = TFAutoModelForSequenceClassification.from_pretrained('/content/drive/MyDrive/Colab Notebooks/saved_model/bangla_news_predictor')\r\n",
    "model.compile(loss='categorical_crossentropy',optimizer='adam', metrics=['accuracy'])"
   ]
  },
  {
   "cell_type": "code",
   "execution_count": 40,
   "metadata": {
    "colab": {
     "base_uri": "https://localhost:8080/"
    },
    "id": "pvEjEEpf94eE",
    "outputId": "b8a186fc-d358-4a80-b9f4-5543864b68fe"
   },
   "outputs": [
    {
     "name": "stdout",
     "output_type": "stream",
     "text": [
      "Model: \"tf_bert_for_sequence_classification_2\"\n",
      "_________________________________________________________________\n",
      "Layer (type)                 Output Shape              Param #   \n",
      "=================================================================\n",
      "bert (TFBertMainLayer)       multiple                  164396544 \n",
      "_________________________________________________________________\n",
      "dropout_150 (Dropout)        multiple                  0         \n",
      "_________________________________________________________________\n",
      "classifier (Dense)           multiple                  6921      \n",
      "=================================================================\n",
      "Total params: 164,403,465\n",
      "Trainable params: 164,403,465\n",
      "Non-trainable params: 0\n",
      "_________________________________________________________________\n"
     ]
    }
   ],
   "source": [
    "model.summary()"
   ]
  },
  {
   "cell_type": "code",
   "execution_count": 36,
   "metadata": {
    "id": "NQzeo5lZypd_"
   },
   "outputs": [],
   "source": [
    "reloaded_predictor = ktrain.load_predictor('/content/drive/MyDrive/Colab Notebooks/saved_model/bangla_news_predictor_kt')"
   ]
  },
  {
   "cell_type": "code",
   "execution_count": 37,
   "metadata": {
    "colab": {
     "base_uri": "https://localhost:8080/"
    },
    "id": "UrMJK8d1N3Qp",
    "outputId": "ffa663ad-04a6-4061-80eb-d1d26157e030"
   },
   "outputs": [
    {
     "data": {
      "text/plain": [
       "array([0.61413276, 0.04161949, 0.0186341 , 0.06025607, 0.06673001,\n",
       "       0.02094929, 0.0295498 , 0.1108271 , 0.03730145], dtype=float32)"
      ]
     },
     "execution_count": 37,
     "metadata": {
      "tags": []
     },
     "output_type": "execute_result"
    }
   ],
   "source": [
    "reloaded_predictor.predict_proba('বঙ্গবন্ধু টি–টোয়েন্টি কাপে কাল জেমকন খুলনার হয়ে খেলার ম্যাচে ৪ ওভারে ২৮ রানে ১ উইকেট নেন মাশরাফি বিন মুর্তজা।')"
   ]
  },
  {
   "cell_type": "code",
   "execution_count": 38,
   "metadata": {
    "colab": {
     "base_uri": "https://localhost:8080/"
    },
    "id": "gl2giMeZOQ68",
    "outputId": "2d3a9f6e-e7ab-4aca-83bc-7198668f79e3"
   },
   "outputs": [
    {
     "data": {
      "text/plain": [
       "['bangladesh',\n",
       " 'economy',\n",
       " 'education',\n",
       " 'entertainment',\n",
       " 'international',\n",
       " 'life-style',\n",
       " 'opinion',\n",
       " 'sports',\n",
       " 'technology']"
      ]
     },
     "execution_count": 38,
     "metadata": {
      "tags": []
     },
     "output_type": "execute_result"
    }
   ],
   "source": [
    "reloaded_predictor.get_classes()"
   ]
  },
  {
   "cell_type": "code",
   "execution_count": 33,
   "metadata": {
    "colab": {
     "base_uri": "https://localhost:8080/"
    },
    "id": "LPS3uPWSwob0",
    "outputId": "2562620a-837c-4251-d0fa-4b39de13a03c"
   },
   "outputs": [
    {
     "name": "stdout",
     "output_type": "stream",
     "text": [
      "total 628M\n",
      "-rw------- 1 root root  902 Dec 14 11:10 config.json\n",
      "-rw------- 1 root root 628M Dec 14 11:11 tf_model.h5\n"
     ]
    }
   ],
   "source": [
    "!ls -ahl '/content/drive/MyDrive/Colab Notebooks/saved_model/bangla_news_predictor'"
   ]
  },
  {
   "cell_type": "code",
   "execution_count": 31,
   "metadata": {
    "colab": {
     "base_uri": "https://localhost:8080/",
     "height": 220
    },
    "id": "zmyqyjbJxfJI",
    "outputId": "8094a5ad-32c5-4e6e-915f-09644b3fc37f"
   },
   "outputs": [
    {
     "data": {
      "text/html": [
       "\n",
       "    <style>\n",
       "    table.eli5-weights tr:hover {\n",
       "        filter: brightness(85%);\n",
       "    }\n",
       "</style>\n",
       "\n",
       "\n",
       "\n",
       "    \n",
       "\n",
       "    \n",
       "\n",
       "    \n",
       "\n",
       "    \n",
       "\n",
       "    \n",
       "\n",
       "    \n",
       "\n",
       "\n",
       "    \n",
       "\n",
       "    \n",
       "\n",
       "    \n",
       "\n",
       "    \n",
       "        \n",
       "\n",
       "    \n",
       "\n",
       "        \n",
       "\n",
       "        \n",
       "    \n",
       "        \n",
       "        \n",
       "    \n",
       "        <p style=\"margin-bottom: 0.5em; margin-top: 0em\">\n",
       "            <b>\n",
       "    \n",
       "        y=bangladesh\n",
       "    \n",
       "</b>\n",
       "\n",
       "    \n",
       "    (probability <b>0.596</b>, score <b>0.877</b>)\n",
       "\n",
       "top features\n",
       "        </p>\n",
       "    \n",
       "    <table class=\"eli5-weights\"\n",
       "           style=\"border-collapse: collapse; border: none; margin-top: 0em; table-layout: auto; margin-bottom: 2em;\">\n",
       "        <thead>\n",
       "        <tr style=\"border: none;\">\n",
       "            \n",
       "                <th style=\"padding: 0 1em 0 0.5em; text-align: right; border: none;\" title=\"Feature contribution already accounts for the feature value (for linear models, contribution = weight * feature value), and the sum of feature contributions is equal to the score or, for some classifiers, to the probability. Feature values are shown if &quot;show_feature_values&quot; is True.\">\n",
       "                    Contribution<sup>?</sup>\n",
       "                </th>\n",
       "            \n",
       "            <th style=\"padding: 0 0.5em 0 0.5em; text-align: left; border: none;\">Feature</th>\n",
       "            \n",
       "        </tr>\n",
       "        </thead>\n",
       "        <tbody>\n",
       "        \n",
       "            <tr style=\"background-color: hsl(120, 100.00%, 80.00%); border: none;\">\n",
       "    <td style=\"padding: 0 1em 0 0.5em; text-align: right; border: none;\">\n",
       "        +0.754\n",
       "    </td>\n",
       "    <td style=\"padding: 0 0.5em 0 0.5em; text-align: left; border: none;\">\n",
       "        Highlighted in text (sum)\n",
       "    </td>\n",
       "    \n",
       "</tr>\n",
       "        \n",
       "            <tr style=\"background-color: hsl(120, 100.00%, 94.38%); border: none;\">\n",
       "    <td style=\"padding: 0 1em 0 0.5em; text-align: right; border: none;\">\n",
       "        +0.123\n",
       "    </td>\n",
       "    <td style=\"padding: 0 0.5em 0 0.5em; text-align: left; border: none;\">\n",
       "        &lt;BIAS&gt;\n",
       "    </td>\n",
       "    \n",
       "</tr>\n",
       "        \n",
       "        \n",
       "\n",
       "        \n",
       "        \n",
       "\n",
       "        </tbody>\n",
       "    </table>\n",
       "\n",
       "    \n",
       "\n",
       "\n",
       "\n",
       "    <p style=\"margin-bottom: 2.5em; margin-top:-0.5em;\">\n",
       "        <span style=\"background-color: hsl(0, 100.00%, 87.01%); opacity: 0.84\" title=\"-0.038\">ড</span><span style=\"opacity: 0.80\">ি</span><span style=\"background-color: hsl(120, 100.00%, 93.12%); opacity: 0.82\" title=\"0.015\">জ</span><span style=\"opacity: 0.80\">ি</span><span style=\"background-color: hsl(0, 100.00%, 92.51%); opacity: 0.82\" title=\"-0.017\">ট</span><span style=\"opacity: 0.80\">া</span><span style=\"background-color: hsl(0, 100.00%, 78.45%); opacity: 0.88\" title=\"-0.078\">ল</span><span style=\"opacity: 0.80\"> </span><span style=\"background-color: hsl(0, 100.00%, 80.81%); opacity: 0.87\" title=\"-0.066\">ব</span><span style=\"opacity: 0.80\">াং</span><span style=\"background-color: hsl(0, 100.00%, 79.63%); opacity: 0.88\" title=\"-0.072\">ল</span><span style=\"opacity: 0.80\">া</span><span style=\"background-color: hsl(120, 100.00%, 92.50%); opacity: 0.82\" title=\"0.017\">দ</span><span style=\"opacity: 0.80\">ে</span><span style=\"background-color: hsl(120, 100.00%, 86.99%); opacity: 0.84\" title=\"0.038\">শ</span><span style=\"opacity: 0.80\"> </span><span style=\"background-color: hsl(120, 100.00%, 89.50%); opacity: 0.83\" title=\"0.028\">গড়</span><span style=\"opacity: 0.80\">া</span><span style=\"background-color: hsl(120, 100.00%, 97.71%); opacity: 0.80\" title=\"0.003\">র</span><span style=\"opacity: 0.80\"> </span><span style=\"background-color: hsl(120, 100.00%, 91.28%); opacity: 0.82\" title=\"0.022\">পর</span><span style=\"opacity: 0.80\">ি</span><span style=\"background-color: hsl(0, 100.00%, 91.11%); opacity: 0.82\" title=\"-0.022\">কল</span><span style=\"opacity: 0.80\">্</span><span style=\"background-color: hsl(120, 100.00%, 93.85%); opacity: 0.81\" title=\"0.013\">পন</span><span style=\"opacity: 0.80\">া</span><span style=\"background-color: hsl(0, 100.00%, 85.23%); opacity: 0.85\" title=\"-0.046\">র</span><span style=\"opacity: 0.80\"> </span><span style=\"background-color: hsl(0, 100.00%, 69.24%); opacity: 0.94\" title=\"-0.130\">অ</span><span style=\"opacity: 0.80\">ং</span><span style=\"background-color: hsl(0, 100.00%, 90.76%); opacity: 0.82\" title=\"-0.023\">শ</span><span style=\"opacity: 0.80\"> </span><span style=\"background-color: hsl(0, 100.00%, 84.21%); opacity: 0.85\" title=\"-0.050\">হ</span><span style=\"opacity: 0.80\">ি</span><span style=\"background-color: hsl(0, 100.00%, 80.86%); opacity: 0.87\" title=\"-0.066\">স</span><span style=\"opacity: 0.80\">া</span><span style=\"background-color: hsl(0, 100.00%, 97.32%); opacity: 0.80\" title=\"-0.004\">ব</span><span style=\"opacity: 0.80\">ে ই-কমা</span><span style=\"background-color: hsl(120, 100.00%, 96.41%); opacity: 0.81\" title=\"0.006\">র</span><span style=\"opacity: 0.80\">্</span><span style=\"background-color: hsl(0, 100.00%, 99.06%); opacity: 0.80\" title=\"-0.001\">স</span><span style=\"opacity: 0.80\">ে </span><span style=\"background-color: hsl(0, 100.00%, 90.28%); opacity: 0.83\" title=\"-0.025\">দক</span><span style=\"opacity: 0.80\">্</span><span style=\"background-color: hsl(120, 100.00%, 92.54%); opacity: 0.82\" title=\"0.017\">ষ</span><span style=\"opacity: 0.80\"> </span><span style=\"background-color: hsl(120, 100.00%, 78.62%); opacity: 0.88\" title=\"0.077\">জনবল</span><span style=\"opacity: 0.80\"> </span><span style=\"background-color: hsl(0, 100.00%, 90.37%); opacity: 0.83\" title=\"-0.025\">ব</span><span style=\"opacity: 0.80\">ৃ</span><span style=\"background-color: hsl(0, 100.00%, 79.92%); opacity: 0.87\" title=\"-0.071\">দ</span><span style=\"opacity: 0.80\">্</span><span style=\"background-color: hsl(0, 100.00%, 85.14%); opacity: 0.85\" title=\"-0.046\">ধ</span><span style=\"opacity: 0.80\">ি ও </span><span style=\"background-color: hsl(120, 100.00%, 76.79%); opacity: 0.89\" title=\"0.087\">কর</span><span style=\"opacity: 0.80\">্</span><span style=\"background-color: hsl(120, 100.00%, 81.10%); opacity: 0.87\" title=\"0.065\">মস</span><span style=\"opacity: 0.80\">ং</span><span style=\"background-color: hsl(120, 100.00%, 79.59%); opacity: 0.88\" title=\"0.072\">স</span><span style=\"opacity: 0.80\">্</span><span style=\"background-color: hsl(120, 100.00%, 80.91%); opacity: 0.87\" title=\"0.066\">থ</span><span style=\"opacity: 0.80\">া</span><span style=\"background-color: hsl(120, 100.00%, 84.46%); opacity: 0.85\" title=\"0.049\">ন</span><span style=\"opacity: 0.80\"> </span><span style=\"background-color: hsl(0, 100.00%, 94.73%); opacity: 0.81\" title=\"-0.010\">স</span><span style=\"opacity: 0.80\">ৃ</span><span style=\"background-color: hsl(0, 100.00%, 82.13%); opacity: 0.86\" title=\"-0.060\">ষ</span><span style=\"opacity: 0.80\">্</span><span style=\"background-color: hsl(0, 100.00%, 92.23%); opacity: 0.82\" title=\"-0.018\">ট</span><span style=\"opacity: 0.80\">ি </span><span style=\"background-color: hsl(120, 100.00%, 76.91%); opacity: 0.89\" title=\"0.086\">কর</span><span style=\"opacity: 0.80\">া</span><span style=\"background-color: hsl(120, 100.00%, 89.12%); opacity: 0.83\" title=\"0.029\">র</span><span style=\"opacity: 0.80\"> </span><span style=\"background-color: hsl(120, 100.00%, 86.71%); opacity: 0.84\" title=\"0.039\">লক</span><span style=\"opacity: 0.80\">্</span><span style=\"background-color: hsl(120, 100.00%, 86.79%); opacity: 0.84\" title=\"0.039\">ষ</span><span style=\"opacity: 0.80\">্</span><span style=\"background-color: hsl(120, 100.00%, 82.08%); opacity: 0.86\" title=\"0.060\">য</span><span style=\"opacity: 0.80\">ে </span><span style=\"background-color: hsl(120, 100.00%, 70.84%); opacity: 0.93\" title=\"0.121\">ব</span><span style=\"opacity: 0.80\">া</span><span style=\"background-color: hsl(0, 100.00%, 85.25%); opacity: 0.85\" title=\"-0.046\">ণ</span><span style=\"opacity: 0.80\">ি</span><span style=\"background-color: hsl(120, 100.00%, 68.97%); opacity: 0.94\" title=\"0.132\">জ</span><span style=\"opacity: 0.80\">্</span><span style=\"background-color: hsl(120, 100.00%, 88.07%); opacity: 0.84\" title=\"0.034\">য</span><span style=\"opacity: 0.80\"> </span><span style=\"background-color: hsl(0, 100.00%, 95.61%); opacity: 0.81\" title=\"-0.008\">মন</span><span style=\"opacity: 0.80\">্</span><span style=\"background-color: hsl(0, 100.00%, 80.87%); opacity: 0.87\" title=\"-0.066\">ত</span><span style=\"opacity: 0.80\">্</span><span style=\"background-color: hsl(0, 100.00%, 93.50%); opacity: 0.81\" title=\"-0.014\">রণ</span><span style=\"opacity: 0.80\">া</span><span style=\"background-color: hsl(0, 100.00%, 94.11%); opacity: 0.81\" title=\"-0.012\">লয়</span><span style=\"opacity: 0.80\">ে</span><span style=\"background-color: hsl(0, 100.00%, 85.43%); opacity: 0.85\" title=\"-0.045\">র</span><span style=\"opacity: 0.80\"> ‘</span><span style=\"background-color: hsl(0, 100.00%, 72.52%); opacity: 0.92\" title=\"-0.111\">ই</span><span style=\"opacity: 0.80\">-</span><span style=\"background-color: hsl(120, 100.00%, 98.13%); opacity: 0.80\" title=\"0.002\">ব</span><span style=\"opacity: 0.80\">া</span><span style=\"background-color: hsl(0, 100.00%, 85.25%); opacity: 0.85\" title=\"-0.046\">ণ</span><span style=\"opacity: 0.80\">ি</span><span style=\"background-color: hsl(120, 100.00%, 68.97%); opacity: 0.94\" title=\"0.132\">জ</span><span style=\"opacity: 0.80\">্</span><span style=\"background-color: hsl(120, 100.00%, 77.26%); opacity: 0.89\" title=\"0.085\">য</span><span style=\"opacity: 0.80\"> </span><span style=\"background-color: hsl(0, 100.00%, 93.68%); opacity: 0.81\" title=\"-0.014\">করব</span><span style=\"opacity: 0.80\">ো </span><span style=\"background-color: hsl(120, 100.00%, 89.03%); opacity: 0.83\" title=\"0.030\">ন</span><span style=\"opacity: 0.80\">ি</span><span style=\"background-color: hsl(120, 100.00%, 82.42%); opacity: 0.86\" title=\"0.059\">জ</span><span style=\"opacity: 0.80\">ে</span><span style=\"background-color: hsl(0, 100.00%, 87.77%); opacity: 0.84\" title=\"-0.035\">র</span><span style=\"opacity: 0.80\"> </span><span style=\"background-color: hsl(0, 100.00%, 79.62%); opacity: 0.88\" title=\"-0.072\">ব</span><span style=\"opacity: 0.80\">্</span><span style=\"background-color: hsl(120, 100.00%, 87.52%); opacity: 0.84\" title=\"0.036\">যবস</span><span style=\"opacity: 0.80\">া </span><span style=\"background-color: hsl(120, 100.00%, 89.32%); opacity: 0.83\" title=\"0.029\">গড়ব</span><span style=\"opacity: 0.80\">ো’ </span><span style=\"background-color: hsl(120, 100.00%, 96.94%); opacity: 0.81\" title=\"0.005\">প</span><span style=\"opacity: 0.80\">্</span><span style=\"background-color: hsl(120, 100.00%, 85.24%); opacity: 0.85\" title=\"0.046\">রকল</span><span style=\"opacity: 0.80\">্</span><span style=\"background-color: hsl(0, 100.00%, 78.92%); opacity: 0.88\" title=\"-0.076\">প</span><span style=\"opacity: 0.80\">ে</span><span style=\"background-color: hsl(120, 100.00%, 94.72%); opacity: 0.81\" title=\"0.010\">র</span><span style=\"opacity: 0.80\"> </span><span style=\"background-color: hsl(120, 100.00%, 94.09%); opacity: 0.81\" title=\"0.012\">আওত</span><span style=\"opacity: 0.80\">া</span><span style=\"background-color: hsl(0, 100.00%, 94.64%); opacity: 0.81\" title=\"-0.011\">য়</span><span style=\"opacity: 0.80\"> </span><span style=\"background-color: hsl(0, 100.00%, 94.64%); opacity: 0.81\" title=\"-0.011\">দ</span><span style=\"opacity: 0.80\">ে</span><span style=\"background-color: hsl(120, 100.00%, 80.40%); opacity: 0.87\" title=\"0.068\">শব</span><span style=\"opacity: 0.80\">্</span><span style=\"background-color: hsl(0, 100.00%, 85.48%); opacity: 0.85\" title=\"-0.045\">য</span><span style=\"opacity: 0.80\">া</span><span style=\"background-color: hsl(0, 100.00%, 91.06%); opacity: 0.82\" title=\"-0.022\">প</span><span style=\"opacity: 0.80\">ী ই-কমা</span><span style=\"background-color: hsl(120, 100.00%, 96.41%); opacity: 0.81\" title=\"0.006\">র</span><span style=\"opacity: 0.80\">্</span><span style=\"background-color: hsl(0, 100.00%, 92.66%); opacity: 0.82\" title=\"-0.017\">স</span><span style=\"opacity: 0.80\"> </span><span style=\"background-color: hsl(0, 100.00%, 97.32%); opacity: 0.80\" title=\"-0.004\">ব</span><span style=\"opacity: 0.80\">ি</span><span style=\"background-color: hsl(120, 100.00%, 81.18%); opacity: 0.87\" title=\"0.064\">ষয়ক</span><span style=\"opacity: 0.80\"> </span><span style=\"background-color: hsl(120, 100.00%, 76.80%); opacity: 0.89\" title=\"0.087\">প</span><span style=\"opacity: 0.80\">্</span><span style=\"background-color: hsl(120, 100.00%, 83.47%); opacity: 0.86\" title=\"0.054\">রশ</span><span style=\"opacity: 0.80\">ি</span><span style=\"background-color: hsl(120, 100.00%, 88.89%); opacity: 0.83\" title=\"0.030\">ক</span><span style=\"opacity: 0.80\">্</span><span style=\"background-color: hsl(0, 100.00%, 78.76%); opacity: 0.88\" title=\"-0.077\">ষণ</span><span style=\"opacity: 0.80\"> </span><span style=\"background-color: hsl(0, 100.00%, 79.91%); opacity: 0.87\" title=\"-0.071\">পর</span><span style=\"opacity: 0.80\">ি</span><span style=\"background-color: hsl(0, 100.00%, 80.56%); opacity: 0.87\" title=\"-0.068\">চ</span><span style=\"opacity: 0.80\">া</span><span style=\"background-color: hsl(0, 100.00%, 92.46%); opacity: 0.82\" title=\"-0.017\">ল</span><span style=\"opacity: 0.80\">ি</span><span style=\"background-color: hsl(120, 100.00%, 62.96%); opacity: 0.98\" title=\"0.170\">ত</span><span style=\"opacity: 0.80\"> </span><span style=\"background-color: hsl(120, 100.00%, 76.68%); opacity: 0.89\" title=\"0.088\">হচ</span><span style=\"opacity: 0.80\">্</span><span style=\"background-color: hsl(120, 100.00%, 77.23%); opacity: 0.89\" title=\"0.085\">ছ</span><span style=\"opacity: 0.80\">ে। </span><span style=\"background-color: hsl(120, 100.00%, 78.55%); opacity: 0.88\" title=\"0.078\">চত</span><span style=\"opacity: 0.80\">ু</span><span style=\"background-color: hsl(0, 100.00%, 81.71%); opacity: 0.87\" title=\"-0.062\">র</span><span style=\"opacity: 0.80\">্</span><span style=\"background-color: hsl(0, 100.00%, 78.89%); opacity: 0.88\" title=\"-0.076\">থ</span><span style=\"opacity: 0.80\"> </span><span style=\"background-color: hsl(120, 100.00%, 90.96%); opacity: 0.82\" title=\"0.023\">শ</span><span style=\"opacity: 0.80\">ি</span><span style=\"background-color: hsl(120, 100.00%, 89.69%); opacity: 0.83\" title=\"0.027\">ল</span><span style=\"opacity: 0.80\">্</span><span style=\"background-color: hsl(120, 100.00%, 77.26%); opacity: 0.89\" title=\"0.085\">প</span><span style=\"opacity: 0.80\"> </span><span style=\"background-color: hsl(120, 100.00%, 93.55%); opacity: 0.81\" title=\"0.014\">ব</span><span style=\"opacity: 0.80\">ি</span><span style=\"background-color: hsl(0, 100.00%, 87.67%); opacity: 0.84\" title=\"-0.035\">প</span><span style=\"opacity: 0.80\">্লবে</span><span style=\"background-color: hsl(120, 100.00%, 93.51%); opacity: 0.81\" title=\"0.014\">র</span><span style=\"opacity: 0.80\"> </span><span style=\"background-color: hsl(0, 100.00%, 94.38%); opacity: 0.81\" title=\"-0.011\">চ</span><span style=\"opacity: 0.80\">্</span><span style=\"background-color: hsl(0, 100.00%, 73.33%); opacity: 0.91\" title=\"-0.106\">য</span><span style=\"opacity: 0.80\">া</span><span style=\"background-color: hsl(0, 100.00%, 77.77%); opacity: 0.89\" title=\"-0.082\">ল</span><span style=\"opacity: 0.80\">ে</span><span style=\"background-color: hsl(120, 100.00%, 93.93%); opacity: 0.81\" title=\"0.013\">ঞ</span><span style=\"opacity: 0.80\">্</span><span style=\"background-color: hsl(120, 100.00%, 78.56%); opacity: 0.88\" title=\"0.078\">জ</span><span style=\"opacity: 0.80\"> </span><span style=\"background-color: hsl(120, 100.00%, 92.07%); opacity: 0.82\" title=\"0.019\">ম</span><span style=\"opacity: 0.80\">ো</span><span style=\"background-color: hsl(0, 100.00%, 84.52%); opacity: 0.85\" title=\"-0.049\">ক</span><span style=\"opacity: 0.80\">া</span><span style=\"background-color: hsl(120, 100.00%, 94.40%); opacity: 0.81\" title=\"0.011\">ব</span><span style=\"opacity: 0.80\">েলা</span><span style=\"background-color: hsl(0, 100.00%, 75.89%); opacity: 0.90\" title=\"-0.092\">য়</span><span style=\"opacity: 0.80\"> </span><span style=\"background-color: hsl(0, 100.00%, 75.89%); opacity: 0.90\" title=\"-0.092\">ই</span><span style=\"opacity: 0.80\">-কমা</span><span style=\"background-color: hsl(120, 100.00%, 96.41%); opacity: 0.81\" title=\"0.006\">র</span><span style=\"opacity: 0.80\">্</span><span style=\"background-color: hsl(0, 100.00%, 99.06%); opacity: 0.80\" title=\"-0.001\">স</span><span style=\"opacity: 0.80\">ে </span><span style=\"background-color: hsl(0, 100.00%, 90.28%); opacity: 0.83\" title=\"-0.025\">দক</span><span style=\"opacity: 0.80\">্</span><span style=\"background-color: hsl(120, 100.00%, 92.54%); opacity: 0.82\" title=\"0.017\">ষ</span><span style=\"opacity: 0.80\"> </span><span style=\"background-color: hsl(0, 100.00%, 88.23%); opacity: 0.83\" title=\"-0.033\">জনবল</span><span style=\"opacity: 0.80\"> </span><span style=\"background-color: hsl(0, 100.00%, 72.58%); opacity: 0.92\" title=\"-0.110\">আম</span><span style=\"opacity: 0.80\">া</span><span style=\"background-color: hsl(120, 100.00%, 92.75%); opacity: 0.82\" title=\"0.017\">দ</span><span style=\"opacity: 0.80\">ে</span><span style=\"background-color: hsl(120, 100.00%, 88.83%); opacity: 0.83\" title=\"0.031\">র</span><span style=\"opacity: 0.80\"> </span><span style=\"background-color: hsl(120, 100.00%, 83.49%); opacity: 0.86\" title=\"0.053\">অর</span><span style=\"opacity: 0.80\">্</span><span style=\"background-color: hsl(0, 100.00%, 87.61%); opacity: 0.84\" title=\"-0.035\">থন</span><span style=\"opacity: 0.80\">ী</span><span style=\"background-color: hsl(0, 100.00%, 90.54%); opacity: 0.83\" title=\"-0.024\">ত</span><span style=\"opacity: 0.80\">ি</span><span style=\"background-color: hsl(120, 100.00%, 98.33%); opacity: 0.80\" title=\"0.002\">র</span><span style=\"opacity: 0.80\"> </span><span style=\"background-color: hsl(0, 100.00%, 95.63%); opacity: 0.81\" title=\"-0.008\">চ</span><span style=\"opacity: 0.80\">া</span><span style=\"background-color: hsl(0, 100.00%, 95.63%); opacity: 0.81\" title=\"-0.008\">ক</span><span style=\"opacity: 0.80\">া</span><span style=\"background-color: hsl(0, 100.00%, 88.50%); opacity: 0.83\" title=\"-0.032\">ক</span><span style=\"opacity: 0.80\">ে </span><span style=\"background-color: hsl(0, 100.00%, 80.90%); opacity: 0.87\" title=\"-0.066\">সচল</span><span style=\"opacity: 0.80\"> </span><span style=\"background-color: hsl(120, 100.00%, 74.28%); opacity: 0.91\" title=\"0.101\">র</span><span style=\"opacity: 0.80\">া</span><span style=\"background-color: hsl(120, 100.00%, 86.35%); opacity: 0.84\" title=\"0.041\">খব</span><span style=\"opacity: 0.80\">ে। </span><span style=\"background-color: hsl(0, 100.00%, 87.01%); opacity: 0.84\" title=\"-0.038\">ড</span><span style=\"opacity: 0.80\">ি</span><span style=\"background-color: hsl(120, 100.00%, 93.12%); opacity: 0.82\" title=\"0.015\">জ</span><span style=\"opacity: 0.80\">ি</span><span style=\"background-color: hsl(0, 100.00%, 92.51%); opacity: 0.82\" title=\"-0.017\">ট</span><span style=\"opacity: 0.80\">া</span><span style=\"background-color: hsl(0, 100.00%, 94.22%); opacity: 0.81\" title=\"-0.012\">ল</span><span style=\"opacity: 0.80\"> কমা</span><span style=\"background-color: hsl(120, 100.00%, 93.51%); opacity: 0.81\" title=\"0.014\">র</span><span style=\"opacity: 0.80\">্</span><span style=\"background-color: hsl(120, 100.00%, 85.08%); opacity: 0.85\" title=\"0.046\">সক</span><span style=\"opacity: 0.80\">ে </span><span style=\"background-color: hsl(120, 100.00%, 85.08%); opacity: 0.85\" title=\"0.046\">শক</span><span style=\"opacity: 0.80\">্</span><span style=\"background-color: hsl(0, 100.00%, 86.02%); opacity: 0.84\" title=\"-0.042\">ত</span><span style=\"opacity: 0.80\">ি</span><span style=\"background-color: hsl(0, 100.00%, 91.84%); opacity: 0.82\" title=\"-0.020\">শ</span><span style=\"opacity: 0.80\">া</span><span style=\"background-color: hsl(120, 100.00%, 89.69%); opacity: 0.83\" title=\"0.027\">ল</span><span style=\"opacity: 0.80\">ী </span><span style=\"background-color: hsl(120, 100.00%, 84.43%); opacity: 0.85\" title=\"0.049\">কর</span><span style=\"opacity: 0.80\">া</span><span style=\"background-color: hsl(0, 100.00%, 81.49%); opacity: 0.87\" title=\"-0.063\">র</span><span style=\"opacity: 0.80\"> </span><span style=\"background-color: hsl(0, 100.00%, 78.85%); opacity: 0.88\" title=\"-0.076\">জন</span><span style=\"opacity: 0.80\">্</span><span style=\"background-color: hsl(0, 100.00%, 80.18%); opacity: 0.87\" title=\"-0.069\">য</span><span style=\"opacity: 0.80\"> </span><span style=\"background-color: hsl(0, 100.00%, 78.48%); opacity: 0.88\" title=\"-0.078\">ত</span><span style=\"opacity: 0.80\">ৈ</span><span style=\"background-color: hsl(120, 100.00%, 98.33%); opacity: 0.80\" title=\"0.002\">র</span><span style=\"opacity: 0.80\">ি</span><span style=\"background-color: hsl(120, 100.00%, 92.43%); opacity: 0.82\" title=\"0.018\">ক</span><span style=\"opacity: 0.80\">ৃ</span><span style=\"background-color: hsl(0, 100.00%, 86.18%); opacity: 0.84\" title=\"-0.041\">ত</span><span style=\"opacity: 0.80\"> ‘</span><span style=\"background-color: hsl(0, 100.00%, 92.67%); opacity: 0.82\" title=\"-0.017\">ব</span><span style=\"opacity: 0.80\">াং</span><span style=\"background-color: hsl(0, 100.00%, 79.63%); opacity: 0.88\" title=\"-0.072\">ল</span><span style=\"opacity: 0.80\">া</span><span style=\"background-color: hsl(120, 100.00%, 92.50%); opacity: 0.82\" title=\"0.017\">দ</span><span style=\"opacity: 0.80\">ে</span><span style=\"background-color: hsl(0, 100.00%, 90.20%); opacity: 0.83\" title=\"-0.025\">শ</span><span style=\"opacity: 0.80\"> </span><span style=\"background-color: hsl(0, 100.00%, 82.50%); opacity: 0.86\" title=\"-0.058\">ড</span><span style=\"opacity: 0.80\">ি</span><span style=\"background-color: hsl(120, 100.00%, 93.12%); opacity: 0.82\" title=\"0.015\">জ</span><span style=\"opacity: 0.80\">ি</span><span style=\"background-color: hsl(0, 100.00%, 92.51%); opacity: 0.82\" title=\"-0.017\">ট</span><span style=\"opacity: 0.80\">া</span><span style=\"background-color: hsl(0, 100.00%, 94.22%); opacity: 0.81\" title=\"-0.012\">ল</span><span style=\"opacity: 0.80\"> কমা</span><span style=\"background-color: hsl(120, 100.00%, 96.41%); opacity: 0.81\" title=\"0.006\">র</span><span style=\"opacity: 0.80\">্</span><span style=\"background-color: hsl(0, 100.00%, 69.68%); opacity: 0.93\" title=\"-0.127\">স</span><span style=\"opacity: 0.80\"> </span><span style=\"background-color: hsl(0, 100.00%, 84.43%); opacity: 0.85\" title=\"-0.049\">পল</span><span style=\"opacity: 0.80\">ি</span><span style=\"background-color: hsl(120, 100.00%, 78.91%); opacity: 0.88\" title=\"0.076\">স</span><span style=\"opacity: 0.80\">ি </span><span style=\"background-color: hsl(120, 100.00%, 88.67%); opacity: 0.83\" title=\"0.031\">২০১৮</span><span style=\"opacity: 0.80\">’ </span><span style=\"background-color: hsl(120, 100.00%, 77.07%); opacity: 0.89\" title=\"0.086\">এর</span><span style=\"opacity: 0.80\"> </span><span style=\"background-color: hsl(120, 100.00%, 82.46%); opacity: 0.86\" title=\"0.058\">আওত</span><span style=\"opacity: 0.80\">া</span><span style=\"background-color: hsl(120, 100.00%, 92.60%); opacity: 0.82\" title=\"0.017\">য়</span><span style=\"opacity: 0.80\"> </span><span style=\"background-color: hsl(120, 100.00%, 78.61%); opacity: 0.88\" title=\"0.077\">ব</span><span style=\"opacity: 0.80\">া</span><span style=\"background-color: hsl(0, 100.00%, 85.25%); opacity: 0.85\" title=\"-0.046\">ণ</span><span style=\"opacity: 0.80\">ি</span><span style=\"background-color: hsl(120, 100.00%, 68.97%); opacity: 0.94\" title=\"0.132\">জ</span><span style=\"opacity: 0.80\">্</span><span style=\"background-color: hsl(120, 100.00%, 88.07%); opacity: 0.84\" title=\"0.034\">য</span><span style=\"opacity: 0.80\"> </span><span style=\"background-color: hsl(0, 100.00%, 95.61%); opacity: 0.81\" title=\"-0.008\">মন</span><span style=\"opacity: 0.80\">্</span><span style=\"background-color: hsl(0, 100.00%, 80.87%); opacity: 0.87\" title=\"-0.066\">ত</span><span style=\"opacity: 0.80\">্</span><span style=\"background-color: hsl(0, 100.00%, 93.50%); opacity: 0.81\" title=\"-0.014\">রণ</span><span style=\"opacity: 0.80\">ালয় ই-কমা</span><span style=\"background-color: hsl(120, 100.00%, 96.41%); opacity: 0.81\" title=\"0.006\">র</span><span style=\"opacity: 0.80\">্</span><span style=\"background-color: hsl(120, 100.00%, 78.13%); opacity: 0.88\" title=\"0.080\">স</span><span style=\"opacity: 0.80\"> </span><span style=\"background-color: hsl(120, 100.00%, 88.96%); opacity: 0.83\" title=\"0.030\">প</span><span style=\"opacity: 0.80\">্</span><span style=\"background-color: hsl(120, 100.00%, 99.79%); opacity: 0.80\" title=\"0.000\">রত</span><span style=\"opacity: 0.80\">ি</span><span style=\"background-color: hsl(120, 100.00%, 71.93%); opacity: 0.92\" title=\"0.114\">ষ</span><span style=\"opacity: 0.80\">্</span><span style=\"background-color: hsl(120, 100.00%, 92.28%); opacity: 0.82\" title=\"0.018\">ঠ</span><span style=\"opacity: 0.80\">া</span><span style=\"background-color: hsl(0, 100.00%, 86.80%); opacity: 0.84\" title=\"-0.039\">নসম</span><span style=\"opacity: 0.80\">ূ</span><span style=\"background-color: hsl(0, 100.00%, 73.17%); opacity: 0.91\" title=\"-0.107\">হক</span><span style=\"opacity: 0.80\">ে </span><span style=\"background-color: hsl(0, 100.00%, 80.43%); opacity: 0.87\" title=\"-0.068\">ন</span><span style=\"opacity: 0.80\">ী</span><span style=\"background-color: hsl(120, 100.00%, 94.09%); opacity: 0.81\" title=\"0.012\">ত</span><span style=\"opacity: 0.80\">ি</span><span style=\"background-color: hsl(120, 100.00%, 86.77%); opacity: 0.84\" title=\"0.039\">সহ</span><span style=\"opacity: 0.80\">া</span><span style=\"background-color: hsl(120, 100.00%, 77.41%); opacity: 0.89\" title=\"0.084\">য়ত</span><span style=\"opacity: 0.80\">া </span><span style=\"background-color: hsl(120, 100.00%, 82.73%); opacity: 0.86\" title=\"0.057\">প</span><span style=\"opacity: 0.80\">্</span><span style=\"background-color: hsl(0, 100.00%, 84.09%); opacity: 0.85\" title=\"-0.051\">রদ</span><span style=\"opacity: 0.80\">া</span><span style=\"background-color: hsl(0, 100.00%, 76.06%); opacity: 0.90\" title=\"-0.091\">ন</span><span style=\"opacity: 0.80\"> </span><span style=\"background-color: hsl(0, 100.00%, 99.11%); opacity: 0.80\" title=\"-0.001\">অব</span><span style=\"opacity: 0.80\">্</span><span style=\"background-color: hsl(0, 100.00%, 84.62%); opacity: 0.85\" title=\"-0.048\">য</span><span style=\"opacity: 0.80\">াহত </span><span style=\"background-color: hsl(120, 100.00%, 86.92%); opacity: 0.84\" title=\"0.038\">র</span><span style=\"opacity: 0.80\">ে</span><span style=\"background-color: hsl(0, 100.00%, 87.18%); opacity: 0.84\" title=\"-0.037\">খ</span><span style=\"opacity: 0.80\">ে</span><span style=\"background-color: hsl(0, 100.00%, 68.46%); opacity: 0.94\" title=\"-0.135\">ছ</span><span style=\"opacity: 0.80\">ে।</span><span style=\"background-color: hsl(120, 100.00%, 98.68%); opacity: 0.80\" title=\"0.001\">ব</span><span style=\"opacity: 0.80\">া</span><span style=\"background-color: hsl(0, 100.00%, 85.25%); opacity: 0.85\" title=\"-0.046\">ণ</span><span style=\"opacity: 0.80\">ি</span><span style=\"background-color: hsl(0, 100.00%, 97.97%); opacity: 0.80\" title=\"-0.003\">জ</span><span style=\"opacity: 0.80\">্</span><span style=\"background-color: hsl(0, 100.00%, 79.20%); opacity: 0.88\" title=\"-0.074\">যমন</span><span style=\"opacity: 0.80\">্</span><span style=\"background-color: hsl(0, 100.00%, 69.12%); opacity: 0.94\" title=\"-0.131\">ত</span><span style=\"opacity: 0.80\">্</span><span style=\"background-color: hsl(0, 100.00%, 93.50%); opacity: 0.81\" title=\"-0.014\">রণ</span><span style=\"opacity: 0.80\">া</span><span style=\"background-color: hsl(0, 100.00%, 74.56%); opacity: 0.90\" title=\"-0.099\">লয়</span><span style=\"opacity: 0.80\"> </span><span style=\"background-color: hsl(0, 100.00%, 78.03%); opacity: 0.88\" title=\"-0.080\">বলছ</span><span style=\"opacity: 0.80\">ে, </span><span style=\"background-color: hsl(0, 100.00%, 86.12%); opacity: 0.84\" title=\"-0.042\">বর</span><span style=\"opacity: 0.80\">্</span><span style=\"background-color: hsl(0, 100.00%, 77.11%); opacity: 0.89\" title=\"-0.085\">তম</span><span style=\"opacity: 0.80\">া</span><span style=\"background-color: hsl(0, 100.00%, 86.67%); opacity: 0.84\" title=\"-0.039\">ন</span><span style=\"opacity: 0.80\"> </span><span style=\"background-color: hsl(0, 100.00%, 94.57%); opacity: 0.81\" title=\"-0.011\">পর</span><span style=\"opacity: 0.80\">ি</span><span style=\"background-color: hsl(120, 100.00%, 79.59%); opacity: 0.88\" title=\"0.072\">স</span><span style=\"opacity: 0.80\">্</span><span style=\"background-color: hsl(0, 100.00%, 97.21%); opacity: 0.80\" title=\"-0.004\">থ</span><span style=\"opacity: 0.80\">ি</span><span style=\"background-color: hsl(0, 100.00%, 81.35%); opacity: 0.87\" title=\"-0.064\">ত</span><span style=\"opacity: 0.80\">ি</span><span style=\"background-color: hsl(0, 100.00%, 90.79%); opacity: 0.82\" title=\"-0.023\">ত</span><span style=\"opacity: 0.80\">ে ই-কমা</span><span style=\"background-color: hsl(120, 100.00%, 96.41%); opacity: 0.81\" title=\"0.006\">র</span><span style=\"opacity: 0.80\">্</span><span style=\"background-color: hsl(0, 100.00%, 99.06%); opacity: 0.80\" title=\"-0.001\">স</span><span style=\"opacity: 0.80\">ে</span><span style=\"background-color: hsl(0, 100.00%, 69.08%); opacity: 0.94\" title=\"-0.131\">র</span><span style=\"opacity: 0.80\"> </span><span style=\"background-color: hsl(0, 100.00%, 60.00%); opacity: 1.00\" title=\"-0.189\">গ</span><span style=\"opacity: 0.80\">ু</span><span style=\"background-color: hsl(120, 100.00%, 87.23%); opacity: 0.84\" title=\"0.037\">র</span><span style=\"opacity: 0.80\">ু</span><span style=\"background-color: hsl(0, 100.00%, 87.42%); opacity: 0.84\" title=\"-0.036\">ত</span><span style=\"opacity: 0.80\">্</span><span style=\"background-color: hsl(0, 100.00%, 98.08%); opacity: 0.80\" title=\"-0.002\">ব</span><span style=\"opacity: 0.80\"> </span><span style=\"background-color: hsl(120, 100.00%, 82.56%); opacity: 0.86\" title=\"0.058\">অপর</span><span style=\"opacity: 0.80\">িসী</span><span style=\"background-color: hsl(120, 100.00%, 80.85%); opacity: 0.87\" title=\"0.066\">ম</span><span style=\"opacity: 0.80\">। </span><span style=\"background-color: hsl(120, 100.00%, 88.37%); opacity: 0.83\" title=\"0.032\">স</span><span style=\"opacity: 0.80\">া</span><span style=\"background-color: hsl(120, 100.00%, 98.81%); opacity: 0.80\" title=\"0.001\">ম</span><span style=\"opacity: 0.80\">া</span><span style=\"background-color: hsl(120, 100.00%, 83.76%); opacity: 0.86\" title=\"0.052\">জ</span><span style=\"opacity: 0.80\">ি</span><span style=\"background-color: hsl(120, 100.00%, 83.76%); opacity: 0.86\" title=\"0.052\">ক</span><span style=\"opacity: 0.80\"> </span><span style=\"background-color: hsl(0, 100.00%, 78.88%); opacity: 0.88\" title=\"-0.076\">দ</span><span style=\"opacity: 0.80\">ূ</span><span style=\"background-color: hsl(0, 100.00%, 78.88%); opacity: 0.88\" title=\"-0.076\">রত</span><span style=\"opacity: 0.80\">্</span><span style=\"background-color: hsl(0, 100.00%, 83.85%); opacity: 0.85\" title=\"-0.052\">ব</span><span style=\"opacity: 0.80\"> </span><span style=\"background-color: hsl(120, 100.00%, 72.76%); opacity: 0.92\" title=\"0.109\">বজ</span><span style=\"opacity: 0.80\">া</span><span style=\"background-color: hsl(120, 100.00%, 78.22%); opacity: 0.88\" title=\"0.079\">য়</span><span style=\"opacity: 0.80\"> </span><span style=\"background-color: hsl(120, 100.00%, 86.92%); opacity: 0.84\" title=\"0.038\">র</span><span style=\"opacity: 0.80\">ে</span><span style=\"background-color: hsl(0, 100.00%, 98.14%); opacity: 0.80\" title=\"-0.002\">খ</span><span style=\"opacity: 0.80\">ে </span><span style=\"background-color: hsl(0, 100.00%, 89.37%); opacity: 0.83\" title=\"-0.029\">স</span><span style=\"opacity: 0.80\">া</span><span style=\"background-color: hsl(120, 100.00%, 95.00%); opacity: 0.81\" title=\"0.010\">ধ</span><span style=\"opacity: 0.80\">ারন </span><span style=\"background-color: hsl(0, 100.00%, 96.11%); opacity: 0.81\" title=\"-0.007\">ম</span><span style=\"opacity: 0.80\">া</span><span style=\"background-color: hsl(120, 100.00%, 84.36%); opacity: 0.85\" title=\"0.050\">ন</span><span style=\"opacity: 0.80\">ু</span><span style=\"background-color: hsl(120, 100.00%, 85.11%); opacity: 0.85\" title=\"0.046\">ষ</span><span style=\"opacity: 0.80\">ে</span><span style=\"background-color: hsl(0, 100.00%, 87.43%); opacity: 0.84\" title=\"-0.036\">র</span><span style=\"opacity: 0.80\"> </span><span style=\"background-color: hsl(0, 100.00%, 90.65%); opacity: 0.83\" title=\"-0.024\">ন</span><span style=\"opacity: 0.80\">ি</span><span style=\"background-color: hsl(0, 100.00%, 81.49%); opacity: 0.87\" title=\"-0.063\">কট</span><span style=\"opacity: 0.80\"> </span><span style=\"background-color: hsl(0, 100.00%, 86.71%); opacity: 0.84\" title=\"-0.039\">ওষ</span><span style=\"opacity: 0.80\">ুধ ও অন্যা</span><span style=\"background-color: hsl(120, 100.00%, 79.07%); opacity: 0.88\" title=\"0.075\">ন</span><span style=\"opacity: 0.80\">্</span><span style=\"background-color: hsl(0, 100.00%, 97.44%); opacity: 0.80\" title=\"-0.004\">য</span><span style=\"opacity: 0.80\"> </span><span style=\"background-color: hsl(120, 100.00%, 78.27%); opacity: 0.88\" title=\"0.079\">অত</span><span style=\"opacity: 0.80\">্</span><span style=\"background-color: hsl(120, 100.00%, 81.19%); opacity: 0.87\" title=\"0.064\">য</span><span style=\"opacity: 0.80\">াবশ্যকী</span><span style=\"background-color: hsl(120, 100.00%, 96.75%); opacity: 0.81\" title=\"0.005\">য়</span><span style=\"opacity: 0.80\"> </span><span style=\"background-color: hsl(0, 100.00%, 93.05%); opacity: 0.82\" title=\"-0.016\">পণ</span><span style=\"opacity: 0.80\">্</span><span style=\"background-color: hsl(0, 100.00%, 81.01%); opacity: 0.87\" title=\"-0.065\">য</span><span style=\"opacity: 0.80\"> </span><span style=\"background-color: hsl(120, 100.00%, 80.19%); opacity: 0.87\" title=\"0.069\">প</span><span style=\"opacity: 0.80\">ৌ</span><span style=\"background-color: hsl(120, 100.00%, 74.67%); opacity: 0.90\" title=\"0.099\">ছ</span><span style=\"opacity: 0.80\">ে </span><span style=\"background-color: hsl(120, 100.00%, 75.32%); opacity: 0.90\" title=\"0.095\">দ</span><span style=\"opacity: 0.80\">ে</span><span style=\"background-color: hsl(120, 100.00%, 84.81%); opacity: 0.85\" title=\"0.047\">য়</span><span style=\"opacity: 0.80\">া</span><span style=\"background-color: hsl(120, 100.00%, 93.51%); opacity: 0.81\" title=\"0.014\">র</span><span style=\"opacity: 0.80\"> </span><span style=\"background-color: hsl(120, 100.00%, 75.32%); opacity: 0.90\" title=\"0.095\">দ</span><span style=\"opacity: 0.80\">া</span><span style=\"background-color: hsl(120, 100.00%, 84.81%); opacity: 0.85\" title=\"0.047\">য়</span><span style=\"opacity: 0.80\">ি</span><span style=\"background-color: hsl(0, 100.00%, 84.19%); opacity: 0.85\" title=\"-0.050\">ত</span><span style=\"opacity: 0.80\">্</span><span style=\"background-color: hsl(0, 100.00%, 76.74%); opacity: 0.89\" title=\"-0.087\">ব</span><span style=\"opacity: 0.80\"> </span><span style=\"background-color: hsl(0, 100.00%, 74.63%); opacity: 0.90\" title=\"-0.099\">প</span><span style=\"opacity: 0.80\">া</span><span style=\"background-color: hsl(0, 100.00%, 91.39%); opacity: 0.82\" title=\"-0.021\">লন</span><span style=\"opacity: 0.80\"> </span><span style=\"background-color: hsl(0, 100.00%, 74.51%); opacity: 0.91\" title=\"-0.100\">করছ</span><span style=\"opacity: 0.80\">ে </span><span style=\"background-color: hsl(0, 100.00%, 85.55%); opacity: 0.85\" title=\"-0.044\">ই</span><span style=\"opacity: 0.80\">-কমা</span><span style=\"background-color: hsl(120, 100.00%, 96.41%); opacity: 0.81\" title=\"0.006\">র</span><span style=\"opacity: 0.80\">্</span><span style=\"background-color: hsl(0, 100.00%, 92.66%); opacity: 0.82\" title=\"-0.017\">স</span><span style=\"opacity: 0.80\">। </span><span style=\"background-color: hsl(120, 100.00%, 82.86%); opacity: 0.86\" title=\"0.056\">ব</span><span style=\"opacity: 0.80\">া</span><span style=\"background-color: hsl(0, 100.00%, 85.25%); opacity: 0.85\" title=\"-0.046\">ণ</span><span style=\"opacity: 0.80\">ি</span><span style=\"background-color: hsl(120, 100.00%, 68.97%); opacity: 0.94\" title=\"0.132\">জ</span><span style=\"opacity: 0.80\">্</span><span style=\"background-color: hsl(120, 100.00%, 88.07%); opacity: 0.84\" title=\"0.034\">য</span><span style=\"opacity: 0.80\"> </span><span style=\"background-color: hsl(0, 100.00%, 95.61%); opacity: 0.81\" title=\"-0.008\">মন</span><span style=\"opacity: 0.80\">্</span><span style=\"background-color: hsl(0, 100.00%, 80.87%); opacity: 0.87\" title=\"-0.066\">ত</span><span style=\"opacity: 0.80\">্</span><span style=\"background-color: hsl(0, 100.00%, 93.50%); opacity: 0.81\" title=\"-0.014\">রণ</span><span style=\"opacity: 0.80\">া</span><span style=\"background-color: hsl(0, 100.00%, 94.11%); opacity: 0.81\" title=\"-0.012\">লয়</span><span style=\"opacity: 0.80\">ে</span><span style=\"background-color: hsl(120, 100.00%, 95.66%); opacity: 0.81\" title=\"0.008\">র</span><span style=\"opacity: 0.80\"> </span><span style=\"background-color: hsl(0, 100.00%, 84.10%); opacity: 0.85\" title=\"-0.051\">প</span><span style=\"opacity: 0.80\">্</span><span style=\"background-color: hsl(120, 100.00%, 90.65%); opacity: 0.83\" title=\"0.024\">রত</span><span style=\"opacity: 0.80\">্</span><span style=\"background-color: hsl(120, 100.00%, 79.18%); opacity: 0.88\" title=\"0.075\">যক</span><span style=\"opacity: 0.80\">্</span><span style=\"background-color: hsl(120, 100.00%, 81.22%); opacity: 0.87\" title=\"0.064\">ষ</span><span style=\"opacity: 0.80\"> </span><span style=\"background-color: hsl(120, 100.00%, 75.51%); opacity: 0.90\" title=\"0.094\">উদ</span><span style=\"opacity: 0.80\">্</span><span style=\"background-color: hsl(120, 100.00%, 78.62%); opacity: 0.88\" title=\"0.077\">য</span><span style=\"opacity: 0.80\">ো</span><span style=\"background-color: hsl(0, 100.00%, 83.56%); opacity: 0.86\" title=\"-0.053\">গ</span><span style=\"opacity: 0.80\">ে ই-কমা</span><span style=\"background-color: hsl(120, 100.00%, 96.41%); opacity: 0.81\" title=\"0.006\">র</span><span style=\"opacity: 0.80\">্</span><span style=\"background-color: hsl(0, 100.00%, 83.98%); opacity: 0.85\" title=\"-0.051\">স</span><span style=\"opacity: 0.80\"> </span><span style=\"background-color: hsl(0, 100.00%, 69.35%); opacity: 0.94\" title=\"-0.129\">অ</span><span style=\"opacity: 0.80\">্</span><span style=\"background-color: hsl(0, 100.00%, 90.69%); opacity: 0.82\" title=\"-0.024\">য</span><span style=\"opacity: 0.80\">া</span><span style=\"background-color: hsl(0, 100.00%, 94.56%); opacity: 0.81\" title=\"-0.011\">স</span><span style=\"opacity: 0.80\">ো</span><span style=\"background-color: hsl(120, 100.00%, 81.15%); opacity: 0.87\" title=\"0.065\">স</span><span style=\"opacity: 0.80\">ি</span><span style=\"background-color: hsl(0, 100.00%, 78.95%); opacity: 0.88\" title=\"-0.076\">য়</span><span style=\"opacity: 0.80\">ে</span><span style=\"background-color: hsl(0, 100.00%, 87.55%); opacity: 0.84\" title=\"-0.036\">শন</span><span style=\"opacity: 0.80\">ে</span><span style=\"background-color: hsl(120, 100.00%, 93.51%); opacity: 0.81\" title=\"0.014\">র</span><span style=\"opacity: 0.80\"> </span><span style=\"background-color: hsl(0, 100.00%, 92.68%); opacity: 0.82\" title=\"-0.017\">সহয</span><span style=\"opacity: 0.80\">ো</span><span style=\"background-color: hsl(0, 100.00%, 69.81%); opacity: 0.93\" title=\"-0.127\">গ</span><span style=\"opacity: 0.80\">ি</span><span style=\"background-color: hsl(0, 100.00%, 94.29%); opacity: 0.81\" title=\"-0.012\">ত</span><span style=\"opacity: 0.80\">া</span><span style=\"background-color: hsl(120, 100.00%, 85.36%); opacity: 0.85\" title=\"0.045\">য়</span><span style=\"opacity: 0.80\"> এ </span><span style=\"background-color: hsl(120, 100.00%, 77.17%); opacity: 0.89\" title=\"0.085\">বছর</span><span style=\"opacity: 0.80\"> </span><span style=\"background-color: hsl(0, 100.00%, 78.45%); opacity: 0.88\" title=\"-0.078\">আম</span><span style=\"opacity: 0.80\"> </span><span style=\"background-color: hsl(120, 100.00%, 89.77%); opacity: 0.83\" title=\"0.027\">ম</span><span style=\"opacity: 0.80\">ৌ</span><span style=\"background-color: hsl(120, 100.00%, 88.37%); opacity: 0.83\" title=\"0.032\">স</span><span style=\"opacity: 0.80\">ু</span><span style=\"background-color: hsl(0, 100.00%, 89.88%); opacity: 0.83\" title=\"-0.027\">ম</span><span style=\"opacity: 0.80\">ে </span><span style=\"background-color: hsl(0, 100.00%, 89.55%); opacity: 0.83\" title=\"-0.028\">অন</span><span style=\"opacity: 0.80\">-</span><span style=\"background-color: hsl(0, 100.00%, 69.81%); opacity: 0.93\" title=\"-0.127\">ল</span><span style=\"opacity: 0.80\">া</span><span style=\"background-color: hsl(0, 100.00%, 77.16%); opacity: 0.89\" title=\"-0.085\">ইন</span><span style=\"opacity: 0.80\"> </span><span style=\"background-color: hsl(0, 100.00%, 87.34%); opacity: 0.84\" title=\"-0.037\">আম</span><span style=\"opacity: 0.80\"> </span><span style=\"background-color: hsl(0, 100.00%, 92.96%); opacity: 0.82\" title=\"-0.016\">ম</span><span style=\"opacity: 0.80\">ে</span><span style=\"background-color: hsl(0, 100.00%, 94.77%); opacity: 0.81\" title=\"-0.010\">ল</span><span style=\"opacity: 0.80\">া</span><span style=\"background-color: hsl(0, 100.00%, 92.21%); opacity: 0.82\" title=\"-0.018\">র</span><span style=\"opacity: 0.80\"> আয়োজন </span><span style=\"background-color: hsl(120, 100.00%, 71.14%); opacity: 0.93\" title=\"0.119\">কর</span><span style=\"opacity: 0.80\">া </span><span style=\"background-color: hsl(120, 100.00%, 92.16%); opacity: 0.82\" title=\"0.018\">হয়</span><span style=\"opacity: 0.80\">ে</span><span style=\"background-color: hsl(120, 100.00%, 79.82%); opacity: 0.88\" title=\"0.071\">ছ</span><span style=\"opacity: 0.80\">ি</span><span style=\"background-color: hsl(120, 100.00%, 74.73%); opacity: 0.90\" title=\"0.098\">ল</span><span style=\"opacity: 0.80\"> </span><span style=\"background-color: hsl(120, 100.00%, 95.30%); opacity: 0.81\" title=\"0.009\">এব</span><span style=\"opacity: 0.80\">ং </span><span style=\"background-color: hsl(0, 100.00%, 79.08%); opacity: 0.88\" title=\"-0.075\">এই</span><span style=\"opacity: 0.80\"> </span><span style=\"background-color: hsl(120, 100.00%, 76.79%); opacity: 0.89\" title=\"0.087\">কর</span><span style=\"opacity: 0.80\">্</span><span style=\"background-color: hsl(120, 100.00%, 90.69%); opacity: 0.82\" title=\"0.024\">মস</span><span style=\"opacity: 0.80\">ূ</span><span style=\"background-color: hsl(0, 100.00%, 90.58%); opacity: 0.83\" title=\"-0.024\">চ</span><span style=\"opacity: 0.80\">ি </span><span style=\"background-color: hsl(120, 100.00%, 92.51%); opacity: 0.82\" title=\"0.017\">বহ</span><span style=\"opacity: 0.80\">ুল প্</span><span style=\"background-color: hsl(120, 100.00%, 84.79%); opacity: 0.85\" title=\"0.048\">রশ</span><span style=\"opacity: 0.80\">ং</span><span style=\"background-color: hsl(120, 100.00%, 90.48%); opacity: 0.83\" title=\"0.024\">স</span><span style=\"opacity: 0.80\">িত হয়ে</span><span style=\"background-color: hsl(120, 100.00%, 79.82%); opacity: 0.88\" title=\"0.071\">ছ</span><span style=\"opacity: 0.80\">ি</span><span style=\"background-color: hsl(120, 100.00%, 88.44%); opacity: 0.83\" title=\"0.032\">ল</span><span style=\"opacity: 0.80\">। </span><span style=\"background-color: hsl(0, 100.00%, 82.00%); opacity: 0.86\" title=\"-0.061\">বর</span><span style=\"opacity: 0.80\">্</span><span style=\"background-color: hsl(0, 100.00%, 77.11%); opacity: 0.89\" title=\"-0.085\">তম</span><span style=\"opacity: 0.80\">া</span><span style=\"background-color: hsl(120, 100.00%, 84.16%); opacity: 0.85\" title=\"0.050\">ন</span><span style=\"opacity: 0.80\">ে </span><span style=\"background-color: hsl(120, 100.00%, 82.19%); opacity: 0.86\" title=\"0.060\">ই</span><span style=\"opacity: 0.80\">-কমা</span><span style=\"background-color: hsl(120, 100.00%, 96.41%); opacity: 0.81\" title=\"0.006\">র</span><span style=\"opacity: 0.80\">্</span><span style=\"background-color: hsl(0, 100.00%, 99.06%); opacity: 0.80\" title=\"-0.001\">স</span><span style=\"opacity: 0.80\">ে</span><span style=\"background-color: hsl(0, 100.00%, 88.30%); opacity: 0.83\" title=\"-0.033\">র</span><span style=\"opacity: 0.80\"> </span><span style=\"background-color: hsl(0, 100.00%, 85.25%); opacity: 0.85\" title=\"-0.046\">ম</span><span style=\"opacity: 0.80\">াধ্</span><span style=\"background-color: hsl(0, 100.00%, 82.67%); opacity: 0.86\" title=\"-0.057\">যম</span><span style=\"opacity: 0.80\">ে </span><span style=\"background-color: hsl(0, 100.00%, 76.57%); opacity: 0.89\" title=\"-0.088\">ভ</span><span style=\"opacity: 0.80\">ো</span><span style=\"background-color: hsl(120, 100.00%, 97.88%); opacity: 0.80\" title=\"0.003\">ক</span><span style=\"opacity: 0.80\">্</span><span style=\"background-color: hsl(0, 100.00%, 85.39%); opacity: 0.85\" title=\"-0.045\">ত</span><span style=\"opacity: 0.80\">া</span><span style=\"background-color: hsl(0, 100.00%, 87.90%); opacity: 0.84\" title=\"-0.034\">স</span><span style=\"opacity: 0.80\">া</span><span style=\"background-color: hsl(120, 100.00%, 84.83%); opacity: 0.85\" title=\"0.047\">ধ</span><span style=\"opacity: 0.80\">া</span><span style=\"background-color: hsl(120, 100.00%, 92.81%); opacity: 0.82\" title=\"0.016\">রণ</span><span style=\"opacity: 0.80\">ে</span><span style=\"background-color: hsl(0, 100.00%, 74.52%); opacity: 0.90\" title=\"-0.099\">র</span><span style=\"opacity: 0.80\"> </span><span style=\"background-color: hsl(0, 100.00%, 73.23%); opacity: 0.91\" title=\"-0.107\">মধ</span><span style=\"opacity: 0.80\">্</span><span style=\"background-color: hsl(120, 100.00%, 99.32%); opacity: 0.80\" title=\"0.001\">য</span><span style=\"opacity: 0.80\">ে </span><span style=\"background-color: hsl(120, 100.00%, 79.07%); opacity: 0.88\" title=\"0.075\">ন</span><span style=\"opacity: 0.80\">্</span><span style=\"background-color: hsl(120, 100.00%, 77.06%); opacity: 0.89\" title=\"0.086\">য</span><span style=\"opacity: 0.80\">া</span><span style=\"background-color: hsl(120, 100.00%, 75.62%); opacity: 0.90\" title=\"0.093\">য</span><span style=\"opacity: 0.80\">্</span><span style=\"background-color: hsl(0, 100.00%, 83.05%); opacity: 0.86\" title=\"-0.056\">যম</span><span style=\"opacity: 0.80\">ূ</span><span style=\"background-color: hsl(0, 100.00%, 89.16%); opacity: 0.83\" title=\"-0.029\">ল</span><span style=\"opacity: 0.80\">্</span><span style=\"background-color: hsl(120, 100.00%, 79.36%); opacity: 0.88\" title=\"0.074\">য</span><span style=\"opacity: 0.80\">ে </span><span style=\"background-color: hsl(0, 100.00%, 82.29%); opacity: 0.86\" title=\"-0.059\">ট</span><span style=\"opacity: 0.80\">ি</span><span style=\"background-color: hsl(0, 100.00%, 76.52%); opacity: 0.89\" title=\"-0.088\">স</span><span style=\"opacity: 0.80\">ি</span><span style=\"background-color: hsl(0, 100.00%, 97.32%); opacity: 0.80\" title=\"-0.004\">ব</span><span style=\"opacity: 0.80\">ি</span><span style=\"background-color: hsl(120, 100.00%, 93.51%); opacity: 0.81\" title=\"0.014\">র</span><span style=\"opacity: 0.80\"> </span><span style=\"background-color: hsl(120, 100.00%, 80.27%); opacity: 0.87\" title=\"0.069\">প</span><span style=\"opacity: 0.80\">ে</span><span style=\"background-color: hsl(120, 100.00%, 66.87%); opacity: 0.95\" title=\"0.145\">য়</span><span style=\"opacity: 0.80\">া</span><span style=\"background-color: hsl(120, 100.00%, 65.23%); opacity: 0.96\" title=\"0.155\">জ</span><span style=\"opacity: 0.80\"> </span><span style=\"background-color: hsl(120, 100.00%, 84.13%); opacity: 0.85\" title=\"0.051\">ব</span><span style=\"opacity: 0.80\">ি</span><span style=\"background-color: hsl(0, 100.00%, 70.39%); opacity: 0.93\" title=\"-0.123\">ক</span><span style=\"opacity: 0.80\">্</span><span style=\"background-color: hsl(0, 100.00%, 78.31%); opacity: 0.88\" title=\"-0.079\">রয়</span><span style=\"opacity: 0.80\"> কা</span><span style=\"background-color: hsl(0, 100.00%, 89.19%); opacity: 0.83\" title=\"-0.029\">র</span><span style=\"opacity: 0.80\">্</span><span style=\"background-color: hsl(0, 100.00%, 67.36%); opacity: 0.95\" title=\"-0.142\">যক</span><span style=\"opacity: 0.80\">্</span><span style=\"background-color: hsl(0, 100.00%, 66.70%); opacity: 0.95\" title=\"-0.146\">রম</span><span style=\"opacity: 0.80\"> </span><span style=\"background-color: hsl(0, 100.00%, 92.49%); opacity: 0.82\" title=\"-0.017\">সফলভ</span><span style=\"opacity: 0.80\">া</span><span style=\"background-color: hsl(0, 100.00%, 65.20%); opacity: 0.96\" title=\"-0.155\">ব</span><span style=\"opacity: 0.80\">ে </span><span style=\"background-color: hsl(0, 100.00%, 71.65%); opacity: 0.92\" title=\"-0.116\">চলম</span><span style=\"opacity: 0.80\">া</span><span style=\"background-color: hsl(0, 100.00%, 84.93%); opacity: 0.85\" title=\"-0.047\">ন</span><span style=\"opacity: 0.80\"> </span><span style=\"background-color: hsl(120, 100.00%, 93.08%); opacity: 0.82\" title=\"0.015\">রয়</span><span style=\"opacity: 0.80\">ে</span><span style=\"background-color: hsl(120, 100.00%, 96.04%); opacity: 0.81\" title=\"0.007\">ছ</span><span style=\"opacity: 0.80\">ে। </span><span style=\"background-color: hsl(120, 100.00%, 79.15%); opacity: 0.88\" title=\"0.075\">ভব</span><span style=\"opacity: 0.80\">ি</span><span style=\"background-color: hsl(0, 100.00%, 88.61%); opacity: 0.83\" title=\"-0.031\">ষ</span><span style=\"opacity: 0.80\">্</span><span style=\"background-color: hsl(0, 100.00%, 80.00%); opacity: 0.87\" title=\"-0.070\">যত</span><span style=\"opacity: 0.80\">ে </span><span style=\"background-color: hsl(120, 100.00%, 79.79%); opacity: 0.88\" title=\"0.071\">এর</span><span style=\"opacity: 0.80\"> </span><span style=\"background-color: hsl(120, 100.00%, 71.26%); opacity: 0.92\" title=\"0.118\">পর</span><span style=\"opacity: 0.80\">িধি </span><span style=\"background-color: hsl(0, 100.00%, 88.23%); opacity: 0.83\" title=\"-0.033\">ব</span><span style=\"opacity: 0.80\">া</span><span style=\"background-color: hsl(120, 100.00%, 71.46%); opacity: 0.92\" title=\"0.117\">ড়</span><span style=\"opacity: 0.80\">া</span><span style=\"background-color: hsl(120, 100.00%, 75.18%); opacity: 0.90\" title=\"0.096\">ন</span><span style=\"opacity: 0.80\">ো</span><span style=\"background-color: hsl(0, 100.00%, 87.56%); opacity: 0.84\" title=\"-0.036\">র</span><span style=\"opacity: 0.80\"> </span><span style=\"background-color: hsl(120, 100.00%, 91.28%); opacity: 0.82\" title=\"0.022\">পর</span><span style=\"opacity: 0.80\">ি</span><span style=\"background-color: hsl(0, 100.00%, 91.11%); opacity: 0.82\" title=\"-0.022\">কল</span><span style=\"opacity: 0.80\">্</span><span style=\"background-color: hsl(120, 100.00%, 73.92%); opacity: 0.91\" title=\"0.103\">পন</span><span style=\"opacity: 0.80\">া </span><span style=\"background-color: hsl(120, 100.00%, 71.96%); opacity: 0.92\" title=\"0.114\">ইত</span><span style=\"opacity: 0.80\">ো</span><span style=\"background-color: hsl(120, 100.00%, 87.14%); opacity: 0.84\" title=\"0.037\">মধ</span><span style=\"opacity: 0.80\">্</span><span style=\"background-color: hsl(120, 100.00%, 99.32%); opacity: 0.80\" title=\"0.001\">য</span><span style=\"opacity: 0.80\">ে </span><span style=\"background-color: hsl(0, 100.00%, 83.56%); opacity: 0.86\" title=\"-0.053\">গ</span><span style=\"opacity: 0.80\">্</span><span style=\"background-color: hsl(120, 100.00%, 84.74%); opacity: 0.85\" title=\"0.048\">রহণ</span><span style=\"opacity: 0.80\"> </span><span style=\"background-color: hsl(120, 100.00%, 71.14%); opacity: 0.93\" title=\"0.119\">কর</span><span style=\"opacity: 0.80\">া </span><span style=\"background-color: hsl(120, 100.00%, 92.16%); opacity: 0.82\" title=\"0.018\">হয়</span><span style=\"opacity: 0.80\">ে</span><span style=\"background-color: hsl(120, 100.00%, 96.04%); opacity: 0.81\" title=\"0.007\">ছ</span><span style=\"opacity: 0.80\">ে।</span>\n",
       "    </p>\n",
       "\n",
       "\n",
       "    \n",
       "\n",
       "    \n",
       "\n",
       "    \n",
       "\n",
       "    \n",
       "\n",
       "\n",
       "    \n",
       "\n",
       "    \n",
       "\n",
       "    \n",
       "\n",
       "    \n",
       "\n",
       "    \n",
       "\n",
       "    \n",
       "\n",
       "\n",
       "    \n",
       "\n",
       "    \n",
       "\n",
       "    \n",
       "\n",
       "    \n",
       "\n",
       "    \n",
       "\n",
       "    \n",
       "\n",
       "\n",
       "\n"
      ],
      "text/plain": [
       "<IPython.core.display.HTML object>"
      ]
     },
     "execution_count": 31,
     "metadata": {
      "tags": []
     },
     "output_type": "execute_result"
    }
   ],
   "source": [
    "  predictor.explain('ডিজিটাল বাংলাদেশ গড়ার পরিকল্পনার অংশ হিসাবে ই-কমার্সে দক্ষ জনবল বৃদ্ধি ও কর্মসংস্থান সৃষ্টি করার লক্ষ্যে বাণিজ্য মন্ত্রণালয়ের ‘ই-বাণিজ্য করবো নিজের ব্যবসা গড়বো’ প্রকল্পের আওতায় দেশব্যাপী ই-কমার্স বিষয়ক প্রশিক্ষণ পরিচালিত হচ্ছে। চতুর্থ শিল্প বিপ্লবের চ্যালেঞ্জ মোকাবেলায় ই-কমার্সে দক্ষ জনবল আমাদের অর্থনীতির চাকাকে সচল রাখবে। ডিজিটাল কমার্সকে শক্তিশালী করার জন্য তৈরিকৃত ‘বাংলাদেশ ডিজিটাল কমার্স পলিসি ২০১৮’ এর আওতায় বাণিজ্য মন্ত্রণালয় ই-কমার্স প্রতিষ্ঠানসমূহকে নীতিসহায়তা প্রদান অব্যাহত রেখেছে।বাণিজ্যমন্ত্রণালয় বলছে, বর্তমান পরিস্থিতিতে ই-কমার্সের গুরুত্ব অপরিসীম। সামাজিক দূরত্ব বজায় রেখে সাধারন মানুষের নিকট ওষুধ ও অন্যান্য অত্যাবশ্যকীয় পণ্য পৌছে দেয়ার দায়িত্ব পালন করছে ই-কমার্স। বাণিজ্য মন্ত্রণালয়ের প্রত্যক্ষ উদ্যোগে ই-কমার্স অ্যাসোসিয়েশনের সহযোগিতায় এ বছর আম মৌসুমে অন-লাইন আম মেলার আয়োজন করা হয়েছিল এবং এই কর্মসূচি বহুল প্রশংসিত হয়েছিল। বর্তমানে ই-কমার্সের মাধ্যমে ভোক্তাসাধারণের মধ্যে ন্যায্যমূল্যে টিসিবির পেয়াজ বিক্রয় কার্যক্রম সফলভাবে চলমান রয়েছে। ভবিষ্যতে এর পরিধি বাড়ানোর পরিকল্পনা ইতোমধ্যে গ্রহণ করা হয়েছে।')"
   ]
  },
  {
   "cell_type": "code",
   "execution_count": 32,
   "metadata": {
    "colab": {
     "base_uri": "https://localhost:8080/"
    },
    "id": "-j63SKHGwaVV",
    "outputId": "26b83437-eaa0-4895-b746-076f73cd7a2b"
   },
   "outputs": [
    {
     "name": "stdout",
     "output_type": "stream",
     "text": [
      "(1, 7, 768)\n"
     ]
    }
   ],
   "source": [
    "from transformers import *\r\n",
    "import tensorflow as tf\r\n",
    "tokenizer = AutoTokenizer.from_pretrained(MODEL_NAME)\r\n",
    "model = TFAutoModel.from_pretrained('/content/drive/MyDrive/Colab Notebooks/saved_model/bangla_news_predictor')\r\n",
    "input_ids = tf.constant(tokenizer.encode(\"আমরা বাংলায় কথা বলি\"))[None, :]  \r\n",
    "outputs = model(input_ids)\r\n",
    "last_hidden_states = outputs[0] \r\n",
    "print(last_hidden_states.numpy().shape)  "
   ]
  },
  {
   "cell_type": "code",
   "execution_count": 35,
   "metadata": {
    "colab": {
     "base_uri": "https://localhost:8080/"
    },
    "id": "AIJdmKfj9OXF",
    "outputId": "6d30b006-2bad-4ca8-89e5-c542dd3ede68"
   },
   "outputs": [
    {
     "data": {
      "text/plain": [
       "<tf.Tensor: shape=(1, 7, 768), dtype=float32, numpy=\n",
       "array([[[-0.90135163, -0.36611202, -0.8293169 , ..., -1.3423055 ,\n",
       "         -0.63330555,  0.7763298 ],\n",
       "        [-0.90135163, -0.36611202, -0.8293169 , ..., -1.3423058 ,\n",
       "         -0.63330555,  0.7763298 ],\n",
       "        [-0.90135163, -0.36611205, -0.8293169 , ..., -1.3423057 ,\n",
       "         -0.63330555,  0.7763298 ],\n",
       "        ...,\n",
       "        [-0.9013517 , -0.36611208, -0.82931703, ..., -1.3423059 ,\n",
       "         -0.6333056 ,  0.7763299 ],\n",
       "        [-0.9013517 , -0.36611208, -0.829317  , ..., -1.3423058 ,\n",
       "         -0.63330555,  0.7763298 ],\n",
       "        [-0.9013517 , -0.3661121 , -0.82931703, ..., -1.3423059 ,\n",
       "         -0.63330567,  0.77632993]]], dtype=float32)>"
      ]
     },
     "execution_count": 35,
     "metadata": {
      "tags": []
     },
     "output_type": "execute_result"
    }
   ],
   "source": [
    "last_hidden_states"
   ]
  },
  {
   "cell_type": "code",
   "execution_count": 34,
   "metadata": {
    "colab": {
     "base_uri": "https://localhost:8080/"
    },
    "id": "9XIqfMDT887d",
    "outputId": "af2a4f66-0f0b-409a-dea6-e759be3dc656"
   },
   "outputs": [
    {
     "data": {
      "text/plain": [
       "(<tf.Tensor: shape=(1, 7, 768), dtype=float32, numpy=\n",
       " array([[[-0.90135163, -0.36611202, -0.8293169 , ..., -1.3423055 ,\n",
       "          -0.63330555,  0.7763298 ],\n",
       "         [-0.90135163, -0.36611202, -0.8293169 , ..., -1.3423058 ,\n",
       "          -0.63330555,  0.7763298 ],\n",
       "         [-0.90135163, -0.36611205, -0.8293169 , ..., -1.3423057 ,\n",
       "          -0.63330555,  0.7763298 ],\n",
       "         ...,\n",
       "         [-0.9013517 , -0.36611208, -0.82931703, ..., -1.3423059 ,\n",
       "          -0.6333056 ,  0.7763299 ],\n",
       "         [-0.9013517 , -0.36611208, -0.829317  , ..., -1.3423058 ,\n",
       "          -0.63330555,  0.7763298 ],\n",
       "         [-0.9013517 , -0.3661121 , -0.82931703, ..., -1.3423059 ,\n",
       "          -0.63330567,  0.77632993]]], dtype=float32)>,\n",
       " <tf.Tensor: shape=(1, 768), dtype=float32, numpy=\n",
       " array([[ 0.9995793 ,  0.9995571 , -0.99844664,  0.9998438 , -0.9962863 ,\n",
       "          0.99873996, -0.99675786,  0.44712365, -0.9995195 , -0.9978436 ,\n",
       "         -0.99935085, -0.9998417 , -0.99845624, -0.9995861 ,  0.99994373,\n",
       "          0.999947  , -0.99675035, -0.9998821 , -0.9998732 , -0.9989714 ,\n",
       "          0.9998252 ,  0.99930495,  0.9997314 , -0.9996915 , -0.99997205,\n",
       "          0.999683  , -0.99869514,  0.99963206,  0.9996472 , -0.99934256,\n",
       "         -0.999475  ,  0.99950475, -0.9982631 ,  0.99938035,  0.9998553 ,\n",
       "         -0.9997205 , -0.9992759 ,  0.99799347, -0.9999634 , -0.99985236,\n",
       "          0.9994909 ,  0.9990127 , -0.99475586, -0.9999532 , -0.99888974,\n",
       "          0.997856  , -0.9995868 ,  0.19670485, -0.9977867 ,  0.9998362 ,\n",
       "          0.9998801 ,  0.9994365 , -0.9995844 ,  0.9997012 , -0.07605962,\n",
       "          0.9995278 , -0.99990284,  0.99903315,  0.99980164,  0.9988879 ,\n",
       "         -0.9996948 , -0.99994624,  0.99935156,  0.9999561 , -0.9962159 ,\n",
       "         -0.99994546, -0.9999339 ,  0.9973894 , -0.99840486,  0.9993226 ,\n",
       "          0.9999267 ,  0.9979924 , -0.999968  , -0.9993326 , -0.9996473 ,\n",
       "          0.99737775, -0.9999322 ,  0.9996513 , -0.99772686,  0.99613655,\n",
       "          0.9999265 , -0.9914539 , -0.99906194,  0.999412  ,  0.9998784 ,\n",
       "          0.99963003, -0.28016222,  0.9978488 , -0.999846  ,  0.99960226,\n",
       "         -0.9998461 ,  0.9788156 ,  0.9999274 , -0.99993676, -0.9997786 ,\n",
       "          0.9995789 , -0.9977177 , -0.999784  , -0.9994367 , -0.99907434,\n",
       "         -0.9999086 , -0.9966279 , -0.99964947,  0.9997184 ,  0.99963695,\n",
       "         -0.9998843 , -0.9999682 ,  0.9999939 ,  0.99996597, -0.9969438 ,\n",
       "         -0.9996881 , -0.9998974 , -0.99988973,  0.99970484, -0.9987118 ,\n",
       "         -0.17091085, -0.9984727 ,  0.9983003 , -0.28620017, -0.99995184,\n",
       "         -0.9972406 ,  0.99969614,  0.98496914, -0.99966496, -0.99974966,\n",
       "          0.99975324,  0.9999438 ,  0.9995379 , -0.99988437, -0.9999662 ,\n",
       "          0.9999885 ,  0.99990964, -0.99892914, -0.998565  ,  0.9989983 ,\n",
       "          0.99991465,  0.9998432 , -0.9999476 ,  0.9997953 , -0.99909306,\n",
       "         -0.99859923,  0.99921006, -0.9997434 , -0.99915546,  0.99965006,\n",
       "          0.998928  , -0.05304102, -0.9999508 , -0.9994389 ,  0.04989666,\n",
       "         -0.9987433 , -0.9999574 , -0.9929044 , -0.99990445, -0.9997082 ,\n",
       "          0.9991451 , -0.9955825 , -0.9976785 , -0.9998448 , -0.99986714,\n",
       "          0.9998315 , -0.9994272 , -0.99992734,  0.9997533 ,  0.99923056,\n",
       "         -0.99982345, -0.9996339 , -0.9998901 , -0.999037  , -0.9996262 ,\n",
       "          0.99934125, -0.9977044 , -0.99841905, -0.9994566 ,  0.999359  ,\n",
       "          0.99960726, -0.99570304,  0.9998259 ,  0.9940347 ,  0.9974387 ,\n",
       "          0.99982196,  0.99966645, -0.99983466,  0.99984074, -0.9995401 ,\n",
       "          0.99928457, -0.99977046, -0.9996068 , -0.99979794, -0.9997261 ,\n",
       "         -0.9998923 , -0.99960715,  0.9994236 ,  0.99900657,  0.9985114 ,\n",
       "         -0.99995977, -0.9978466 ,  0.99972767, -0.9984233 , -0.1506859 ,\n",
       "          0.9997119 , -0.9989839 ,  0.99985236, -0.9997855 ,  0.99946827,\n",
       "          0.9979591 ,  0.99822325, -0.9993954 ,  0.9998686 ,  0.9719745 ,\n",
       "          0.99987876,  0.99948394, -0.99960107,  0.99996424, -0.9994588 ,\n",
       "         -0.99951214, -0.99967486,  0.5033886 ,  0.999947  , -0.9998109 ,\n",
       "          0.9998951 , -0.9992122 ,  0.99925196, -0.99924624, -0.9999927 ,\n",
       "         -0.9998943 , -0.9997625 ,  0.9980309 , -0.9999163 ,  0.99996275,\n",
       "          0.9991198 ,  0.9981053 ,  0.9953871 ,  0.9999389 , -0.9991466 ,\n",
       "          0.99960405,  0.99928147,  0.9998619 , -0.99925596,  0.9993893 ,\n",
       "         -0.99914825,  0.99984735, -0.99956226, -0.9993855 , -0.99973714,\n",
       "         -0.99988043, -0.9999537 , -0.9997597 , -0.99946135, -0.99954057,\n",
       "          0.98470616, -0.9996616 ,  0.9990167 ,  0.99959147,  0.9997182 ,\n",
       "         -0.21916483, -0.9995426 , -0.999388  , -0.99984354,  0.9999413 ,\n",
       "         -0.9998673 ,  0.99900436, -0.9961902 ,  0.9995474 ,  0.99984753,\n",
       "          0.99895084, -0.9997802 ,  0.99927497,  0.9995273 ,  0.9996998 ,\n",
       "          0.9992296 ,  0.99736345, -0.9997233 ,  0.99849397,  0.9991399 ,\n",
       "          0.999953  ,  0.99939233, -0.9998726 ,  0.9973192 , -0.9998599 ,\n",
       "         -0.99922574,  0.99976563, -0.9999796 ,  0.99994135,  0.9997201 ,\n",
       "          0.9998016 , -0.9978435 , -0.9997003 ,  0.34211513,  0.9921599 ,\n",
       "          0.9994109 , -0.9996905 , -0.98910683,  0.10681991,  0.33915848,\n",
       "         -0.9997424 , -0.9999465 , -0.9998005 ,  0.9997917 , -0.9997573 ,\n",
       "          0.99796486,  0.99992585, -0.9992041 ,  0.99983305,  0.99909335,\n",
       "          0.9999249 , -0.9998329 , -0.99921983,  0.9996664 ,  0.9994463 ,\n",
       "          0.99977225,  0.9993554 , -0.25172272, -0.9974467 , -0.99921155,\n",
       "          0.99980384, -0.14929563,  0.9925925 , -0.9986787 , -0.9994059 ,\n",
       "          0.9997641 ,  0.9995784 ,  0.99995744,  0.9989072 , -0.9956245 ,\n",
       "          0.9999195 ,  0.99962485, -0.99679106, -0.99988455, -0.9995247 ,\n",
       "          0.9987052 , -0.99984485, -0.99901325,  0.9992684 , -0.9999299 ,\n",
       "          0.9996107 , -0.9993256 , -0.99989325, -0.9986598 , -0.9997628 ,\n",
       "          0.999819  , -0.99966466, -0.9994432 , -0.9966001 ,  0.9920668 ,\n",
       "          0.99677074, -0.9983301 , -0.99979824,  0.99973094,  0.9995612 ,\n",
       "         -0.99789155,  0.99973637, -0.09617023, -0.99989146,  0.99933356,\n",
       "          0.9933921 , -0.99991643, -0.9998303 ,  0.9995775 , -0.9999014 ,\n",
       "          0.9998463 , -0.99989533,  0.99993676, -0.999554  , -0.9998229 ,\n",
       "         -0.9995717 ,  0.99983156,  0.99971765, -0.999816  , -0.9997573 ,\n",
       "          0.9996405 ,  0.99997133,  0.99973285,  0.9995015 ,  0.99991614,\n",
       "         -0.99944115, -0.99961907, -0.0815576 ,  0.9997448 ,  0.9997413 ,\n",
       "          0.99972105, -0.9984444 ,  0.9957209 , -0.11258016, -0.99992913,\n",
       "          0.99971366,  0.9983184 ,  0.99992883,  0.9977284 ,  0.99997705,\n",
       "         -0.9984448 , -0.9999496 , -0.9990404 , -0.99989265, -0.99954903,\n",
       "          0.9996736 , -0.9992372 , -0.9997636 , -0.9997921 , -0.99979347,\n",
       "         -0.99998707, -0.9998908 , -0.9932888 , -0.9997774 , -0.99868226,\n",
       "          0.9940664 ,  0.999666  , -0.99817723, -0.9998766 , -0.9997432 ,\n",
       "         -0.99954176, -0.9927436 , -0.9996353 , -0.99947095,  0.9997443 ,\n",
       "         -0.99995315, -0.99959517,  0.99997365,  0.99987775,  0.99964774,\n",
       "          0.9993922 , -0.9992423 ,  0.99976707, -0.99956894, -0.9997399 ,\n",
       "         -0.99947894, -0.9989461 ,  0.99994993,  0.9998861 ,  0.9977393 ,\n",
       "         -0.9998955 , -0.99950063,  0.9999576 , -0.9986406 , -0.9997328 ,\n",
       "         -0.9994611 , -0.9999423 ,  0.99934477,  0.99944896, -0.9998261 ,\n",
       "         -0.9973541 , -0.99914443,  0.99912345, -0.998716  , -0.99911505,\n",
       "          0.999565  ,  0.99930644, -0.9994523 ,  0.9999688 , -0.9992564 ,\n",
       "          0.9998152 , -0.999589  ,  0.99494046, -0.9994294 , -0.9989631 ,\n",
       "         -0.99953955,  0.9995941 , -0.9989607 , -0.99362665,  0.15271294,\n",
       "          0.9997424 ,  0.9714557 ,  0.99973786,  0.9999831 ,  0.9992454 ,\n",
       "         -0.99556565,  0.8306518 , -0.9993224 , -0.99939704, -0.99961746,\n",
       "         -0.9936993 ,  0.99741447,  0.9982836 ,  0.99639416,  0.9999791 ,\n",
       "          0.9996714 ,  0.9995637 , -0.9999816 , -0.99630904, -0.9989951 ,\n",
       "         -0.99907607, -0.9939317 , -0.9999119 , -0.9770516 ,  0.9850932 ,\n",
       "          0.99820995,  0.9972104 , -0.21229185,  0.99976456, -0.999803  ,\n",
       "          0.99608856, -0.9994191 ,  0.99416405, -0.99986196,  0.9985619 ,\n",
       "         -0.9999506 , -0.9991341 ,  0.999341  , -0.99976325,  0.99983597,\n",
       "         -0.99797916,  0.99897087, -0.9999001 ,  0.99944395, -0.999538  ,\n",
       "         -0.9998301 , -0.99804854,  0.99952537, -0.99800754,  0.99925673,\n",
       "         -0.99990696, -0.99996376,  0.9997413 , -0.9991232 , -0.99887574,\n",
       "         -0.9990502 , -0.99985844,  0.9997063 ,  0.9999206 ,  0.9999383 ,\n",
       "          0.9911823 , -0.9991203 , -0.9998898 ,  0.99635744, -0.99988395,\n",
       "         -0.99824584, -0.998484  , -0.99843156, -0.99988794,  0.9997223 ,\n",
       "         -0.99907196,  0.9998672 , -0.99945426,  0.9994521 ,  0.99941593,\n",
       "          0.99979734,  0.9993573 , -0.99867386,  0.9996582 , -0.99831367,\n",
       "          0.9985467 ,  0.9980534 ,  0.9995309 ,  0.9991401 ,  0.9998247 ,\n",
       "          0.9998827 , -0.99994445,  0.99977833,  0.9997988 ,  0.9962993 ,\n",
       "          0.9997859 ,  0.99978924, -0.9999428 , -0.9991649 , -0.9998695 ,\n",
       "         -0.99852914,  0.9952792 ,  0.99912137, -0.99934536,  0.9999286 ,\n",
       "          0.99966925,  0.99841946, -0.9999794 , -0.9967662 , -0.9998396 ,\n",
       "         -0.99378735, -0.9990407 ,  0.99892616,  0.9989636 , -0.99916947,\n",
       "         -0.9974363 ,  0.9996364 , -0.9999605 ,  0.99915767,  0.9996423 ,\n",
       "         -0.9999137 ,  0.9998695 , -0.99956614, -0.995867  ,  0.99908733,\n",
       "          0.9955508 , -0.99983686, -0.99962187,  0.9994617 ,  0.9996118 ,\n",
       "         -0.99825186,  0.99471456, -0.99817485,  0.99992347,  0.99982214,\n",
       "          0.9995114 , -0.999882  ,  0.9999818 , -0.99996245,  0.05769639,\n",
       "          0.9997444 ,  0.99982804, -0.99965495, -0.9993347 ,  0.9999424 ,\n",
       "         -0.99314255, -0.99972326, -0.9942251 , -0.9998667 , -0.9992546 ,\n",
       "         -0.99750847,  0.9998352 , -0.9996901 , -0.9982677 ,  0.9995136 ,\n",
       "          0.999665  ,  0.9994619 , -0.9998878 ,  0.99971163, -0.9991924 ,\n",
       "         -0.9994577 ,  0.9990703 ,  0.9999071 , -0.9984668 ,  0.99990577,\n",
       "          0.99897534, -0.9954759 , -0.99987966, -0.99750924, -0.99997306,\n",
       "          0.9999647 , -0.9996523 ,  0.99988085, -0.99988604, -0.9995877 ,\n",
       "         -0.04239272, -0.99080503, -0.9999645 , -0.99128157,  0.9999027 ,\n",
       "         -0.9998999 ,  0.9995885 ,  0.99996233, -0.99984413,  0.99828184,\n",
       "          0.9998535 , -0.9999381 ,  0.9957894 , -0.9983323 , -0.99937004,\n",
       "         -0.9982452 ,  0.99891335, -0.9996318 , -0.9996983 ,  0.99993736,\n",
       "         -0.9999162 ,  0.99805903,  0.99968827, -0.9993423 , -0.99920267,\n",
       "         -0.99979085,  0.9989303 ,  0.13932455,  0.9998291 , -0.99983805,\n",
       "          0.99987984, -0.9999344 ,  0.9999404 , -0.9997914 , -0.99986905,\n",
       "          0.9998866 , -0.9919018 , -0.9996228 ,  0.99931926,  0.9996915 ,\n",
       "         -0.9997643 ,  0.9995626 , -0.998744  ,  0.99964595, -0.9997405 ,\n",
       "          0.9997238 ,  0.9995423 ,  0.99993175, -0.99985945, -0.9999663 ,\n",
       "         -0.99639124, -0.99952793,  0.999457  , -0.99683607,  0.9993179 ,\n",
       "         -0.99958616, -0.99524766, -0.9995784 , -0.9999282 ,  0.99931026,\n",
       "         -0.9999371 , -0.9998427 , -0.99885654, -0.99743253,  0.9999576 ,\n",
       "         -0.99976116, -0.99792045, -0.9996474 , -0.99967986,  0.9987964 ,\n",
       "          0.9994865 ,  0.999788  ,  0.99931866,  0.9995884 ,  0.99966645,\n",
       "          0.99960464,  0.99978745,  0.9995679 , -0.99993324,  0.99949604,\n",
       "         -0.99986726, -0.9995589 , -0.99701023, -0.9951803 , -0.99778646,\n",
       "         -0.9999372 ,  0.9998843 , -0.9716607 , -0.9997249 , -0.9990347 ,\n",
       "         -0.99771404,  0.9997637 , -0.99888223,  0.99986255,  0.9991292 ,\n",
       "          0.99963987, -0.99985546, -0.99952286,  0.9996974 , -0.9999611 ,\n",
       "          0.99969697,  0.07771453, -0.99988323, -0.9999253 , -0.9999348 ,\n",
       "         -0.9995195 ,  0.99895585,  0.9993359 ,  0.9832266 , -0.9999593 ,\n",
       "          0.9999693 , -0.9973023 ,  0.99984044, -0.99914056, -0.99982446,\n",
       "         -0.9998777 ,  0.99994195, -0.9926441 ,  0.05160004, -0.99901634,\n",
       "         -0.9998507 ,  0.99967384, -0.99837327, -0.9995255 , -0.99992824,\n",
       "          0.9996064 , -0.40543947,  0.9945853 ,  0.9996245 ,  0.99975646,\n",
       "         -0.9997283 , -0.10870507,  0.9995896 ,  0.99973935, -0.99949825,\n",
       "          0.9991175 ,  0.999882  ,  0.99982035]], dtype=float32)>)"
      ]
     },
     "execution_count": 34,
     "metadata": {
      "tags": []
     },
     "output_type": "execute_result"
    }
   ],
   "source": [
    "outputs"
   ]
  }
 ],
 "metadata": {
  "accelerator": "GPU",
  "colab": {
   "collapsed_sections": [],
   "include_colab_link": true,
   "name": "Chap_7_transformers_bert_Bangla-extended.ipynb",
   "provenance": []
  },
  "kernelspec": {
   "display_name": "Python 3",
   "name": "python3"
  },
  "widgets": {
   "application/vnd.jupyter.widget-state+json": {
    "12cf4ca6fb5f4c57bce1bd6c4f7c1e7b": {
     "model_module": "@jupyter-widgets/base",
     "model_name": "LayoutModel",
     "state": {
      "_model_module": "@jupyter-widgets/base",
      "_model_module_version": "1.2.0",
      "_model_name": "LayoutModel",
      "_view_count": null,
      "_view_module": "@jupyter-widgets/base",
      "_view_module_version": "1.2.0",
      "_view_name": "LayoutView",
      "align_content": null,
      "align_items": null,
      "align_self": null,
      "border": null,
      "bottom": null,
      "display": null,
      "flex": null,
      "flex_flow": null,
      "grid_area": null,
      "grid_auto_columns": null,
      "grid_auto_flow": null,
      "grid_auto_rows": null,
      "grid_column": null,
      "grid_gap": null,
      "grid_row": null,
      "grid_template_areas": null,
      "grid_template_columns": null,
      "grid_template_rows": null,
      "height": null,
      "justify_content": null,
      "justify_items": null,
      "left": null,
      "margin": null,
      "max_height": null,
      "max_width": null,
      "min_height": null,
      "min_width": null,
      "object_fit": null,
      "object_position": null,
      "order": null,
      "overflow": null,
      "overflow_x": null,
      "overflow_y": null,
      "padding": null,
      "right": null,
      "top": null,
      "visibility": null,
      "width": null
     }
    },
    "16ce5786f4b84de49ebaee9afb8b5a25": {
     "model_module": "@jupyter-widgets/base",
     "model_name": "LayoutModel",
     "state": {
      "_model_module": "@jupyter-widgets/base",
      "_model_module_version": "1.2.0",
      "_model_name": "LayoutModel",
      "_view_count": null,
      "_view_module": "@jupyter-widgets/base",
      "_view_module_version": "1.2.0",
      "_view_name": "LayoutView",
      "align_content": null,
      "align_items": null,
      "align_self": null,
      "border": null,
      "bottom": null,
      "display": null,
      "flex": null,
      "flex_flow": null,
      "grid_area": null,
      "grid_auto_columns": null,
      "grid_auto_flow": null,
      "grid_auto_rows": null,
      "grid_column": null,
      "grid_gap": null,
      "grid_row": null,
      "grid_template_areas": null,
      "grid_template_columns": null,
      "grid_template_rows": null,
      "height": null,
      "justify_content": null,
      "justify_items": null,
      "left": null,
      "margin": null,
      "max_height": null,
      "max_width": null,
      "min_height": null,
      "min_width": null,
      "object_fit": null,
      "object_position": null,
      "order": null,
      "overflow": null,
      "overflow_x": null,
      "overflow_y": null,
      "padding": null,
      "right": null,
      "top": null,
      "visibility": null,
      "width": null
     }
    },
    "1ca10ee6ac32426d8a0e6c97ae71058b": {
     "model_module": "@jupyter-widgets/base",
     "model_name": "LayoutModel",
     "state": {
      "_model_module": "@jupyter-widgets/base",
      "_model_module_version": "1.2.0",
      "_model_name": "LayoutModel",
      "_view_count": null,
      "_view_module": "@jupyter-widgets/base",
      "_view_module_version": "1.2.0",
      "_view_name": "LayoutView",
      "align_content": null,
      "align_items": null,
      "align_self": null,
      "border": null,
      "bottom": null,
      "display": null,
      "flex": null,
      "flex_flow": null,
      "grid_area": null,
      "grid_auto_columns": null,
      "grid_auto_flow": null,
      "grid_auto_rows": null,
      "grid_column": null,
      "grid_gap": null,
      "grid_row": null,
      "grid_template_areas": null,
      "grid_template_columns": null,
      "grid_template_rows": null,
      "height": null,
      "justify_content": null,
      "justify_items": null,
      "left": null,
      "margin": null,
      "max_height": null,
      "max_width": null,
      "min_height": null,
      "min_width": null,
      "object_fit": null,
      "object_position": null,
      "order": null,
      "overflow": null,
      "overflow_x": null,
      "overflow_y": null,
      "padding": null,
      "right": null,
      "top": null,
      "visibility": null,
      "width": null
     }
    },
    "30fb98240aeb43f6845e7e9bbccab84d": {
     "model_module": "@jupyter-widgets/controls",
     "model_name": "DescriptionStyleModel",
     "state": {
      "_model_module": "@jupyter-widgets/controls",
      "_model_module_version": "1.5.0",
      "_model_name": "DescriptionStyleModel",
      "_view_count": null,
      "_view_module": "@jupyter-widgets/base",
      "_view_module_version": "1.2.0",
      "_view_name": "StyleView",
      "description_width": ""
     }
    },
    "331630c958ef45848ceadb9bcb0de559": {
     "model_module": "@jupyter-widgets/controls",
     "model_name": "FloatProgressModel",
     "state": {
      "_dom_classes": [],
      "_model_module": "@jupyter-widgets/controls",
      "_model_module_version": "1.5.0",
      "_model_name": "FloatProgressModel",
      "_view_count": null,
      "_view_module": "@jupyter-widgets/controls",
      "_view_module_version": "1.5.0",
      "_view_name": "ProgressView",
      "bar_style": "success",
      "description": "Downloading: 100%",
      "description_tooltip": null,
      "layout": "IPY_MODEL_1ca10ee6ac32426d8a0e6c97ae71058b",
      "max": 491,
      "min": 0,
      "orientation": "horizontal",
      "style": "IPY_MODEL_be1e457324cc4df2ae14934f32cbb5ed",
      "value": 491
     }
    },
    "47310dbad9d5419fa8b644f52d8c329c": {
     "model_module": "@jupyter-widgets/controls",
     "model_name": "ProgressStyleModel",
     "state": {
      "_model_module": "@jupyter-widgets/controls",
      "_model_module_version": "1.5.0",
      "_model_name": "ProgressStyleModel",
      "_view_count": null,
      "_view_module": "@jupyter-widgets/base",
      "_view_module_version": "1.2.0",
      "_view_name": "StyleView",
      "bar_color": null,
      "description_width": "initial"
     }
    },
    "4b6b8f51038441fea1f1651f7458f08a": {
     "model_module": "@jupyter-widgets/controls",
     "model_name": "HTMLModel",
     "state": {
      "_dom_classes": [],
      "_model_module": "@jupyter-widgets/controls",
      "_model_module_version": "1.5.0",
      "_model_name": "HTMLModel",
      "_view_count": null,
      "_view_module": "@jupyter-widgets/controls",
      "_view_module_version": "1.5.0",
      "_view_name": "HTMLView",
      "description": "",
      "description_tooltip": null,
      "layout": "IPY_MODEL_658812e1a51144fb9a3651c80838f372",
      "placeholder": "​",
      "style": "IPY_MODEL_30fb98240aeb43f6845e7e9bbccab84d",
      "value": " 2.24M/2.24M [00:00&lt;00:00, 10.7MB/s]"
     }
    },
    "658812e1a51144fb9a3651c80838f372": {
     "model_module": "@jupyter-widgets/base",
     "model_name": "LayoutModel",
     "state": {
      "_model_module": "@jupyter-widgets/base",
      "_model_module_version": "1.2.0",
      "_model_name": "LayoutModel",
      "_view_count": null,
      "_view_module": "@jupyter-widgets/base",
      "_view_module_version": "1.2.0",
      "_view_name": "LayoutView",
      "align_content": null,
      "align_items": null,
      "align_self": null,
      "border": null,
      "bottom": null,
      "display": null,
      "flex": null,
      "flex_flow": null,
      "grid_area": null,
      "grid_auto_columns": null,
      "grid_auto_flow": null,
      "grid_auto_rows": null,
      "grid_column": null,
      "grid_gap": null,
      "grid_row": null,
      "grid_template_areas": null,
      "grid_template_columns": null,
      "grid_template_rows": null,
      "height": null,
      "justify_content": null,
      "justify_items": null,
      "left": null,
      "margin": null,
      "max_height": null,
      "max_width": null,
      "min_height": null,
      "min_width": null,
      "object_fit": null,
      "object_position": null,
      "order": null,
      "overflow": null,
      "overflow_x": null,
      "overflow_y": null,
      "padding": null,
      "right": null,
      "top": null,
      "visibility": null,
      "width": null
     }
    },
    "7a68c37cbb154c5cb1eab3994264f37f": {
     "model_module": "@jupyter-widgets/controls",
     "model_name": "HBoxModel",
     "state": {
      "_dom_classes": [],
      "_model_module": "@jupyter-widgets/controls",
      "_model_module_version": "1.5.0",
      "_model_name": "HBoxModel",
      "_view_count": null,
      "_view_module": "@jupyter-widgets/controls",
      "_view_module_version": "1.5.0",
      "_view_name": "HBoxView",
      "box_style": "",
      "children": [
       "IPY_MODEL_331630c958ef45848ceadb9bcb0de559",
       "IPY_MODEL_d5496ac14efc4beeaa4470bcfbca6929"
      ],
      "layout": "IPY_MODEL_12cf4ca6fb5f4c57bce1bd6c4f7c1e7b"
     }
    },
    "89c19e429d16435a91e1cdbcc60648ff": {
     "model_module": "@jupyter-widgets/base",
     "model_name": "LayoutModel",
     "state": {
      "_model_module": "@jupyter-widgets/base",
      "_model_module_version": "1.2.0",
      "_model_name": "LayoutModel",
      "_view_count": null,
      "_view_module": "@jupyter-widgets/base",
      "_view_module_version": "1.2.0",
      "_view_name": "LayoutView",
      "align_content": null,
      "align_items": null,
      "align_self": null,
      "border": null,
      "bottom": null,
      "display": null,
      "flex": null,
      "flex_flow": null,
      "grid_area": null,
      "grid_auto_columns": null,
      "grid_auto_flow": null,
      "grid_auto_rows": null,
      "grid_column": null,
      "grid_gap": null,
      "grid_row": null,
      "grid_template_areas": null,
      "grid_template_columns": null,
      "grid_template_rows": null,
      "height": null,
      "justify_content": null,
      "justify_items": null,
      "left": null,
      "margin": null,
      "max_height": null,
      "max_width": null,
      "min_height": null,
      "min_width": null,
      "object_fit": null,
      "object_position": null,
      "order": null,
      "overflow": null,
      "overflow_x": null,
      "overflow_y": null,
      "padding": null,
      "right": null,
      "top": null,
      "visibility": null,
      "width": null
     }
    },
    "8c40b8abd0884b899be4fa1fe1c0290d": {
     "model_module": "@jupyter-widgets/controls",
     "model_name": "HBoxModel",
     "state": {
      "_dom_classes": [],
      "_model_module": "@jupyter-widgets/controls",
      "_model_module_version": "1.5.0",
      "_model_name": "HBoxModel",
      "_view_count": null,
      "_view_module": "@jupyter-widgets/controls",
      "_view_module_version": "1.5.0",
      "_view_name": "HBoxView",
      "box_style": "",
      "children": [
       "IPY_MODEL_be1f4a728fd4456190b615ca6fa767d2",
       "IPY_MODEL_fc5b0b4462b2415c9bc165055e5355ab"
      ],
      "layout": "IPY_MODEL_a41faf94d90c4b4781d821df741cccb6"
     }
    },
    "9521297e7eb342ce9caeb910ade799d7": {
     "model_module": "@jupyter-widgets/base",
     "model_name": "LayoutModel",
     "state": {
      "_model_module": "@jupyter-widgets/base",
      "_model_module_version": "1.2.0",
      "_model_name": "LayoutModel",
      "_view_count": null,
      "_view_module": "@jupyter-widgets/base",
      "_view_module_version": "1.2.0",
      "_view_name": "LayoutView",
      "align_content": null,
      "align_items": null,
      "align_self": null,
      "border": null,
      "bottom": null,
      "display": null,
      "flex": null,
      "flex_flow": null,
      "grid_area": null,
      "grid_auto_columns": null,
      "grid_auto_flow": null,
      "grid_auto_rows": null,
      "grid_column": null,
      "grid_gap": null,
      "grid_row": null,
      "grid_template_areas": null,
      "grid_template_columns": null,
      "grid_template_rows": null,
      "height": null,
      "justify_content": null,
      "justify_items": null,
      "left": null,
      "margin": null,
      "max_height": null,
      "max_width": null,
      "min_height": null,
      "min_width": null,
      "object_fit": null,
      "object_position": null,
      "order": null,
      "overflow": null,
      "overflow_x": null,
      "overflow_y": null,
      "padding": null,
      "right": null,
      "top": null,
      "visibility": null,
      "width": null
     }
    },
    "a41faf94d90c4b4781d821df741cccb6": {
     "model_module": "@jupyter-widgets/base",
     "model_name": "LayoutModel",
     "state": {
      "_model_module": "@jupyter-widgets/base",
      "_model_module_version": "1.2.0",
      "_model_name": "LayoutModel",
      "_view_count": null,
      "_view_module": "@jupyter-widgets/base",
      "_view_module_version": "1.2.0",
      "_view_name": "LayoutView",
      "align_content": null,
      "align_items": null,
      "align_self": null,
      "border": null,
      "bottom": null,
      "display": null,
      "flex": null,
      "flex_flow": null,
      "grid_area": null,
      "grid_auto_columns": null,
      "grid_auto_flow": null,
      "grid_auto_rows": null,
      "grid_column": null,
      "grid_gap": null,
      "grid_row": null,
      "grid_template_areas": null,
      "grid_template_columns": null,
      "grid_template_rows": null,
      "height": null,
      "justify_content": null,
      "justify_items": null,
      "left": null,
      "margin": null,
      "max_height": null,
      "max_width": null,
      "min_height": null,
      "min_width": null,
      "object_fit": null,
      "object_position": null,
      "order": null,
      "overflow": null,
      "overflow_x": null,
      "overflow_y": null,
      "padding": null,
      "right": null,
      "top": null,
      "visibility": null,
      "width": null
     }
    },
    "be1e457324cc4df2ae14934f32cbb5ed": {
     "model_module": "@jupyter-widgets/controls",
     "model_name": "ProgressStyleModel",
     "state": {
      "_model_module": "@jupyter-widgets/controls",
      "_model_module_version": "1.5.0",
      "_model_name": "ProgressStyleModel",
      "_view_count": null,
      "_view_module": "@jupyter-widgets/base",
      "_view_module_version": "1.2.0",
      "_view_name": "StyleView",
      "bar_color": null,
      "description_width": "initial"
     }
    },
    "be1f4a728fd4456190b615ca6fa767d2": {
     "model_module": "@jupyter-widgets/controls",
     "model_name": "FloatProgressModel",
     "state": {
      "_dom_classes": [],
      "_model_module": "@jupyter-widgets/controls",
      "_model_module_version": "1.5.0",
      "_model_name": "FloatProgressModel",
      "_view_count": null,
      "_view_module": "@jupyter-widgets/controls",
      "_view_module_version": "1.5.0",
      "_view_name": "ProgressView",
      "bar_style": "success",
      "description": "Downloading: 100%",
      "description_tooltip": null,
      "layout": "IPY_MODEL_f48537b0965b4c71ac5ee6537f0ac5cb",
      "max": 975649908,
      "min": 0,
      "orientation": "horizontal",
      "style": "IPY_MODEL_47310dbad9d5419fa8b644f52d8c329c",
      "value": 975649908
     }
    },
    "c54f693c5d8d41938af331e7601604c1": {
     "model_module": "@jupyter-widgets/base",
     "model_name": "LayoutModel",
     "state": {
      "_model_module": "@jupyter-widgets/base",
      "_model_module_version": "1.2.0",
      "_model_name": "LayoutModel",
      "_view_count": null,
      "_view_module": "@jupyter-widgets/base",
      "_view_module_version": "1.2.0",
      "_view_name": "LayoutView",
      "align_content": null,
      "align_items": null,
      "align_self": null,
      "border": null,
      "bottom": null,
      "display": null,
      "flex": null,
      "flex_flow": null,
      "grid_area": null,
      "grid_auto_columns": null,
      "grid_auto_flow": null,
      "grid_auto_rows": null,
      "grid_column": null,
      "grid_gap": null,
      "grid_row": null,
      "grid_template_areas": null,
      "grid_template_columns": null,
      "grid_template_rows": null,
      "height": null,
      "justify_content": null,
      "justify_items": null,
      "left": null,
      "margin": null,
      "max_height": null,
      "max_width": null,
      "min_height": null,
      "min_width": null,
      "object_fit": null,
      "object_position": null,
      "order": null,
      "overflow": null,
      "overflow_x": null,
      "overflow_y": null,
      "padding": null,
      "right": null,
      "top": null,
      "visibility": null,
      "width": null
     }
    },
    "ca04439df1d84be38b082f178d9949f1": {
     "model_module": "@jupyter-widgets/controls",
     "model_name": "DescriptionStyleModel",
     "state": {
      "_model_module": "@jupyter-widgets/controls",
      "_model_module_version": "1.5.0",
      "_model_name": "DescriptionStyleModel",
      "_view_count": null,
      "_view_module": "@jupyter-widgets/base",
      "_view_module_version": "1.2.0",
      "_view_name": "StyleView",
      "description_width": ""
     }
    },
    "cba428b9ec044d94b89b28356a2309b9": {
     "model_module": "@jupyter-widgets/controls",
     "model_name": "FloatProgressModel",
     "state": {
      "_dom_classes": [],
      "_model_module": "@jupyter-widgets/controls",
      "_model_module_version": "1.5.0",
      "_model_name": "FloatProgressModel",
      "_view_count": null,
      "_view_module": "@jupyter-widgets/controls",
      "_view_module_version": "1.5.0",
      "_view_name": "ProgressView",
      "bar_style": "success",
      "description": "Downloading: 100%",
      "description_tooltip": null,
      "layout": "IPY_MODEL_16ce5786f4b84de49ebaee9afb8b5a25",
      "max": 2237676,
      "min": 0,
      "orientation": "horizontal",
      "style": "IPY_MODEL_f966c96ec6124fd6bbd992e719668bd7",
      "value": 2237676
     }
    },
    "d5496ac14efc4beeaa4470bcfbca6929": {
     "model_module": "@jupyter-widgets/controls",
     "model_name": "HTMLModel",
     "state": {
      "_dom_classes": [],
      "_model_module": "@jupyter-widgets/controls",
      "_model_module_version": "1.5.0",
      "_model_name": "HTMLModel",
      "_view_count": null,
      "_view_module": "@jupyter-widgets/controls",
      "_view_module_version": "1.5.0",
      "_view_name": "HTMLView",
      "description": "",
      "description_tooltip": null,
      "layout": "IPY_MODEL_89c19e429d16435a91e1cdbcc60648ff",
      "placeholder": "​",
      "style": "IPY_MODEL_fff4e5081aaf40c39ed3007695d93de6",
      "value": " 491/491 [00:00&lt;00:00, 7.82kB/s]"
     }
    },
    "e6f144bbbee9430a816322b57efcf33b": {
     "model_module": "@jupyter-widgets/controls",
     "model_name": "HBoxModel",
     "state": {
      "_dom_classes": [],
      "_model_module": "@jupyter-widgets/controls",
      "_model_module_version": "1.5.0",
      "_model_name": "HBoxModel",
      "_view_count": null,
      "_view_module": "@jupyter-widgets/controls",
      "_view_module_version": "1.5.0",
      "_view_name": "HBoxView",
      "box_style": "",
      "children": [
       "IPY_MODEL_cba428b9ec044d94b89b28356a2309b9",
       "IPY_MODEL_4b6b8f51038441fea1f1651f7458f08a"
      ],
      "layout": "IPY_MODEL_c54f693c5d8d41938af331e7601604c1"
     }
    },
    "f48537b0965b4c71ac5ee6537f0ac5cb": {
     "model_module": "@jupyter-widgets/base",
     "model_name": "LayoutModel",
     "state": {
      "_model_module": "@jupyter-widgets/base",
      "_model_module_version": "1.2.0",
      "_model_name": "LayoutModel",
      "_view_count": null,
      "_view_module": "@jupyter-widgets/base",
      "_view_module_version": "1.2.0",
      "_view_name": "LayoutView",
      "align_content": null,
      "align_items": null,
      "align_self": null,
      "border": null,
      "bottom": null,
      "display": null,
      "flex": null,
      "flex_flow": null,
      "grid_area": null,
      "grid_auto_columns": null,
      "grid_auto_flow": null,
      "grid_auto_rows": null,
      "grid_column": null,
      "grid_gap": null,
      "grid_row": null,
      "grid_template_areas": null,
      "grid_template_columns": null,
      "grid_template_rows": null,
      "height": null,
      "justify_content": null,
      "justify_items": null,
      "left": null,
      "margin": null,
      "max_height": null,
      "max_width": null,
      "min_height": null,
      "min_width": null,
      "object_fit": null,
      "object_position": null,
      "order": null,
      "overflow": null,
      "overflow_x": null,
      "overflow_y": null,
      "padding": null,
      "right": null,
      "top": null,
      "visibility": null,
      "width": null
     }
    },
    "f966c96ec6124fd6bbd992e719668bd7": {
     "model_module": "@jupyter-widgets/controls",
     "model_name": "ProgressStyleModel",
     "state": {
      "_model_module": "@jupyter-widgets/controls",
      "_model_module_version": "1.5.0",
      "_model_name": "ProgressStyleModel",
      "_view_count": null,
      "_view_module": "@jupyter-widgets/base",
      "_view_module_version": "1.2.0",
      "_view_name": "StyleView",
      "bar_color": null,
      "description_width": "initial"
     }
    },
    "fc5b0b4462b2415c9bc165055e5355ab": {
     "model_module": "@jupyter-widgets/controls",
     "model_name": "HTMLModel",
     "state": {
      "_dom_classes": [],
      "_model_module": "@jupyter-widgets/controls",
      "_model_module_version": "1.5.0",
      "_model_name": "HTMLModel",
      "_view_count": null,
      "_view_module": "@jupyter-widgets/controls",
      "_view_module_version": "1.5.0",
      "_view_name": "HTMLView",
      "description": "",
      "description_tooltip": null,
      "layout": "IPY_MODEL_9521297e7eb342ce9caeb910ade799d7",
      "placeholder": "​",
      "style": "IPY_MODEL_ca04439df1d84be38b082f178d9949f1",
      "value": " 976M/976M [00:25&lt;00:00, 38.4MB/s]"
     }
    },
    "fff4e5081aaf40c39ed3007695d93de6": {
     "model_module": "@jupyter-widgets/controls",
     "model_name": "DescriptionStyleModel",
     "state": {
      "_model_module": "@jupyter-widgets/controls",
      "_model_module_version": "1.5.0",
      "_model_name": "DescriptionStyleModel",
      "_view_count": null,
      "_view_module": "@jupyter-widgets/base",
      "_view_module_version": "1.2.0",
      "_view_name": "StyleView",
      "description_width": ""
     }
    }
   }
  }
 },
 "nbformat": 4,
 "nbformat_minor": 0
}
